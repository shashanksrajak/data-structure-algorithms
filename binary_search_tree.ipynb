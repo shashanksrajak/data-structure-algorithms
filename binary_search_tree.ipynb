{
  "nbformat": 4,
  "nbformat_minor": 0,
  "metadata": {
    "colab": {
      "provenance": [],
      "authorship_tag": "ABX9TyPpDCsNNNQ1cnxoqJYvZtjc",
      "include_colab_link": true
    },
    "kernelspec": {
      "name": "python3",
      "display_name": "Python 3"
    },
    "language_info": {
      "name": "python"
    }
  },
  "cells": [
    {
      "cell_type": "markdown",
      "metadata": {
        "id": "view-in-github",
        "colab_type": "text"
      },
      "source": [
        "<a href=\"https://colab.research.google.com/github/shashanksrajak/data-structure-algorithms/blob/main/binary_search_tree.ipynb\" target=\"_parent\"><img src=\"https://colab.research.google.com/assets/colab-badge.svg\" alt=\"Open In Colab\"/></a>"
      ]
    },
    {
      "cell_type": "markdown",
      "source": [
        "# Binary Search Tree\n",
        "\n",
        "![BST](https://upload.wikimedia.org/wikipedia/commons/thumb/d/da/Binary_search_tree.svg/1200px-Binary_search_tree.svg.png)\n",
        "\n",
        "Key Points\n",
        "- Special type of Binary Tree used primarily for searching elements.\n",
        "- The left side of a node contains smaller elements and right side contains larger elements.\n",
        "- No duplicates\n",
        "\n",
        "What we need to study?\n",
        "- Insertion of a node\n",
        "- Creation of BST\n",
        "- Searching a key\n",
        "- Deleting a key"
      ],
      "metadata": {
        "id": "Ie-Cx9q9PjxR"
      }
    },
    {
      "cell_type": "markdown",
      "source": [],
      "metadata": {
        "id": "iICAOl8NQXhF"
      }
    },
    {
      "cell_type": "code",
      "source": [
        "import graphviz\n",
        "from collections import deque"
      ],
      "metadata": {
        "id": "rzsbMRyOY3zE"
      },
      "execution_count": 33,
      "outputs": []
    },
    {
      "cell_type": "code",
      "execution_count": 111,
      "metadata": {
        "id": "BuU7mq25Pez7"
      },
      "outputs": [],
      "source": [
        "class Node:\n",
        "  def __init__(self, data):\n",
        "    self.data = data\n",
        "    self.left = None\n",
        "    self.right = None\n",
        "\n",
        "class BinarySearchTree:\n",
        "  def __init__(self):\n",
        "    self.root = None\n",
        "\n",
        "  def insert(self, data):\n",
        "    \"\"\"\n",
        "    We insert a node if it is not present already in the tree.\n",
        "    \"\"\"\n",
        "    node = Node(data)\n",
        "    if self.root is None:\n",
        "      # the tree is empty so we create this new node as root\n",
        "      self.root = node\n",
        "    else:\n",
        "      # once the loop is done, it means the data is not present, but we also need to keep a pointer to the last node from wehere it exited.\n",
        "      ptr = self.root\n",
        "      while ptr:\n",
        "        tail = ptr\n",
        "        if data == ptr.data:\n",
        "          raise Exception(\"Duplicate values not allowed.\")\n",
        "        elif data < ptr.data:\n",
        "          # move left\n",
        "          ptr = ptr.left\n",
        "        else:\n",
        "          # move right\n",
        "          ptr = ptr.right\n",
        "\n",
        "      # ptr has already become None, but tail is poitning to the prev position of ptr where we need to insert this data\n",
        "      if data > tail.data:\n",
        "        # insert right\n",
        "        tail.right = node\n",
        "      else:\n",
        "        # insert left\n",
        "        tail.left = node\n",
        "\n",
        "  def search(self, key):\n",
        "    \"\"\"\n",
        "    Search for a key in BST and returns it, if not found returns None\n",
        "    \"\"\"\n",
        "    ptr = self.root\n",
        "    while ptr:\n",
        "      if key == ptr.data:\n",
        "        return ptr\n",
        "      elif key < ptr.data:\n",
        "        # move left\n",
        "        ptr = ptr.left\n",
        "      else:\n",
        "        # move right\n",
        "        ptr = ptr.right\n",
        "\n",
        "    # the key was not found\n",
        "    return None"
      ]
    },
    {
      "cell_type": "code",
      "source": [
        "A = [30, 20, 40, 15, 25, 35, 50]\n"
      ],
      "metadata": {
        "id": "E-9bXI_dZEmf"
      },
      "execution_count": 112,
      "outputs": []
    },
    {
      "cell_type": "code",
      "source": [
        "bst = BinarySearchTree()\n",
        "\n",
        "# create a bst\n",
        "for a in A:\n",
        "  bst.insert(a)"
      ],
      "metadata": {
        "id": "m8SsdrPtZO5r"
      },
      "execution_count": 113,
      "outputs": []
    },
    {
      "cell_type": "code",
      "source": [
        "bst.root.data"
      ],
      "metadata": {
        "colab": {
          "base_uri": "https://localhost:8080/"
        },
        "id": "tbsPpP92Zdzj",
        "outputId": "c775b24e-fc62-4293-d89d-5437d7764107"
      },
      "execution_count": 114,
      "outputs": [
        {
          "output_type": "execute_result",
          "data": {
            "text/plain": [
              "30"
            ]
          },
          "metadata": {},
          "execution_count": 114
        }
      ]
    },
    {
      "cell_type": "code",
      "source": [
        "nodes = []\n",
        "\n",
        "def traverse_tree(node: Node):\n",
        "  if node is None:\n",
        "    return\n",
        "  nodes.append(node)\n",
        "  traverse_tree(node.left)\n",
        "  traverse_tree(node.right)\n",
        "\n",
        "\n",
        "\n",
        "def display_tree(root: Node):\n",
        "  dot = graphviz.Digraph(comment='Binary Search Tree')\n",
        "  global nodes\n",
        "  nodes = []\n",
        "  traverse_tree(root)\n",
        "\n",
        "  for node in nodes:\n",
        "    dot.node(name=str(node.data), label=str(node.data))\n",
        "\n",
        "  for node in nodes:\n",
        "    if node.left:\n",
        "      dot.edge(str(node.data), str(node.left.data))\n",
        "    if node.right:\n",
        "      dot.edge(str(node.data), str(node.right.data))\n",
        "  return dot"
      ],
      "metadata": {
        "id": "fRgbakO-ZCHY"
      },
      "execution_count": 115,
      "outputs": []
    },
    {
      "cell_type": "code",
      "source": [
        "display_tree(bst.root)"
      ],
      "metadata": {
        "colab": {
          "base_uri": "https://localhost:8080/",
          "height": 272
        },
        "id": "IBOjdxn6fkdE",
        "outputId": "598cff8c-5b4e-4d60-e6e0-9cc790d2a125"
      },
      "execution_count": 116,
      "outputs": [
        {
          "output_type": "execute_result",
          "data": {
            "image/svg+xml": "<?xml version=\"1.0\" encoding=\"UTF-8\" standalone=\"no\"?>\n<!DOCTYPE svg PUBLIC \"-//W3C//DTD SVG 1.1//EN\"\n \"http://www.w3.org/Graphics/SVG/1.1/DTD/svg11.dtd\">\n<!-- Generated by graphviz version 2.43.0 (0)\n -->\n<!-- Title: %3 Pages: 1 -->\n<svg width=\"278pt\" height=\"188pt\"\n viewBox=\"0.00 0.00 278.00 188.00\" xmlns=\"http://www.w3.org/2000/svg\" xmlns:xlink=\"http://www.w3.org/1999/xlink\">\n<g id=\"graph0\" class=\"graph\" transform=\"scale(1 1) rotate(0) translate(4 184)\">\n<title>%3</title>\n<polygon fill=\"white\" stroke=\"transparent\" points=\"-4,4 -4,-184 274,-184 274,4 -4,4\"/>\n<!-- 30 -->\n<g id=\"node1\" class=\"node\">\n<title>30</title>\n<ellipse fill=\"none\" stroke=\"black\" cx=\"135\" cy=\"-162\" rx=\"27\" ry=\"18\"/>\n<text text-anchor=\"middle\" x=\"135\" y=\"-158.3\" font-family=\"Times,serif\" font-size=\"14.00\">30</text>\n</g>\n<!-- 20 -->\n<g id=\"node2\" class=\"node\">\n<title>20</title>\n<ellipse fill=\"none\" stroke=\"black\" cx=\"99\" cy=\"-90\" rx=\"27\" ry=\"18\"/>\n<text text-anchor=\"middle\" x=\"99\" y=\"-86.3\" font-family=\"Times,serif\" font-size=\"14.00\">20</text>\n</g>\n<!-- 30&#45;&gt;20 -->\n<g id=\"edge1\" class=\"edge\">\n<title>30&#45;&gt;20</title>\n<path fill=\"none\" stroke=\"black\" d=\"M126.65,-144.76C122.29,-136.28 116.85,-125.71 111.96,-116.2\"/>\n<polygon fill=\"black\" stroke=\"black\" points=\"114.99,-114.44 107.3,-107.15 108.77,-117.64 114.99,-114.44\"/>\n</g>\n<!-- 40 -->\n<g id=\"node5\" class=\"node\">\n<title>40</title>\n<ellipse fill=\"none\" stroke=\"black\" cx=\"171\" cy=\"-90\" rx=\"27\" ry=\"18\"/>\n<text text-anchor=\"middle\" x=\"171\" y=\"-86.3\" font-family=\"Times,serif\" font-size=\"14.00\">40</text>\n</g>\n<!-- 30&#45;&gt;40 -->\n<g id=\"edge2\" class=\"edge\">\n<title>30&#45;&gt;40</title>\n<path fill=\"none\" stroke=\"black\" d=\"M143.35,-144.76C147.71,-136.28 153.15,-125.71 158.04,-116.2\"/>\n<polygon fill=\"black\" stroke=\"black\" points=\"161.23,-117.64 162.7,-107.15 155.01,-114.44 161.23,-117.64\"/>\n</g>\n<!-- 15 -->\n<g id=\"node3\" class=\"node\">\n<title>15</title>\n<ellipse fill=\"none\" stroke=\"black\" cx=\"27\" cy=\"-18\" rx=\"27\" ry=\"18\"/>\n<text text-anchor=\"middle\" x=\"27\" y=\"-14.3\" font-family=\"Times,serif\" font-size=\"14.00\">15</text>\n</g>\n<!-- 20&#45;&gt;15 -->\n<g id=\"edge3\" class=\"edge\">\n<title>20&#45;&gt;15</title>\n<path fill=\"none\" stroke=\"black\" d=\"M84.43,-74.83C74.25,-64.94 60.48,-51.55 48.97,-40.36\"/>\n<polygon fill=\"black\" stroke=\"black\" points=\"51.41,-37.85 41.8,-33.38 46.53,-42.87 51.41,-37.85\"/>\n</g>\n<!-- 25 -->\n<g id=\"node4\" class=\"node\">\n<title>25</title>\n<ellipse fill=\"none\" stroke=\"black\" cx=\"99\" cy=\"-18\" rx=\"27\" ry=\"18\"/>\n<text text-anchor=\"middle\" x=\"99\" y=\"-14.3\" font-family=\"Times,serif\" font-size=\"14.00\">25</text>\n</g>\n<!-- 20&#45;&gt;25 -->\n<g id=\"edge4\" class=\"edge\">\n<title>20&#45;&gt;25</title>\n<path fill=\"none\" stroke=\"black\" d=\"M99,-71.7C99,-63.98 99,-54.71 99,-46.11\"/>\n<polygon fill=\"black\" stroke=\"black\" points=\"102.5,-46.1 99,-36.1 95.5,-46.1 102.5,-46.1\"/>\n</g>\n<!-- 35 -->\n<g id=\"node6\" class=\"node\">\n<title>35</title>\n<ellipse fill=\"none\" stroke=\"black\" cx=\"171\" cy=\"-18\" rx=\"27\" ry=\"18\"/>\n<text text-anchor=\"middle\" x=\"171\" y=\"-14.3\" font-family=\"Times,serif\" font-size=\"14.00\">35</text>\n</g>\n<!-- 40&#45;&gt;35 -->\n<g id=\"edge5\" class=\"edge\">\n<title>40&#45;&gt;35</title>\n<path fill=\"none\" stroke=\"black\" d=\"M171,-71.7C171,-63.98 171,-54.71 171,-46.11\"/>\n<polygon fill=\"black\" stroke=\"black\" points=\"174.5,-46.1 171,-36.1 167.5,-46.1 174.5,-46.1\"/>\n</g>\n<!-- 50 -->\n<g id=\"node7\" class=\"node\">\n<title>50</title>\n<ellipse fill=\"none\" stroke=\"black\" cx=\"243\" cy=\"-18\" rx=\"27\" ry=\"18\"/>\n<text text-anchor=\"middle\" x=\"243\" y=\"-14.3\" font-family=\"Times,serif\" font-size=\"14.00\">50</text>\n</g>\n<!-- 40&#45;&gt;50 -->\n<g id=\"edge6\" class=\"edge\">\n<title>40&#45;&gt;50</title>\n<path fill=\"none\" stroke=\"black\" d=\"M185.57,-74.83C195.75,-64.94 209.52,-51.55 221.03,-40.36\"/>\n<polygon fill=\"black\" stroke=\"black\" points=\"223.47,-42.87 228.2,-33.38 218.59,-37.85 223.47,-42.87\"/>\n</g>\n</g>\n</svg>\n",
            "text/plain": [
              "<graphviz.graphs.Digraph at 0x7aeb31377cd0>"
            ]
          },
          "metadata": {},
          "execution_count": 116
        }
      ]
    },
    {
      "cell_type": "code",
      "source": [
        "bst.insert(14)"
      ],
      "metadata": {
        "id": "IyZcePCYgIOG"
      },
      "execution_count": 117,
      "outputs": []
    },
    {
      "cell_type": "code",
      "source": [
        "s = bst.search(35)\n",
        "print(s.data) if s else print(\"Not found!!!\")"
      ],
      "metadata": {
        "colab": {
          "base_uri": "https://localhost:8080/"
        },
        "id": "AtWulMFKghRG",
        "outputId": "c22aef3c-178c-43e4-9996-287f37520131"
      },
      "execution_count": 124,
      "outputs": [
        {
          "output_type": "stream",
          "name": "stdout",
          "text": [
            "35\n"
          ]
        }
      ]
    },
    {
      "cell_type": "code",
      "source": [],
      "metadata": {
        "id": "bCImgcpKjrMN"
      },
      "execution_count": null,
      "outputs": []
    }
  ]
}