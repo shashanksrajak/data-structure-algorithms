{
 "cells": [
  {
   "cell_type": "markdown",
   "metadata": {},
   "source": [
    "**Quick Sort**\n",
    "\n",
    "- most commonly used sorting algorithm\n",
    "- fast one"
   ]
  },
  {
   "cell_type": "code",
   "execution_count": 3,
   "metadata": {},
   "outputs": [],
   "source": [
    "def quicksort(array):\n",
    "    # base case\n",
    "    if len(array) < 2: # in this case the array is already sorted. its a single element so why not!\n",
    "        return array\n",
    "    \n",
    "    else:\n",
    "        # select a pivot\n",
    "        pivot = array[0]\n",
    "        \n",
    "        less = [i for i in array[1:] if i < pivot]\n",
    "        greater = [i for i in array[1:] if i > pivot]\n",
    "        \n",
    "        # sorting recursion\n",
    "        return quicksort(less) + [pivot] + quicksort(greater)"
   ]
  },
  {
   "cell_type": "code",
   "execution_count": 4,
   "metadata": {},
   "outputs": [
    {
     "data": {
      "text/plain": [
       "[2, 4, 5, 10]"
      ]
     },
     "execution_count": 4,
     "metadata": {},
     "output_type": "execute_result"
    }
   ],
   "source": [
    "array = [10, 5, 2, 4]\n",
    "\n",
    "quicksort(array)"
   ]
  },
  {
   "cell_type": "markdown",
   "metadata": {},
   "source": [
    "1. A list with one element will be always sorted -> Our base case\n",
    "2. We select a pivot and partition the array into less; greater and then arrange them around pivot.\n",
    "3. Recursively this will return the sorted list\n",
    "\n",
    "Time complexity - O(nlog(n))"
   ]
  },
  {
   "cell_type": "markdown",
   "metadata": {},
   "source": []
  }
 ],
 "metadata": {
  "kernelspec": {
   "display_name": "dsai",
   "language": "python",
   "name": "python3"
  },
  "language_info": {
   "codemirror_mode": {
    "name": "ipython",
    "version": 3
   },
   "file_extension": ".py",
   "mimetype": "text/x-python",
   "name": "python",
   "nbconvert_exporter": "python",
   "pygments_lexer": "ipython3",
   "version": "3.13.1"
  }
 },
 "nbformat": 4,
 "nbformat_minor": 2
}
