{
 "cells": [
  {
   "cell_type": "code",
   "execution_count": null,
   "id": "484b05a7",
   "metadata": {},
   "outputs": [],
   "source": [
    "class MaxHeap:\n",
    "    def __init__(self):\n",
    "        self.heap = []\n",
    "    \n",
    "    def _left_child(self, index):\n",
    "        return 2 * index + 1 # 1 based index\n",
    "    \n",
    "    def _right_child(self, index):\n",
    "        return 2 * index + 2\n",
    "    \n",
    "    def _parent(self, index):\n",
    "        return (index -1) // 2\n",
    "    \n",
    "    def _swap(self, index1, index2):\n",
    "        self.heap[index1], self.heap[index2] = self.heap[index2], self.heap[index1]\n",
    "        \n",
    "        \n",
    "    def insert(self, value):\n",
    "        self.heap.append(value)\n",
    "        current = len(self.heap) - 1\n",
    "        \n",
    "        while current > 0 and self.heap[current] > self.heap[self._parent(current)]:\n",
    "            self._swap(current, self._parent(current))\n",
    "            current = self._parent(current)\n",
    "    \n",
    "    def print_heap(self):\n",
    "        print(self.heap)\n",
    "        \n",
    "    def _sink_down(self, index):\n",
    "        max_index = index\n",
    "        \n",
    "        while True:\n",
    "            left_index = self._left_child(index)\n",
    "            right_index = self._right_child(index)\n",
    "            \n",
    "            if (left_index < len(self.heap) and self.heap[left_index] > self.heap[max_index]):\n",
    "                max_index = left_index\n",
    "            \n",
    "            if (right_index < len(self.heap) and self.heap[right_index] > self.heap[max_index]):\n",
    "                max_index = right_index\n",
    "            \n",
    "            if max_index != index:\n",
    "                self._swap(index, max_index)\n",
    "                index = max_index\n",
    "            else:\n",
    "                return\n",
    "            \n",
    "        \n",
    "    def remove(self):\n",
    "        if len(self.heap) == 0:\n",
    "            return None\n",
    "        \n",
    "        if len(self.heap) == 1:\n",
    "            return self.heap.pop()\n",
    "        \n",
    "        max_value = self.heap[0] # top will be the max value\n",
    "        \n",
    "        # we always remove the Top element from a heap\n",
    "        self.heap[0] = self.heap.pop()\n",
    "        \n",
    "        # sync the heap\n",
    "        self._sink_down(0)\n",
    "        \n",
    "        return max_value"
   ]
  },
  {
   "cell_type": "code",
   "execution_count": 2,
   "id": "c94200a5",
   "metadata": {},
   "outputs": [],
   "source": [
    "heap = MaxHeap()"
   ]
  },
  {
   "cell_type": "code",
   "execution_count": 3,
   "id": "afb62195",
   "metadata": {},
   "outputs": [],
   "source": [
    "heap.insert(10)"
   ]
  },
  {
   "cell_type": "code",
   "execution_count": 4,
   "id": "32415a37",
   "metadata": {},
   "outputs": [
    {
     "name": "stdout",
     "output_type": "stream",
     "text": [
      "[10]\n"
     ]
    }
   ],
   "source": [
    "heap.print_heap()"
   ]
  },
  {
   "cell_type": "code",
   "execution_count": null,
   "id": "e0dfed88",
   "metadata": {},
   "outputs": [],
   "source": []
  }
 ],
 "metadata": {
  "kernelspec": {
   "display_name": "dsai",
   "language": "python",
   "name": "python3"
  },
  "language_info": {
   "codemirror_mode": {
    "name": "ipython",
    "version": 3
   },
   "file_extension": ".py",
   "mimetype": "text/x-python",
   "name": "python",
   "nbconvert_exporter": "python",
   "pygments_lexer": "ipython3",
   "version": "3.13.1"
  }
 },
 "nbformat": 4,
 "nbformat_minor": 5
}
