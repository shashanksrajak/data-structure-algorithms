{
 "cells": [
  {
   "cell_type": "markdown",
   "id": "7fa76e3d",
   "metadata": {},
   "source": [
    "## Graphs"
   ]
  },
  {
   "cell_type": "code",
   "execution_count": 15,
   "id": "971f9604",
   "metadata": {},
   "outputs": [],
   "source": [
    "class Graph:\n",
    "    def __init__(self):\n",
    "        self.adj_list = {}\n",
    "    \n",
    "    def add_vertex(self, vertex):\n",
    "        # do not add duplicate vertex\n",
    "        if vertex not in self.adj_list.keys():\n",
    "            self.adj_list[vertex] = []\n",
    "            return True\n",
    "        return False\n",
    "    \n",
    "    def print_graph(self):\n",
    "        print(self.adj_list)\n",
    "    \n",
    "    # TODO: there should be a way to check if vertices exist in the list of a vertex\n",
    "    def add_edge(self, v1, v2):\n",
    "        if v1 in self.adj_list.keys() and v2 in self.adj_list.keys():\n",
    "            self.adj_list[v1].append(v2)\n",
    "            self.adj_list[v2].append(v1)\n",
    "            return True\n",
    "        return False\n",
    "    \n",
    "    def remove_edge(self, v1, v2):\n",
    "        if v1 in self.adj_list.keys() and v2 in self.adj_list.keys():\n",
    "            try:\n",
    "                self.adj_list[v1].remove(v2)\n",
    "                self.adj_list[v2].remove(v1)\n",
    "            except ValueError:\n",
    "                pass\n",
    "            return True\n",
    "        return False\n",
    "    \n",
    "    def remove_vertex(self, vertex):\n",
    "        if vertex in self.adj_list:\n",
    "            for other_vertex in self.adj_list[vertex]:\n",
    "                self.adj_list[other_vertex].remove(vertex)\n",
    "            del self.adj_list[vertex]\n",
    "            return True\n",
    "        return False\n",
    "    \n",
    "    def __repr__(self):\n",
    "        return f\"Graph(adj_list={self.adj_list})\""
   ]
  },
  {
   "cell_type": "code",
   "execution_count": 2,
   "id": "09492b0b",
   "metadata": {},
   "outputs": [
    {
     "name": "stdout",
     "output_type": "stream",
     "text": [
      "{'A': [], 'B': []}\n"
     ]
    }
   ],
   "source": [
    "my_graph = Graph()\n",
    "\n",
    "my_graph.add_vertex('A')\n",
    "my_graph.add_vertex('B')\n",
    "\n",
    "my_graph.print_graph()"
   ]
  },
  {
   "cell_type": "code",
   "execution_count": 3,
   "id": "8cf55227",
   "metadata": {},
   "outputs": [
    {
     "data": {
      "text/plain": [
       "True"
      ]
     },
     "execution_count": 3,
     "metadata": {},
     "output_type": "execute_result"
    }
   ],
   "source": [
    "my_graph.add_edge('A', 'B') # if we invoke this function multiple times, edge gets added again, check this"
   ]
  },
  {
   "cell_type": "code",
   "execution_count": 4,
   "id": "a0e04d8b",
   "metadata": {},
   "outputs": [
    {
     "name": "stdout",
     "output_type": "stream",
     "text": [
      "{'A': ['B'], 'B': ['A']}\n"
     ]
    }
   ],
   "source": [
    "my_graph.print_graph()"
   ]
  },
  {
   "cell_type": "code",
   "execution_count": 5,
   "id": "09579ba6",
   "metadata": {},
   "outputs": [
    {
     "name": "stdout",
     "output_type": "stream",
     "text": [
      "{'A': [], 'B': []}\n"
     ]
    }
   ],
   "source": [
    "my_graph.remove_edge('A', 'B')\n",
    "my_graph.print_graph()"
   ]
  },
  {
   "cell_type": "code",
   "execution_count": 6,
   "id": "cc449518",
   "metadata": {},
   "outputs": [
    {
     "data": {
      "text/plain": [
       "True"
      ]
     },
     "execution_count": 6,
     "metadata": {},
     "output_type": "execute_result"
    }
   ],
   "source": [
    "my_graph.add_edge('A', 'B')"
   ]
  },
  {
   "cell_type": "code",
   "execution_count": 7,
   "id": "75b2bff2",
   "metadata": {},
   "outputs": [
    {
     "name": "stdout",
     "output_type": "stream",
     "text": [
      "{'A': ['B'], 'B': ['A']}\n"
     ]
    }
   ],
   "source": [
    "my_graph.print_graph()"
   ]
  },
  {
   "cell_type": "code",
   "execution_count": 8,
   "id": "c3b3a424",
   "metadata": {},
   "outputs": [
    {
     "name": "stdout",
     "output_type": "stream",
     "text": [
      "{'B': []}\n"
     ]
    }
   ],
   "source": [
    "my_graph.remove_vertex('A')\n",
    "\n",
    "my_graph.print_graph()"
   ]
  },
  {
   "cell_type": "code",
   "execution_count": 9,
   "id": "633e1f94",
   "metadata": {},
   "outputs": [
    {
     "name": "stdout",
     "output_type": "stream",
     "text": [
      "False\n"
     ]
    }
   ],
   "source": [
    "adj_list = {\n",
    "    \"shashank\" : [\"anshu\", \"rocky\"],\n",
    "    \"anshu\": [\"rocky\", \"rahul\"]\n",
    "}\n",
    "\n",
    "\n",
    "print(\"rocky\" in adj_list)\n",
    "\n",
    "\n",
    "# add priyanka to list of shashank\n",
    "# add_edge(shashank, priyanka)\n"
   ]
  },
  {
   "cell_type": "markdown",
   "id": "ec1e8ea4",
   "metadata": {},
   "source": [
    "#### Shortest Path (BFS)"
   ]
  },
  {
   "cell_type": "code",
   "execution_count": 47,
   "id": "59c82f59",
   "metadata": {
    "vscode": {
     "languageId": "javascript"
    }
   },
   "outputs": [],
   "source": [
    "places = {\n",
    "    'Mumbai': ['Bengaluru', 'Nagpur', 'Goa'], \n",
    "    'Bengaluru': [ 'Chennai', 'Raipur', 'Lucknow', 'Delhi'],\n",
    "    'Madras': ['Chennai'],\n",
    "    'Nagpur': ['Raipur'],\n",
    "    'Chennai': ['Madras'],\n",
    "    'Lucknow': ['Delhi'],\n",
    "    'Dehradun': ['Delhi'],\n",
    "    'Raipur': ['Delhi'],\n",
    "    'Delhi': ['Dehradun'],\n",
    "    'Goa': ['Bengaluru'],\n",
    "}"
   ]
  },
  {
   "cell_type": "markdown",
   "id": "c0c2c55e",
   "metadata": {},
   "source": [
    "We want to go from Mumbai to Delhi.\n",
    "- Mumbai > Bengaluru > Delhi\n",
    "- Mumbai > Nagpur > Raipur > Delhi\n",
    "\n",
    "We want the shortest path. So we will model this data as Graph (adj_list)"
   ]
  },
  {
   "cell_type": "markdown",
   "id": "186a5754",
   "metadata": {},
   "source": [
    "BFS ?? \n",
    "- first scan through the immediate neighbors of the starting node\n",
    "- when we scan a neighbour, we will load all of its neigbours to the queue if our condition is not met yet\n",
    "- then scan through the second order neighbors\n",
    "- we also maintain a list of elements we have scanned so that we dont waste time scanning them again (helps with cycles loopback also)"
   ]
  },
  {
   "cell_type": "code",
   "execution_count": 56,
   "id": "85c42925",
   "metadata": {},
   "outputs": [],
   "source": [
    "from collections import deque\n",
    "\n",
    "def find_shortest_path(graph, start_node, end_node):\n",
    "    if start_node not in graph or end_node not in graph:\n",
    "        raise KeyError(\"Start Node or End Node not found in the Graph\")\n",
    "    \n",
    "    queue = deque()\n",
    "    scanned = {start_node}\n",
    "    path = {start_node: None} # child : parent\n",
    "    \n",
    "    # this will put all the neighbors of start_node in the queue\n",
    "    queue += graph[start_node]\n",
    "    \n",
    "    print(queue)\n",
    "    \n",
    "    # until queue does not become empty we keep on scanning it\n",
    "    while queue:\n",
    "        # pop left current_node and ask it a question\n",
    "        current_node = queue.popleft()\n",
    "        \n",
    "        # be sure that we have not seen this current_node earlier\n",
    "       \n",
    "        if current_node == end_node:\n",
    "                print(path)\n",
    "                return f\"Found the end_node {current_node}\"\n",
    "            \n",
    "        for neighbor in graph.get(current_node, []):\n",
    "            if neighbor not in scanned:\n",
    "                scanned.add(current_node)\n",
    "                path[neighbor] = current_node\n",
    "                queue.append(neighbor)\n",
    "                \n",
    "    return \"Did not found a route\""
   ]
  },
  {
   "cell_type": "code",
   "execution_count": 57,
   "id": "8cf82fda",
   "metadata": {},
   "outputs": [
    {
     "name": "stdout",
     "output_type": "stream",
     "text": [
      "deque(['Bengaluru', 'Nagpur', 'Goa'])\n",
      "{'Mumbai': None, 'Chennai': 'Bengaluru', 'Raipur': 'Nagpur', 'Lucknow': 'Bengaluru', 'Delhi': 'Lucknow', 'Madras': 'Chennai'}\n"
     ]
    },
    {
     "data": {
      "text/plain": [
       "'Found the end_node Delhi'"
      ]
     },
     "execution_count": 57,
     "metadata": {},
     "output_type": "execute_result"
    }
   ],
   "source": [
    "find_shortest_path(places, \"Mumbai\", \"Delhi\")"
   ]
  },
  {
   "cell_type": "code",
   "execution_count": 61,
   "id": "d77287bf",
   "metadata": {},
   "outputs": [
    {
     "name": "stdout",
     "output_type": "stream",
     "text": [
      "{'A': None, 'B': 'A', 'C': 'A', 'D': 'B', 'E': 'B', 'F': 'C'}\n",
      "Shortest path from A to F: ['A', 'C', 'F']\n"
     ]
    }
   ],
   "source": [
    "from collections import deque\n",
    "\n",
    "\n",
    "def find_shortest_path(graph, start_node, end_node):\n",
    "    if start_node not in graph or end_node not in graph:\n",
    "        raise KeyError(\"Start Node or End Node not found in the Graph\")\n",
    "\n",
    "    queue = deque([start_node])  # Start with the start node in the queue\n",
    "    scanned = {start_node}  # Keep track of visited nodes\n",
    "    path = {start_node: None}  # child : parent, start node has no parent\n",
    "\n",
    "    while queue:\n",
    "        current_node = queue.popleft()\n",
    "\n",
    "        if current_node == end_node:\n",
    "            print(path)\n",
    "            # Reconstruct the path from end to start\n",
    "            shortest_path = []\n",
    "            while current_node is not None:\n",
    "                shortest_path.append(current_node)\n",
    "                current_node = path[current_node]\n",
    "            return shortest_path[::-1]  # Reverse to get path from start to end\n",
    "\n",
    "        # Handle cases where a node has no neighbors\n",
    "        for neighbor in graph.get(current_node, []):\n",
    "            if neighbor not in scanned:\n",
    "                scanned.add(neighbor)\n",
    "                # Record the parent of the neighbor\n",
    "                path[neighbor] = current_node\n",
    "                queue.append(neighbor)\n",
    "\n",
    "    return \"Did not find a route\"\n",
    "\n",
    "\n",
    "# Example Usage:\n",
    "graph = {\n",
    "    'A': ['B', 'C'],\n",
    "    'B': ['D', 'E'],\n",
    "    'C': ['F'],\n",
    "    'D': [],\n",
    "    'E': ['F'],\n",
    "    'F': []\n",
    "}\n",
    "\n",
    "start = 'A'\n",
    "end = 'F'\n",
    "shortest_path = find_shortest_path(graph, start, end)\n",
    "print(f\"Shortest path from {start} to {end}: {shortest_path}\")\n",
    "\n",
    "start = 'A'\n",
    "end = 'G'\n"
   ]
  },
  {
   "cell_type": "code",
   "execution_count": 62,
   "id": "3bafc1ad",
   "metadata": {},
   "outputs": [
    {
     "name": "stdout",
     "output_type": "stream",
     "text": [
      "{'Mumbai': None, 'Bengaluru': 'Mumbai', 'Nagpur': 'Mumbai', 'Goa': 'Mumbai', 'Chennai': 'Bengaluru', 'Raipur': 'Bengaluru', 'Lucknow': 'Bengaluru', 'Delhi': 'Bengaluru', 'Madras': 'Chennai'}\n"
     ]
    },
    {
     "data": {
      "text/plain": [
       "['Mumbai', 'Bengaluru', 'Delhi']"
      ]
     },
     "execution_count": 62,
     "metadata": {},
     "output_type": "execute_result"
    }
   ],
   "source": [
    "find_shortest_path(places, \"Mumbai\", \"Delhi\")"
   ]
  },
  {
   "cell_type": "code",
   "execution_count": null,
   "id": "bf5b5b23",
   "metadata": {},
   "outputs": [],
   "source": []
  }
 ],
 "metadata": {
  "kernelspec": {
   "display_name": "dsai",
   "language": "python",
   "name": "python3"
  },
  "language_info": {
   "codemirror_mode": {
    "name": "ipython",
    "version": 3
   },
   "file_extension": ".py",
   "mimetype": "text/x-python",
   "name": "python",
   "nbconvert_exporter": "python",
   "pygments_lexer": "ipython3",
   "version": "3.13.1"
  }
 },
 "nbformat": 4,
 "nbformat_minor": 5
}
