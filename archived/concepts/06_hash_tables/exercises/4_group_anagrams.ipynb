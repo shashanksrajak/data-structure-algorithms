{
 "cells": [
  {
   "cell_type": "code",
   "execution_count": 13,
   "id": "8e89d8ce",
   "metadata": {},
   "outputs": [],
   "source": [
    "def group_anagrams(strings):\n",
    "\n",
    "    groups = {}\n",
    "    \n",
    "    print(groups)\n",
    "\n",
    "    for word in strings:\n",
    "        sorted_word = ' '.join(sorted(word))\n",
    "        if sorted_word in groups:\n",
    "            groups[sorted_word].append(word)\n",
    "        else:\n",
    "            groups[sorted_word] = [word]\n",
    "            \n",
    "    print(groups)\n",
    "\n",
    "    output = []\n",
    "    for key, values in groups.items():\n",
    "        output.append(values)\n",
    "        \n",
    "    return output"
   ]
  },
  {
   "cell_type": "code",
   "execution_count": 14,
   "id": "8cc8a69b",
   "metadata": {},
   "outputs": [
    {
     "name": "stdout",
     "output_type": "stream",
     "text": [
      "1st set:\n",
      "{}\n",
      "{'a e t': ['eat', 'tea', 'ate'], 'a n t': ['tan', 'nat'], 'a b t': ['bat']}\n",
      "[['eat', 'tea', 'ate'], ['tan', 'nat'], ['bat']]\n",
      "\n",
      "2nd set:\n",
      "{}\n",
      "{'a b c': ['abc', 'cba', 'bac'], 'f o o': ['foo'], 'a b r': ['bar']}\n",
      "[['abc', 'cba', 'bac'], ['foo'], ['bar']]\n",
      "\n",
      "3rd set:\n",
      "{}\n",
      "{'e i l n s t': ['listen', 'silent'], 'a e g i l n r t': ['triangle', 'integral'], 'a d e g n r': ['garden', 'ranged']}\n",
      "[['listen', 'silent'], ['triangle', 'integral'], ['garden', 'ranged']]\n"
     ]
    }
   ],
   "source": [
    "print(\"1st set:\")\n",
    "print(group_anagrams([\"eat\", \"tea\", \"tan\", \"ate\", \"nat\", \"bat\"]))\n",
    "\n",
    "print(\"\\n2nd set:\")\n",
    "print(group_anagrams([\"abc\", \"cba\", \"bac\", \"foo\", \"bar\"]))\n",
    "\n",
    "print(\"\\n3rd set:\")\n",
    "print(group_anagrams([\"listen\", \"silent\", \"triangle\", \"integral\", \"garden\", \"ranged\"]) )"
   ]
  }
 ],
 "metadata": {
  "kernelspec": {
   "display_name": "dsai",
   "language": "python",
   "name": "python3"
  },
  "language_info": {
   "codemirror_mode": {
    "name": "ipython",
    "version": 3
   },
   "file_extension": ".py",
   "mimetype": "text/x-python",
   "name": "python",
   "nbconvert_exporter": "python",
   "pygments_lexer": "ipython3",
   "version": "3.13.1"
  }
 },
 "nbformat": 4,
 "nbformat_minor": 5
}
