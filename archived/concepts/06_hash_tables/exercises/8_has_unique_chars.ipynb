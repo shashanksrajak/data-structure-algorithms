{
 "cells": [
  {
   "cell_type": "code",
   "execution_count": 1,
   "id": "083a0aec",
   "metadata": {},
   "outputs": [],
   "source": [
    "def has_unique_chars(string):\n",
    "    if len(set(string)) == len(string):\n",
    "        return True\n",
    "    return False"
   ]
  },
  {
   "cell_type": "code",
   "execution_count": 2,
   "id": "59ef721e",
   "metadata": {},
   "outputs": [
    {
     "name": "stdout",
     "output_type": "stream",
     "text": [
      "True\n",
      "False\n",
      "True\n",
      "True\n",
      "False\n"
     ]
    }
   ],
   "source": [
    "print(has_unique_chars('abcdefg'))  # should return True\n",
    "print(has_unique_chars('hello'))  # should return False\n",
    "print(has_unique_chars(''))  # should return True\n",
    "print(has_unique_chars('0123456789'))  # should return True\n",
    "print(has_unique_chars('abacadaeaf'))  # should return False"
   ]
  }
 ],
 "metadata": {
  "kernelspec": {
   "display_name": "dsai",
   "language": "python",
   "name": "python3"
  },
  "language_info": {
   "codemirror_mode": {
    "name": "ipython",
    "version": 3
   },
   "file_extension": ".py",
   "mimetype": "text/x-python",
   "name": "python",
   "nbconvert_exporter": "python",
   "pygments_lexer": "ipython3",
   "version": "3.13.1"
  }
 },
 "nbformat": 4,
 "nbformat_minor": 5
}
