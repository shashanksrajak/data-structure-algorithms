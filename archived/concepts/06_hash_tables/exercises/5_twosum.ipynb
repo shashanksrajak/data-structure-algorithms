{
 "cells": [
  {
   "cell_type": "code",
   "execution_count": 3,
   "id": "a1e9a6bc",
   "metadata": {},
   "outputs": [],
   "source": [
    "def two_sum(nums, target):\n",
    "    num_map = {}\n",
    "    for i, num in enumerate(nums):\n",
    "        complement = target - num\n",
    "        if complement in num_map:\n",
    "            return [num_map[complement], i]\n",
    "        num_map[num] = i\n",
    "    return []"
   ]
  },
  {
   "cell_type": "code",
   "execution_count": 4,
   "id": "f833bb34",
   "metadata": {},
   "outputs": [
    {
     "name": "stdout",
     "output_type": "stream",
     "text": [
      "[1, 4]\n",
      "[1, 3]\n",
      "[0, 3]\n",
      "[1, 3]\n",
      "[]\n",
      "[2, 3]\n",
      "[0, 1]\n",
      "[]\n"
     ]
    }
   ],
   "source": [
    "print(two_sum([5, 1, 7, 2, 9, 3], 10))\n",
    "print(two_sum([4, 2, 11, 7, 6, 3], 9))\n",
    "print(two_sum([10, 15, 5, 2, 8, 1, 7], 12))\n",
    "print(two_sum([1, 3, 5, 7, 9], 10))\n",
    "print(two_sum([1, 2, 3, 4, 5], 10))\n",
    "print(two_sum([1, 2, 3, 4, 5], 7))\n",
    "print(two_sum([1, 2, 3, 4, 5], 3))\n",
    "print(two_sum([], 0))"
   ]
  },
  {
   "cell_type": "code",
   "execution_count": null,
   "id": "4cddd6e9",
   "metadata": {},
   "outputs": [],
   "source": []
  }
 ],
 "metadata": {
  "kernelspec": {
   "display_name": "dsai",
   "language": "python",
   "name": "python3"
  },
  "language_info": {
   "codemirror_mode": {
    "name": "ipython",
    "version": 3
   },
   "file_extension": ".py",
   "mimetype": "text/x-python",
   "name": "python",
   "nbconvert_exporter": "python",
   "pygments_lexer": "ipython3",
   "version": "3.13.1"
  }
 },
 "nbformat": 4,
 "nbformat_minor": 5
}
