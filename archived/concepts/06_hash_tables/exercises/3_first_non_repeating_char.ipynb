{
 "cells": [
  {
   "cell_type": "code",
   "execution_count": 8,
   "id": "f179605b",
   "metadata": {},
   "outputs": [],
   "source": [
    "def first_non_repeating_char(string):\n",
    "    counts = {}\n",
    "\n",
    "    for letter in string:\n",
    "        counts[letter] = counts.get(letter, 0) + 1\n",
    "\n",
    "    for key, value in counts.items():\n",
    "        if value == 1:\n",
    "            return key"
   ]
  },
  {
   "cell_type": "code",
   "execution_count": 9,
   "id": "83abeda7",
   "metadata": {},
   "outputs": [
    {
     "name": "stdout",
     "output_type": "stream",
     "text": [
      "l\n",
      "h\n",
      "None\n"
     ]
    }
   ],
   "source": [
    "print(first_non_repeating_char('leetcode'))\n",
    "\n",
    "print(first_non_repeating_char('hello'))\n",
    "\n",
    "print(first_non_repeating_char('aabbcc') )"
   ]
  }
 ],
 "metadata": {
  "kernelspec": {
   "display_name": "dsai",
   "language": "python",
   "name": "python3"
  },
  "language_info": {
   "codemirror_mode": {
    "name": "ipython",
    "version": 3
   },
   "file_extension": ".py",
   "mimetype": "text/x-python",
   "name": "python",
   "nbconvert_exporter": "python",
   "pygments_lexer": "ipython3",
   "version": "3.13.1"
  }
 },
 "nbformat": 4,
 "nbformat_minor": 5
}
