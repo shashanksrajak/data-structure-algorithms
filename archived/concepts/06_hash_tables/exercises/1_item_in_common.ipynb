{
 "cells": [
  {
   "cell_type": "markdown",
   "id": "19dd4779",
   "metadata": {},
   "source": [
    "Write a function item_in_common(list1, list2) that takes two lists as input and returns True if there is at least one common item between the two lists, False otherwise.\n",
    "\n",
    "Use a dictionary to solve the problem that creates an O(n) time complexity."
   ]
  },
  {
   "cell_type": "code",
   "execution_count": 1,
   "id": "e17164b4",
   "metadata": {},
   "outputs": [],
   "source": [
    "def item_in_common(list1, list2):\n",
    "    nums_map = {}\n",
    "\n",
    "    for item in list1:\n",
    "        if item not in nums_map:\n",
    "            nums_map[item] = True\n",
    "\n",
    "    for item in list2:\n",
    "        if item in nums_map:\n",
    "            return True\n",
    "\n",
    "    return False"
   ]
  },
  {
   "cell_type": "code",
   "execution_count": 2,
   "id": "507e3782",
   "metadata": {},
   "outputs": [
    {
     "name": "stdout",
     "output_type": "stream",
     "text": [
      "True\n"
     ]
    }
   ],
   "source": [
    "list1 = [1, 3, 5]\n",
    "list2 = [2, 4, 5]\n",
    "\n",
    "\n",
    "print(item_in_common(list1, list2))"
   ]
  },
  {
   "cell_type": "code",
   "execution_count": null,
   "id": "a32e3969",
   "metadata": {},
   "outputs": [],
   "source": []
  }
 ],
 "metadata": {
  "kernelspec": {
   "display_name": "dsai",
   "language": "python",
   "name": "python3"
  },
  "language_info": {
   "codemirror_mode": {
    "name": "ipython",
    "version": 3
   },
   "file_extension": ".py",
   "mimetype": "text/x-python",
   "name": "python",
   "nbconvert_exporter": "python",
   "pygments_lexer": "ipython3",
   "version": "3.13.1"
  }
 },
 "nbformat": 4,
 "nbformat_minor": 5
}
