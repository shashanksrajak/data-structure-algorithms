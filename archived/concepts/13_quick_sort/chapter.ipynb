{
 "cells": [
  {
   "cell_type": "markdown",
   "id": "6723d4d8",
   "metadata": {},
   "source": [
    "## Quick Sort\n",
    "\n",
    "Key points\n",
    "- Pivot \n",
    "- left sublist < Pivot < right sublist\n",
    "- divide n conquer; recursion\n",
    "- O(n*log(n))"
   ]
  },
  {
   "cell_type": "code",
   "execution_count": 5,
   "id": "20900219",
   "metadata": {},
   "outputs": [],
   "source": [
    "def swap(a, b, input_list):\n",
    "    input_list[a], input_list[b] = input_list[b], input_list[a]\n",
    "\n",
    "def partition(input_list: list, start, end):\n",
    "    pivot_index = 0\n",
    "    start = pivot_index + 1\n",
    "    end = len(input_list) - 1\n",
    "    \n",
    "    # left partition should be < pivot and\n",
    "    # right parition should be > pivot\n",
    "    # we will compare left and right with pivot and if we find left > pivot or right < pivot then we swap them\n",
    "    # so we have to put Pivot somewhere between left and right partition (b/w start and end)\n",
    "    while end > start:\n",
    "        while input_list[start] <= input_list[pivot_index] and start < len(input_list):\n",
    "            start += 1\n",
    "            \n",
    "        while input_list[end] > input_list[pivot_index]:\n",
    "            end -= 1\n",
    "    \n",
    "        # swap pivot with the end element (which will be at the smallest value on right partition)\n",
    "        if end > start:\n",
    "            swap(start, end, input_list)\n",
    "    swap(pivot_index, end, input_list)\n",
    "    \n",
    "    return end\n",
    "    \n",
    "\n",
    "def quick_sort(input_list: list, start, end):\n",
    "    while start < end:\n",
    "        pi = partition(input_list, start, end)\n",
    "        quick_sort(input_list, start, pi-1)\n",
    "        quick_sort(input_list, pi+1, end)\n",
    "    "
   ]
  },
  {
   "cell_type": "code",
   "execution_count": null,
   "id": "31e55188",
   "metadata": {},
   "outputs": [],
   "source": [
    "elements = [11,9,29,7,2,15,28]\n",
    "    # elements = [\"mona\", \"dhaval\", \"aamir\", \"tina\", \"chang\"]\n",
    "quick_sort(elements, 0, len(elements)-1)\n",
    "print(elements)"
   ]
  }
 ],
 "metadata": {
  "kernelspec": {
   "display_name": "dsai",
   "language": "python",
   "name": "python3"
  },
  "language_info": {
   "codemirror_mode": {
    "name": "ipython",
    "version": 3
   },
   "file_extension": ".py",
   "mimetype": "text/x-python",
   "name": "python",
   "nbconvert_exporter": "python",
   "pygments_lexer": "ipython3",
   "version": "3.13.1"
  }
 },
 "nbformat": 4,
 "nbformat_minor": 5
}
