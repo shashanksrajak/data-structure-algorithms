{
 "cells": [
  {
   "cell_type": "code",
   "execution_count": 32,
   "id": "8a07f852",
   "metadata": {},
   "outputs": [],
   "source": [
    "class Node:\n",
    "    def __init__(self, value):\n",
    "        self.value = value\n",
    "        self.left = None\n",
    "        self.right = None\n",
    "\n",
    "\n",
    "class BinarySearchTree:\n",
    "    def __init__(self):\n",
    "        # we are not creating any new node here\n",
    "        self.root = None\n",
    "\n",
    "    def insert(self, value):\n",
    "        new_node = Node(value)\n",
    "\n",
    "        if self.root is None:\n",
    "            self.root = new_node\n",
    "            return True\n",
    "\n",
    "        temp = self.root\n",
    "\n",
    "        while temp:\n",
    "            if new_node.value == temp.value:\n",
    "                return False\n",
    "\n",
    "            if new_node.value > temp.value:\n",
    "                # go to right but first check if a node is existing\n",
    "                if temp.right is not None:\n",
    "                    # move right\n",
    "                    temp = temp.right\n",
    "                else:\n",
    "                    temp.right = new_node\n",
    "                    return True\n",
    "            else:\n",
    "                if temp.left is not None:\n",
    "                    temp = temp.left\n",
    "                else:\n",
    "                    temp.left = new_node\n",
    "                    return True\n",
    "\n",
    "    def print_tree(self):\n",
    "           pass\n",
    "\n",
    "    def contains(self, value):\n",
    "        if self.root is None:\n",
    "               return None\n",
    "\n",
    "        temp = self.root\n",
    "\n",
    "        while temp:\n",
    "            if value < temp.value:\n",
    "                    # go left\n",
    "                    temp = temp.left\n",
    "            elif value > temp.value:\n",
    "                    temp = temp.right\n",
    "            else:\n",
    "                return True\n",
    "\n",
    "        return False\n",
    "    \n",
    "    def __r_contains(self, current_node, value):\n",
    "        if current_node == None:\n",
    "            return False\n",
    "        if value == current_node.value:\n",
    "            return True\n",
    "        \n",
    "        if value < current_node.value:\n",
    "            # go left\n",
    "            return self.__r_contains(current_node.left, value)\n",
    "        \n",
    "        if value > current_node.value:\n",
    "            # move right\n",
    "            return self.__r_contains(current_node.right, value)\n",
    "        \n",
    "    \n",
    "    def r_contains(self, value):\n",
    "        return self.__r_contains(self.root, value)\n",
    "    \n",
    "    def __r_insert(self, current_node, value):\n",
    "        if current_node == None:\n",
    "            return Node(value)\n",
    "        if value < current_node.value:\n",
    "            # move left\n",
    "            current_node.left = self.__r_insert(current_node.left, value)\n",
    "            # the last node will have left node as new node and this execution stops\n",
    "        if value > current_node.value:\n",
    "            current_node.right = self.__r_insert(current_node.right, value)\n",
    "        return current_node\n",
    "    \n",
    "    def min_node(self, current_node):\n",
    "        \"\"\"\n",
    "        Smallest value will exist in the bottom left node\n",
    "        \"\"\"\n",
    "        if current_node.left is None:\n",
    "            return current_node\n",
    "        \n",
    "        return self.min_node(current_node.left)\n",
    "            \n",
    "    \n",
    "    def __r_delete(self, current_node, value):\n",
    "        if current_node == None:\n",
    "            return None\n",
    "        if value < current_node.value:\n",
    "            current_node.left = self.__r_delete(current_node.left, value)\n",
    "        elif value > current_node.value:\n",
    "            current_node.right = self.__r_delete(current_node.right, value)\n",
    "        else:\n",
    "            if current_node.left is None and current_node.right is None:\n",
    "                return None # this will make sure the prev node which called this func will point to None now\n",
    "            elif current_node.left is None:\n",
    "                current_node = current_node.right\n",
    "            elif current_node.right is None:\n",
    "                current_node = current_node.left\n",
    "            else:\n",
    "                # both left and right nodes exist\n",
    "                # in this case we will find smallest node in the right sub tree and swap the values\n",
    "                # with the node to delete and then delete that smallest node\n",
    "                # why so? because putting this smallest node above the right subtree will make \n",
    "                # sure the right subtree is greater than this smallest node\n",
    "                # this is basic of a Binary Search Tree\n",
    "                \n",
    "                # find smallest node\n",
    "                smallest_node = self.min_node(current_node.right)\n",
    "                \n",
    "                current_node.value = smallest_node.value\n",
    "                \n",
    "                # delete the smallest node\n",
    "                current_node.right = self.__r_delete(current_node.right, smallest_node.value)\n",
    "                return current_node\n",
    "        return current_node\n",
    "    \n",
    "    def delete_node(self, value):\n",
    "        return self.__r_delete(self.root, value)\n",
    "        \n",
    "    \n",
    "    def r_insert(self, value):\n",
    "        self.__r_insert(self.root, value)  \n",
    "    \n",
    "    def BFS(self):\n",
    "        current_node = self.root\n",
    "        \n",
    "        results = [] # visited nodes\n",
    "        queue = [] # using a list to maintaing a queue\n",
    "        \n",
    "        queue.append(current_node)\n",
    "        \n",
    "        while len(queue) > 0:\n",
    "            current_node = queue.pop(0) # first in first out\n",
    "            print(current_node.value)\n",
    "            results.append(current_node.value)\n",
    "            \n",
    "            if current_node.left is not None:\n",
    "                queue.append(current_node.left)\n",
    "            if current_node.right is not None:\n",
    "                queue.append(current_node.right)\n",
    "        return results \n",
    "    \n",
    "    def dfs_pre_order(self):\n",
    "        # root node -> left subtree -> right subtree\n",
    "        results = []\n",
    "        \n",
    "        def traverse(current_node):\n",
    "            results.append(current_node.value)\n",
    "            if current_node.left is not None:\n",
    "                traverse(current_node.left)\n",
    "            if current_node.right is not None:\n",
    "                traverse(current_node.right)\n",
    "        traverse(self.root)\n",
    "        \n",
    "        return results\n",
    "    \n",
    "    def dfs_post_order(self):\n",
    "        # left - right - root node\n",
    "        results = []\n",
    "        \n",
    "        def traverse(current_node):\n",
    "            if current_node.left is not None:\n",
    "                traverse(current_node.left)\n",
    "            if current_node.right is not None:\n",
    "                traverse(current_node.right)\n",
    "            results.append(current_node.value)\n",
    "        traverse(self.root)\n",
    "\n",
    "        return results\n",
    "    \n",
    "    def dfs_in_order(self):\n",
    "        results = []\n",
    "        \n",
    "        def traverse(current_node):\n",
    "            if current_node.left is not None:\n",
    "                traverse(current_node.left)\n",
    "            results.append(current_node.value)\n",
    "            if current_node.right is not None:\n",
    "                traverse(current_node.right)\n",
    "        traverse(self.root)\n",
    "        return results\n",
    "\n",
    "    "
   ]
  },
  {
   "cell_type": "code",
   "execution_count": 33,
   "id": "f9266f89",
   "metadata": {},
   "outputs": [
    {
     "name": "stdout",
     "output_type": "stream",
     "text": [
      "None\n"
     ]
    }
   ],
   "source": [
    "my_tree = BinarySearchTree()\n",
    "\n",
    "print(my_tree.root)"
   ]
  },
  {
   "cell_type": "code",
   "execution_count": 34,
   "id": "a4ad1cf0",
   "metadata": {},
   "outputs": [
    {
     "data": {
      "text/plain": [
       "True"
      ]
     },
     "execution_count": 34,
     "metadata": {},
     "output_type": "execute_result"
    }
   ],
   "source": [
    "my_tree.insert(52)\n",
    "my_tree.insert(48)\n",
    "my_tree.insert(38)\n",
    "my_tree.insert(78)\n",
    "my_tree.insert(88)"
   ]
  },
  {
   "cell_type": "code",
   "execution_count": 4,
   "id": "ea5b0923",
   "metadata": {},
   "outputs": [
    {
     "data": {
      "text/plain": [
       "False"
      ]
     },
     "execution_count": 4,
     "metadata": {},
     "output_type": "execute_result"
    }
   ],
   "source": [
    "my_tree.contains(190)"
   ]
  },
  {
   "cell_type": "code",
   "execution_count": 5,
   "id": "3ec7687a",
   "metadata": {},
   "outputs": [
    {
     "data": {
      "text/plain": [
       "True"
      ]
     },
     "execution_count": 5,
     "metadata": {},
     "output_type": "execute_result"
    }
   ],
   "source": [
    "my_tree.contains(18)"
   ]
  },
  {
   "cell_type": "code",
   "execution_count": 28,
   "id": "775e18d5",
   "metadata": {},
   "outputs": [
    {
     "name": "stdout",
     "output_type": "stream",
     "text": [
      "52\n",
      "48\n",
      "78\n",
      "38\n",
      "88\n"
     ]
    },
    {
     "data": {
      "text/plain": [
       "[52, 48, 78, 38, 88]"
      ]
     },
     "execution_count": 28,
     "metadata": {},
     "output_type": "execute_result"
    }
   ],
   "source": [
    "my_tree.BFS()"
   ]
  },
  {
   "cell_type": "code",
   "execution_count": 29,
   "id": "c7ea373a",
   "metadata": {},
   "outputs": [
    {
     "data": {
      "text/plain": [
       "[52, 48, 38, 78, 88]"
      ]
     },
     "execution_count": 29,
     "metadata": {},
     "output_type": "execute_result"
    }
   ],
   "source": [
    "my_tree.dfs_pre_order()"
   ]
  },
  {
   "cell_type": "code",
   "execution_count": 35,
   "id": "cb200325",
   "metadata": {},
   "outputs": [
    {
     "data": {
      "text/plain": [
       "[38, 48, 88, 78, 52]"
      ]
     },
     "execution_count": 35,
     "metadata": {},
     "output_type": "execute_result"
    }
   ],
   "source": [
    "my_tree.dfs_post_order()"
   ]
  },
  {
   "cell_type": "code",
   "execution_count": 36,
   "id": "e3bc46ee",
   "metadata": {},
   "outputs": [
    {
     "data": {
      "text/plain": [
       "[38, 48, 52, 78, 88]"
      ]
     },
     "execution_count": 36,
     "metadata": {},
     "output_type": "execute_result"
    }
   ],
   "source": [
    "my_tree.dfs_in_order()"
   ]
  }
 ],
 "metadata": {
  "kernelspec": {
   "display_name": "dsai",
   "language": "python",
   "name": "python3"
  },
  "language_info": {
   "codemirror_mode": {
    "name": "ipython",
    "version": 3
   },
   "file_extension": ".py",
   "mimetype": "text/x-python",
   "name": "python",
   "nbconvert_exporter": "python",
   "pygments_lexer": "ipython3",
   "version": "3.13.1"
  }
 },
 "nbformat": 4,
 "nbformat_minor": 5
}
