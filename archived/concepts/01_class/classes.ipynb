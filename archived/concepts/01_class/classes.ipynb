{
 "cells": [
  {
   "cell_type": "code",
   "execution_count": 11,
   "metadata": {},
   "outputs": [],
   "source": [
    "class Cookie:\n",
    "    def __init__(self, color):\n",
    "        self.color = color\n",
    "        \n",
    "    def get_color(self):\n",
    "        return self.color\n",
    "    \n",
    "    def set_color(self, color):\n",
    "        self.color = color"
   ]
  },
  {
   "cell_type": "code",
   "execution_count": 13,
   "metadata": {},
   "outputs": [],
   "source": [
    "cookie_one = Cookie(\"green\")\n",
    "cookie_two = Cookie(\"blue\")\n"
   ]
  },
  {
   "cell_type": "code",
   "execution_count": 16,
   "metadata": {},
   "outputs": [],
   "source": [
    "cookie_one.set_color(\"yellow\")"
   ]
  },
  {
   "cell_type": "code",
   "execution_count": 17,
   "metadata": {},
   "outputs": [
    {
     "name": "stdout",
     "output_type": "stream",
     "text": [
      "cookie one is yellow\n",
      "cookie two is blue\n"
     ]
    }
   ],
   "source": [
    "print('cookie one is', cookie_one.get_color())\n",
    "print('cookie two is', cookie_two.get_color())"
   ]
  }
 ],
 "metadata": {
  "kernelspec": {
   "display_name": "dsai",
   "language": "python",
   "name": "python3"
  },
  "language_info": {
   "codemirror_mode": {
    "name": "ipython",
    "version": 3
   },
   "file_extension": ".py",
   "mimetype": "text/x-python",
   "name": "python",
   "nbconvert_exporter": "python",
   "pygments_lexer": "ipython3",
   "version": "3.13.1"
  }
 },
 "nbformat": 4,
 "nbformat_minor": 2
}
