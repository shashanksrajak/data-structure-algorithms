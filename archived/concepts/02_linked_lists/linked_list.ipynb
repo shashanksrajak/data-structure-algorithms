{
 "cells": [
  {
   "cell_type": "markdown",
   "id": "2530a3d3",
   "metadata": {},
   "source": [
    "## Linked List"
   ]
  },
  {
   "cell_type": "markdown",
   "id": "8ae5a868",
   "metadata": {},
   "source": [
    "Some pointer refreshers to understand how updating `next` in node works."
   ]
  },
  {
   "cell_type": "code",
   "execution_count": 1,
   "id": "b4cffe47",
   "metadata": {},
   "outputs": [
    {
     "data": {
      "text/plain": [
       "(5, 5)"
      ]
     },
     "execution_count": 1,
     "metadata": {},
     "output_type": "execute_result"
    }
   ],
   "source": [
    "head = 5\n",
    "tail = head\n",
    "\n",
    "head, tail"
   ]
  },
  {
   "cell_type": "code",
   "execution_count": 2,
   "id": "b41da88e",
   "metadata": {},
   "outputs": [
    {
     "data": {
      "text/plain": [
       "(10, 5)"
      ]
     },
     "execution_count": 2,
     "metadata": {},
     "output_type": "execute_result"
    }
   ],
   "source": [
    "head = 10\n",
    "head, tail"
   ]
  },
  {
   "cell_type": "code",
   "execution_count": 3,
   "id": "d47fb46c",
   "metadata": {},
   "outputs": [
    {
     "data": {
      "text/plain": [
       "({'value': 5}, {'value': 5})"
      ]
     },
     "execution_count": 3,
     "metadata": {},
     "output_type": "execute_result"
    }
   ],
   "source": [
    "head = {\"value\": 5}\n",
    "tail = head\n",
    "\n",
    "head, tail"
   ]
  },
  {
   "cell_type": "code",
   "execution_count": 5,
   "id": "eb384ef1",
   "metadata": {},
   "outputs": [
    {
     "data": {
      "text/plain": [
       "({'value': 10}, {'value': 5})"
      ]
     },
     "execution_count": 5,
     "metadata": {},
     "output_type": "execute_result"
    }
   ],
   "source": [
    "head = {\"value\": 10}\n",
    "head, tail"
   ]
  },
  {
   "cell_type": "markdown",
   "id": "3e9aef96",
   "metadata": {},
   "source": [
    "### Constructor Linked List"
   ]
  },
  {
   "cell_type": "code",
   "execution_count": 138,
   "id": "1c208a42",
   "metadata": {},
   "outputs": [],
   "source": [
    "class Node:\n",
    "    def __init__(self, value):\n",
    "        self.value = value\n",
    "        self.next = None\n",
    "        \n",
    "class LinkedList:\n",
    "    def __init__(self, value):\n",
    "        self.head = Node(value)\n",
    "        self.tail = self.head\n",
    "        self.length = 1\n",
    "        \n",
    "    def print_list(self):\n",
    "        tmp = self.head\n",
    "        while tmp is not None:\n",
    "            print(tmp.value, end=\" -> \")\n",
    "            tmp = tmp.next\n",
    "        print(\"\\n\")\n",
    "    def append(self, value):\n",
    "        \"\"\"\n",
    "        Append a value to the last of a linked list\n",
    "        \"\"\"\n",
    "        \n",
    "        # create a new Node pointing to None\n",
    "        new_node = Node(value)\n",
    "        \n",
    "        # handle edge case, if the list is empty\n",
    "        if self.length == 0:\n",
    "            self.head = new_node\n",
    "            self.tail = new_node\n",
    "        else:\n",
    "            # tail points to new_node\n",
    "            self.tail.next = new_node\n",
    "            self.tail = new_node\n",
    "        \n",
    "        # increment the length of list\n",
    "        self.length += 1\n",
    "        return True\n",
    "    # def pop(self):\n",
    "    #     \"\"\"\n",
    "    #     Pops the last element of linked list\n",
    "    #     \"\"\"\n",
    "    #     if self.length == 0:\n",
    "    #         return None\n",
    "        \n",
    "    #     if self.length == 1:\n",
    "    #         self.head = None\n",
    "    #         self.tail = None\n",
    "    #     else:\n",
    "    #         # find the tail-1 node and point it to None\n",
    "    #         tmp = self.head\n",
    "    #         while tmp is not None:\n",
    "    #             if tmp.next == self.tail:\n",
    "    #                 tmp.next = None\n",
    "    #                 self.tail = tmp\n",
    "    #             tmp = tmp.next\n",
    "    #     self.length -= 1\n",
    "    \n",
    "    def pop(self):\n",
    "        if self.length == 0:\n",
    "            return None\n",
    "        \n",
    "        pre = self.head\n",
    "        tmp = self.head\n",
    "        \n",
    "        while(tmp.next):\n",
    "            pre = tmp\n",
    "            tmp = tmp.next\n",
    "            \n",
    "        # when tmp will point to Tail, pre will be at Tail - 1\n",
    "        pre.next = None\n",
    "        self.tail = pre\n",
    "        \n",
    "        self.length -= 1\n",
    "        \n",
    "        if self.length == 0:\n",
    "            self.head = None\n",
    "            self.tail = None\n",
    "        \n",
    "        return tmp.value\n",
    "    \n",
    "    def prepend(self, value):\n",
    "        \"\"\"\n",
    "        Adds a node to the beginning of list\n",
    "        \"\"\"\n",
    "        \n",
    "        new_node = Node(value)\n",
    "        \n",
    "        if(self.length == 0):\n",
    "            self.head = new_node\n",
    "            self.tail = new_node\n",
    "        else:\n",
    "            new_node.next = self.head\n",
    "            self.head = new_node\n",
    "        self.length += 1\n",
    "        return True\n",
    "        \n",
    "    def pop_first(self):\n",
    "        \"\"\"\n",
    "        Removes the very first node in the list\n",
    "        \"\"\"\n",
    "        \n",
    "        if self.length == 0:\n",
    "            return None\n",
    "        \n",
    "        if self.length == 1:\n",
    "            tmp = self.head\n",
    "            self.head = None\n",
    "            self.tail = None\n",
    "        else:\n",
    "            tmp = self.head\n",
    "            self.head = self.head.next\n",
    "            tmp.next = None\n",
    "        self.length -= 1\n",
    "        return tmp.value\n",
    "    \n",
    "    def get(self, index):\n",
    "        \"\"\"\n",
    "        Access an element by its index\n",
    "        \"\"\"\n",
    "        if index < 0 or index >= self.length:\n",
    "            return None\n",
    "        \n",
    "        tmp = self.head\n",
    "        # for i in range(self.length):\n",
    "        #     if(i == index):\n",
    "        #         return tmp.value\n",
    "        #     tmp = tmp.next\n",
    "        for _ in range(index): # more cleaner approach than above block\n",
    "            tmp = tmp.next\n",
    "        return tmp\n",
    "    \n",
    "    def set_value(self, index, value):\n",
    "        \"\"\"\n",
    "        Sets the value of a node at given index\n",
    "        \"\"\"\n",
    "        # - Approach 1\n",
    "        # if index < 0 or index >= self.length:\n",
    "        #     return None\n",
    "        \n",
    "        # tmp = self.head\n",
    "        # for _ in range(index):\n",
    "        #     tmp = tmp.next\n",
    "        # tmp.value = value\n",
    "        # return True\n",
    "        \n",
    "        # - Approach 2\n",
    "        # DRY principle\n",
    "        tmp = self.get(index)\n",
    "        if tmp:\n",
    "            tmp.value = value\n",
    "            return True\n",
    "        return False\n",
    "    \n",
    "    def insert(self, index, value):\n",
    "        \"\"\"\n",
    "        Insert a new node at a given index\n",
    "        \"\"\"\n",
    "        if index < 0 or index >= self.length:\n",
    "            return False\n",
    "        \n",
    "        if index == 0:\n",
    "            return self.prepend(value)  # DRY\n",
    "            \n",
    "        if index == self.length:\n",
    "            return self.append(value)  # DRY\n",
    "            \n",
    "        # in between any other nodes\n",
    "        new_node = Node(value)\n",
    "        \n",
    "        tmp = self.get(index-1)\n",
    "        \n",
    "        new_node.next = tmp.next\n",
    "        tmp.next = new_node\n",
    "        self.length += 1\n",
    "        \n",
    "        return True\n",
    "    \n",
    "    def remove(self, index):\n",
    "        if index < 0 or index >= self.length:\n",
    "            return None\n",
    "        \n",
    "        if index == 0:\n",
    "            return self.pop_first()\n",
    "        if index == self.length - 1:\n",
    "            return self.pop()\n",
    "        \n",
    "        tmp = self.get(index-1)\n",
    "        remove_node = tmp.next \n",
    "        tmp.next = remove_node.next\n",
    "        \n",
    "        remove_node.next = None\n",
    "        self.length -= 1\n",
    "        return True\n",
    "    \n",
    "    def reverse(self):\n",
    "        # pre - tmp - after\n",
    "        tmp = self.head\n",
    "        \n",
    "        self.head = self.tail\n",
    "        self.tail = tmp\n",
    "        \n",
    "        before = None\n",
    "        after = tmp.next\n",
    "        \n",
    "        \n",
    "        for _ in range(self.length):\n",
    "           after = tmp.next\n",
    "           tmp.next = before\n",
    "           before = tmp\n",
    "           tmp = after\n",
    "           \n",
    "           \n",
    "        \n",
    "        # print list\n",
    "        self.print_list()\n",
    "\n",
    "        \n",
    "        \n",
    "        \n",
    "        "
   ]
  },
  {
   "cell_type": "code",
   "execution_count": 139,
   "id": "077471ca",
   "metadata": {},
   "outputs": [
    {
     "name": "stdout",
     "output_type": "stream",
     "text": [
      "Head <__main__.Node object at 0x11c8201a0>\n",
      "Head value 4\n",
      "Tail <__main__.Node object at 0x11c8201a0>\n",
      "Tail 4\n",
      "Tail None\n",
      "Length 1\n"
     ]
    }
   ],
   "source": [
    "# Test\n",
    "\n",
    "my_linked_list = LinkedList(4)\n",
    "\n",
    "print(\"Head\", my_linked_list.head)\n",
    "print(\"Head value\", my_linked_list.head.value)\n",
    "\n",
    "print(\"Tail\", my_linked_list.tail)\n",
    "print(\"Tail\", my_linked_list.tail.value)\n",
    "print(\"Tail\", my_linked_list.tail.next)\n",
    "\n",
    "\n",
    "print(\"Length\", my_linked_list.length)"
   ]
  },
  {
   "cell_type": "code",
   "execution_count": 140,
   "id": "80837b8f",
   "metadata": {},
   "outputs": [
    {
     "name": "stdout",
     "output_type": "stream",
     "text": [
      "4 -> \n",
      "\n"
     ]
    }
   ],
   "source": [
    "my_linked_list.print_list()"
   ]
  },
  {
   "cell_type": "code",
   "execution_count": 141,
   "id": "3147f179",
   "metadata": {},
   "outputs": [
    {
     "name": "stdout",
     "output_type": "stream",
     "text": [
      "4 -> 12 -> 50 -> 98 -> \n",
      "\n"
     ]
    }
   ],
   "source": [
    "my_linked_list.append(12)\n",
    "my_linked_list.append(50)\n",
    "my_linked_list.append(98)\n",
    "my_linked_list.print_list()"
   ]
  },
  {
   "cell_type": "code",
   "execution_count": 71,
   "id": "172d61e6",
   "metadata": {},
   "outputs": [
    {
     "name": "stdout",
     "output_type": "stream",
     "text": [
      "8 -> "
     ]
    },
    {
     "data": {
      "text/plain": [
       "4"
      ]
     },
     "execution_count": 71,
     "metadata": {},
     "output_type": "execute_result"
    }
   ],
   "source": [
    "# pop from last\n",
    "pop = my_linked_list.pop()\n",
    "my_linked_list.print_list()\n",
    "pop"
   ]
  },
  {
   "cell_type": "code",
   "execution_count": 142,
   "id": "fc5f6304",
   "metadata": {},
   "outputs": [
    {
     "name": "stdout",
     "output_type": "stream",
     "text": [
      "8 -> 4 -> 12 -> 50 -> 98 -> \n",
      "\n"
     ]
    }
   ],
   "source": [
    "my_linked_list.prepend(8)\n",
    "my_linked_list.print_list()"
   ]
  },
  {
   "cell_type": "code",
   "execution_count": 90,
   "id": "07a0639a",
   "metadata": {},
   "outputs": [],
   "source": [
    "# pop first element\n",
    "my_linked_list.pop_first()"
   ]
  },
  {
   "cell_type": "code",
   "execution_count": 89,
   "id": "e0970ce4",
   "metadata": {},
   "outputs": [],
   "source": [
    "my_linked_list.print_list()"
   ]
  },
  {
   "cell_type": "code",
   "execution_count": null,
   "id": "2d7ab504",
   "metadata": {},
   "outputs": [],
   "source": []
  },
  {
   "cell_type": "code",
   "execution_count": 97,
   "id": "340ad263",
   "metadata": {},
   "outputs": [
    {
     "data": {
      "text/plain": [
       "3"
      ]
     },
     "execution_count": 97,
     "metadata": {},
     "output_type": "execute_result"
    }
   ],
   "source": [
    "my_linked_list.length"
   ]
  },
  {
   "cell_type": "code",
   "execution_count": 107,
   "id": "c816f21c",
   "metadata": {},
   "outputs": [
    {
     "data": {
      "text/plain": [
       "<__main__.Node at 0x11c57de50>"
      ]
     },
     "execution_count": 107,
     "metadata": {},
     "output_type": "execute_result"
    }
   ],
   "source": [
    "my_linked_list.get(2)"
   ]
  },
  {
   "cell_type": "code",
   "execution_count": 114,
   "id": "850f9e6d",
   "metadata": {},
   "outputs": [
    {
     "name": "stdout",
     "output_type": "stream",
     "text": [
      "4 -> 12 -> 50 -> 98 -> \n",
      "\n",
      "\n",
      "4 -> 44 -> 50 -> 98 -> \n",
      "\n"
     ]
    }
   ],
   "source": [
    "my_linked_list.print_list()\n",
    "\n",
    "# set value of some index\n",
    "my_linked_list.set_value(1, 44)\n",
    "print()\n",
    "my_linked_list.print_list()"
   ]
  },
  {
   "cell_type": "code",
   "execution_count": 121,
   "id": "92058567",
   "metadata": {},
   "outputs": [
    {
     "name": "stdout",
     "output_type": "stream",
     "text": [
      "8 -> 4 -> 120 -> 12 -> 50 -> 98 -> \n",
      "\n"
     ]
    }
   ],
   "source": [
    "my_linked_list.insert(2, 120)\n",
    "my_linked_list.print_list()"
   ]
  },
  {
   "cell_type": "code",
   "execution_count": 122,
   "id": "0e413ac5",
   "metadata": {},
   "outputs": [
    {
     "name": "stdout",
     "output_type": "stream",
     "text": [
      "8 -> 120 -> 12 -> 50 -> 98 -> \n",
      "\n"
     ]
    }
   ],
   "source": [
    "my_linked_list.remove(1)\n",
    "my_linked_list.print_list()"
   ]
  },
  {
   "cell_type": "code",
   "execution_count": 143,
   "id": "3fea5f96",
   "metadata": {},
   "outputs": [
    {
     "name": "stdout",
     "output_type": "stream",
     "text": [
      "8 -> 4 -> 12 -> 50 -> 98 -> \n",
      "\n"
     ]
    }
   ],
   "source": [
    "my_linked_list.print_list()"
   ]
  },
  {
   "cell_type": "code",
   "execution_count": 144,
   "id": "a9fb2407",
   "metadata": {},
   "outputs": [
    {
     "name": "stdout",
     "output_type": "stream",
     "text": [
      "98 -> 50 -> 12 -> 4 -> 8 -> \n",
      "\n"
     ]
    }
   ],
   "source": [
    "my_linked_list.reverse()"
   ]
  },
  {
   "cell_type": "code",
   "execution_count": null,
   "id": "a76704dc",
   "metadata": {},
   "outputs": [],
   "source": []
  }
 ],
 "metadata": {
  "kernelspec": {
   "display_name": "dsai",
   "language": "python",
   "name": "python3"
  },
  "language_info": {
   "codemirror_mode": {
    "name": "ipython",
    "version": 3
   },
   "file_extension": ".py",
   "mimetype": "text/x-python",
   "name": "python",
   "nbconvert_exporter": "python",
   "pygments_lexer": "ipython3",
   "version": "3.13.1"
  }
 },
 "nbformat": 4,
 "nbformat_minor": 5
}
