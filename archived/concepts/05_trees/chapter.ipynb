{
 "cells": [
  {
   "cell_type": "markdown",
   "id": "904228b5",
   "metadata": {},
   "source": [
    "### Binary Search Tree"
   ]
  },
  {
   "cell_type": "code",
   "execution_count": 14,
   "id": "1c77e1e5",
   "metadata": {},
   "outputs": [],
   "source": [
    "class Node:\n",
    "    def __init__(self, value):\n",
    "        self.value = value\n",
    "        self.left = None\n",
    "        self.right = None\n",
    "\n",
    "class BinarySearchTree:\n",
    "    def __init__(self):\n",
    "        # we are not creating any new node here\n",
    "        self.root = None\n",
    "        \n",
    "    def insert(self, value):\n",
    "        new_node = Node(value)\n",
    "        \n",
    "        if self.root is None:\n",
    "            self.root = new_node\n",
    "            return True\n",
    "        \n",
    "        temp = self.root\n",
    "        \n",
    "        while temp:\n",
    "            if new_node.value == temp.value:\n",
    "                return False\n",
    "            \n",
    "            if new_node.value > temp.value:\n",
    "                # go to right but first check if a node is existing\n",
    "                if temp.right is not None:\n",
    "                    # move right\n",
    "                    temp = temp.right\n",
    "                else:\n",
    "                    temp.right = new_node\n",
    "                    return True\n",
    "            else:\n",
    "                if temp.left is not None:\n",
    "                    temp = temp.left\n",
    "                else:\n",
    "                    temp.left = new_node\n",
    "                    return True\n",
    "                \n",
    "    def print_tree(self):\n",
    "            pass\n",
    "        \n",
    "    def contains(self, value):\n",
    "        if self.root is None:\n",
    "                return None\n",
    "            \n",
    "        temp = self.root\n",
    "            \n",
    "        while temp:\n",
    "                if value < temp.value:\n",
    "                    # go left\n",
    "                    temp = temp.left\n",
    "                elif value > temp.value:\n",
    "                    temp = temp.right\n",
    "                else:\n",
    "                    return True\n",
    "            \n",
    "        return False    \n",
    "                \n",
    "        "
   ]
  },
  {
   "cell_type": "code",
   "execution_count": 15,
   "id": "33f5d45d",
   "metadata": {},
   "outputs": [
    {
     "name": "stdout",
     "output_type": "stream",
     "text": [
      "None\n"
     ]
    }
   ],
   "source": [
    "# init an empty BST\n",
    "my_tree = BinarySearchTree()\n",
    "\n",
    "print(my_tree.root)"
   ]
  },
  {
   "cell_type": "code",
   "execution_count": 16,
   "id": "f4a82a24",
   "metadata": {},
   "outputs": [
    {
     "name": "stdout",
     "output_type": "stream",
     "text": [
      "24\n"
     ]
    }
   ],
   "source": [
    "my_tree.insert(24)\n",
    "print(my_tree.root.value)"
   ]
  },
  {
   "cell_type": "code",
   "execution_count": 17,
   "id": "5a23efd8",
   "metadata": {},
   "outputs": [
    {
     "name": "stdout",
     "output_type": "stream",
     "text": [
      "18\n"
     ]
    }
   ],
   "source": [
    "my_tree.insert(18)\n",
    "print(my_tree.root.left.value)"
   ]
  },
  {
   "cell_type": "code",
   "execution_count": 19,
   "id": "9ad6599b",
   "metadata": {},
   "outputs": [
    {
     "data": {
      "text/plain": [
       "False"
      ]
     },
     "execution_count": 19,
     "metadata": {},
     "output_type": "execute_result"
    }
   ],
   "source": [
    "my_tree.contains(188)"
   ]
  },
  {
   "cell_type": "code",
   "execution_count": 20,
   "id": "125d094a",
   "metadata": {},
   "outputs": [
    {
     "data": {
      "text/plain": [
       "True"
      ]
     },
     "execution_count": 20,
     "metadata": {},
     "output_type": "execute_result"
    }
   ],
   "source": [
    "my_tree.contains(18)"
   ]
  },
  {
   "cell_type": "code",
   "execution_count": null,
   "id": "23ac355e",
   "metadata": {},
   "outputs": [],
   "source": []
  }
 ],
 "metadata": {
  "kernelspec": {
   "display_name": "dsai",
   "language": "python",
   "name": "python3"
  },
  "language_info": {
   "codemirror_mode": {
    "name": "ipython",
    "version": 3
   },
   "file_extension": ".py",
   "mimetype": "text/x-python",
   "name": "python",
   "nbconvert_exporter": "python",
   "pygments_lexer": "ipython3",
   "version": "3.13.1"
  }
 },
 "nbformat": 4,
 "nbformat_minor": 5
}
