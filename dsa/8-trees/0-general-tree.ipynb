{
 "cells": [
  {
   "cell_type": "markdown",
   "id": "24b12508",
   "metadata": {},
   "source": [
    "## General Tree\n",
    "\n",
    "Used to creat hierarchical data like org chart, file system etc, categories in ecommerce website etc."
   ]
  },
  {
   "cell_type": "code",
   "execution_count": 1,
   "id": "a94b1e97",
   "metadata": {},
   "outputs": [],
   "source": [
    "class Tree_node:\n",
    "\n",
    "    # This creates a node\n",
    "    def __init__(self, data):\n",
    "        self.data = data\n",
    "        self.parent = None\n",
    "        self.children = []\n",
    "\n",
    "    def add_child(self, child):\n",
    "        self.children.append(child)\n",
    "        child.parent = self\n",
    "\n",
    "    def get_level(self):\n",
    "        cursor = self.parent\n",
    "        level = 0\n",
    "        while cursor:\n",
    "            level = level+1\n",
    "            cursor = cursor.parent\n",
    "\n",
    "        return level\n",
    "\n",
    "    def print_tree(self):\n",
    "        spaces = ' ' * self.get_level() * 3\n",
    "        prefix = spaces + \"|__\" if self.parent else \"\"\n",
    "\n",
    "        print(prefix + self.data)\n",
    "\n",
    "        if self.children:\n",
    "            for child in self.children:\n",
    "                child.print_tree()"
   ]
  },
  {
   "cell_type": "code",
   "execution_count": 2,
   "id": "3b1dbd47",
   "metadata": {},
   "outputs": [
    {
     "name": "stdout",
     "output_type": "stream",
     "text": [
      "Electronics\n",
      "   |__Laptop\n",
      "      |__Macbook\n",
      "      |__Surface\n",
      "      |__Delll\n",
      "   |__mobile\n",
      "      |__Nokia\n",
      "      |__iPhone\n",
      "      |__Xiamoi\n",
      "   |__TV\n",
      "      |__Sony\n",
      "      |__LG\n",
      "      |__Samsung\n"
     ]
    }
   ],
   "source": [
    "\n",
    "\n",
    "def build_product_tree():\n",
    "    root = Tree_node(\"Electronics\")\n",
    "\n",
    "    laptop = Tree_node(\"Laptop\")\n",
    "    laptop.add_child(Tree_node(\"Macbook\"))\n",
    "    laptop.add_child(Tree_node(\"Surface\"))\n",
    "    laptop.add_child(Tree_node(\"Delll\"))\n",
    "\n",
    "    mobile = Tree_node(\"mobile\")\n",
    "    mobile.add_child(Tree_node(\"Nokia\"))\n",
    "    mobile.add_child(Tree_node(\"iPhone\"))\n",
    "    mobile.add_child(Tree_node(\"Xiamoi\"))\n",
    "\n",
    "    tv = Tree_node(\"TV\")\n",
    "    tv.add_child(Tree_node(\"Sony\"))\n",
    "    tv.add_child(Tree_node(\"LG\"))\n",
    "    tv.add_child(Tree_node(\"Samsung\"))\n",
    "\n",
    "    root.add_child(laptop)\n",
    "    root.add_child(mobile)\n",
    "    root.add_child(tv)\n",
    "\n",
    "    root.print_tree()\n",
    "\n",
    "\n",
    "build_product_tree()"
   ]
  }
 ],
 "metadata": {
  "kernelspec": {
   "display_name": "dsai",
   "language": "python",
   "name": "python3"
  },
  "language_info": {
   "codemirror_mode": {
    "name": "ipython",
    "version": 3
   },
   "file_extension": ".py",
   "mimetype": "text/x-python",
   "name": "python",
   "nbconvert_exporter": "python",
   "pygments_lexer": "ipython3",
   "version": "3.13.1"
  }
 },
 "nbformat": 4,
 "nbformat_minor": 5
}
