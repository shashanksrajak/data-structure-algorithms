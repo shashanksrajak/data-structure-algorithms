{
 "cells": [
  {
   "cell_type": "markdown",
   "id": "8f5cdcd8",
   "metadata": {},
   "source": [
    "# Binary Search Tree"
   ]
  },
  {
   "cell_type": "markdown",
   "id": "33db03e6",
   "metadata": {},
   "source": []
  }
 ],
 "metadata": {
  "language_info": {
   "name": "python"
  }
 },
 "nbformat": 4,
 "nbformat_minor": 5
}
