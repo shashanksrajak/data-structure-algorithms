{
 "cells": [
  {
   "cell_type": "markdown",
   "id": "549ff4e7",
   "metadata": {},
   "source": [
    "## Binary Tree\n",
    "\n",
    "A Binary Tree can be implemented using two methods\n",
    "1. Linked List\n",
    "2. Arrays\n",
    "\n",
    "Here we explore both the methods."
   ]
  },
  {
   "cell_type": "code",
   "execution_count": 17,
   "id": "1f82e243",
   "metadata": {},
   "outputs": [],
   "source": [
    "from collections import deque\n",
    "import graphviz"
   ]
  },
  {
   "cell_type": "markdown",
   "id": "59d4c926",
   "metadata": {},
   "source": [
    "### Using Linked List"
   ]
  },
  {
   "cell_type": "code",
   "execution_count": 37,
   "id": "56029bd0",
   "metadata": {},
   "outputs": [],
   "source": [
    "class Node:\n",
    "    def __init__(self, data):\n",
    "        self.data = data\n",
    "        self.left_child = None\n",
    "        self.right_child = None\n",
    "\n",
    "class BinaryTreeLinkedList:\n",
    "    def __init__(self, data):\n",
    "        # create a root node\n",
    "        node = Node(data)\n",
    "        self.root = node\n",
    "        self.queue = deque()\n",
    "        self.queue.append(self.root)\n",
    "        \n",
    "    def insert_left(self, data, parent: Node):\n",
    "        node = Node(data)\n",
    "        \n",
    "        parent.left_child = node\n",
    "        \n",
    "        self.queue.append(node)\n",
    "    \n",
    "    def insert_right(self, data, parent: Node):\n",
    "        node = Node(data)\n",
    "        \n",
    "        parent.right_child = node\n",
    "        \n",
    "        self.queue.append(node)\n",
    "        \n",
    "    def traversal_preorder(self, node: Node):\n",
    "        # parent - left -right\n",
    "        \n",
    "        if node is not None:\n",
    "            print(node.data, end=\" -> \") \n",
    "            self.traversal_preorder(node.left_child)\n",
    "            self.traversal_preorder(node.right_child)\n",
    "    \n",
    "    \n",
    "    def traversal_postorder(self, node: Node):\n",
    "        # left - right - parent\n",
    "        \n",
    "        if node is not None:\n",
    "            self.traversal_postorder(node.left_child)\n",
    "            self.traversal_postorder(node.right_child)\n",
    "            print(node.data, end=\" -> \") \n",
    "            \n",
    "    def traversal_inorder(self, node: Node):\n",
    "        # left - parent - right \n",
    "        \n",
    "        if node is not None:\n",
    "            self.traversal_inorder(node.left_child)\n",
    "            print(node.data, end=\" -> \")\n",
    "            self.traversal_inorder(node.right_child)\n",
    "             \n",
    "    \n",
    "    def traversal_level(self):\n",
    "        \n",
    "        # level by level\n",
    "        \n",
    "        if self.root is None:\n",
    "            return\n",
    "        \n",
    "        # we need a queue to process nodes level by level\n",
    "        queue = deque()\n",
    "        \n",
    "        print(self.root.data, end=\" -- >\") # visited root node\n",
    "        queue.append(self.root) # added in the queue to explore root node\n",
    "\n",
    "        while queue:\n",
    "            # keep on visiting and exploring all the nodes\n",
    "            node = queue.popleft() # note that it does not matter in which order we do traversal in a given level\n",
    "            \n",
    "            if node.left_child:\n",
    "                print(node.left_child.data, end=\" --> \") # visited this left child\n",
    "                queue.append(node.left_child)  # added this left child in queue to explore in next level\n",
    "            if node.right_child:\n",
    "                print(node.right_child.data, end= \" --> \")\n",
    "                queue.append(node.right_child)     "
   ]
  },
  {
   "cell_type": "code",
   "execution_count": 24,
   "id": "8637ae16",
   "metadata": {},
   "outputs": [],
   "source": [
    "nodes = []\n",
    "\n",
    "\n",
    "def traverse_tree(node: Node):\n",
    "  if node is None:\n",
    "    return\n",
    "  nodes.append(node)\n",
    "  traverse_tree(node.left_child)\n",
    "  traverse_tree(node.right_child)\n",
    "\n",
    "\n",
    "def display_tree(root: Node):\n",
    "  dot = graphviz.Digraph(comment='Binary Tree')\n",
    "  global nodes\n",
    "  nodes = []\n",
    "  traverse_tree(root)\n",
    "\n",
    "  for node in nodes:\n",
    "    dot.node(name=str(node.data), label=str(node.data))\n",
    "\n",
    "  for node in nodes:\n",
    "    if node.left_child:\n",
    "      dot.edge(str(node.data), str(node.left_child.data))\n",
    "    if node.right_child:\n",
    "      dot.edge(str(node.data), str(node.right_child.data))\n",
    "  return dot"
   ]
  },
  {
   "cell_type": "code",
   "execution_count": 39,
   "id": "dd1c97b5",
   "metadata": {},
   "outputs": [],
   "source": [
    "tree = BinaryTreeLinkedList(10)"
   ]
  },
  {
   "cell_type": "code",
   "execution_count": 40,
   "id": "aae3304a",
   "metadata": {},
   "outputs": [],
   "source": [
    "while tree.queue:\n",
    "    current_node = tree.queue.popleft()\n",
    "    try:\n",
    "        x = int(input(\n",
    "                f\"Enter left child for node with data {current_node.data}  (enter if its NULL) : \"))\n",
    "        tree.insert_left(x, current_node)\n",
    "    except:\n",
    "        pass\n",
    "\n",
    "    try:\n",
    "        x = int(input(\n",
    "                f\"Enter right child for node with data {current_node.data}  (enter if its NULL) : \"))\n",
    "        tree.insert_right(x, current_node)\n",
    "    except:\n",
    "        pass"
   ]
  },
  {
   "cell_type": "markdown",
   "id": "d40b649a",
   "metadata": {},
   "source": [
    "example tree - 10, 24, 26, 32, 42, 45, 48, 12, 39, 66"
   ]
  },
  {
   "cell_type": "code",
   "execution_count": 28,
   "id": "7a2e116c",
   "metadata": {},
   "outputs": [
    {
     "data": {
      "image/svg+xml": [
       "<?xml version=\"1.0\" encoding=\"UTF-8\" standalone=\"no\"?>\n",
       "<!DOCTYPE svg PUBLIC \"-//W3C//DTD SVG 1.1//EN\"\n",
       " \"http://www.w3.org/Graphics/SVG/1.1/DTD/svg11.dtd\">\n",
       "<!-- Generated by graphviz version 12.2.1 (0)\n",
       " -->\n",
       "<!-- Pages: 1 -->\n",
       "<svg width=\"350pt\" height=\"260pt\"\n",
       " viewBox=\"0.00 0.00 350.00 260.00\" xmlns=\"http://www.w3.org/2000/svg\" xmlns:xlink=\"http://www.w3.org/1999/xlink\">\n",
       "<g id=\"graph0\" class=\"graph\" transform=\"scale(1 1) rotate(0) translate(4 256)\">\n",
       "<polygon fill=\"white\" stroke=\"none\" points=\"-4,4 -4,-256 346,-256 346,4 -4,4\"/>\n",
       "<!-- 10 -->\n",
       "<g id=\"node1\" class=\"node\">\n",
       "<title>10</title>\n",
       "<ellipse fill=\"none\" stroke=\"black\" cx=\"207\" cy=\"-234\" rx=\"27\" ry=\"18\"/>\n",
       "<text text-anchor=\"middle\" x=\"207\" y=\"-228.95\" font-family=\"Times,serif\" font-size=\"14.00\">10</text>\n",
       "</g>\n",
       "<!-- 24 -->\n",
       "<g id=\"node2\" class=\"node\">\n",
       "<title>24</title>\n",
       "<ellipse fill=\"none\" stroke=\"black\" cx=\"171\" cy=\"-162\" rx=\"27\" ry=\"18\"/>\n",
       "<text text-anchor=\"middle\" x=\"171\" y=\"-156.95\" font-family=\"Times,serif\" font-size=\"14.00\">24</text>\n",
       "</g>\n",
       "<!-- 10&#45;&gt;24 -->\n",
       "<g id=\"edge1\" class=\"edge\">\n",
       "<title>10&#45;&gt;24</title>\n",
       "<path fill=\"none\" stroke=\"black\" d=\"M198.65,-216.76C194.42,-208.55 189.19,-198.37 184.42,-189.09\"/>\n",
       "<polygon fill=\"black\" stroke=\"black\" points=\"187.68,-187.79 180,-180.49 181.46,-190.99 187.68,-187.79\"/>\n",
       "</g>\n",
       "<!-- 26 -->\n",
       "<g id=\"node8\" class=\"node\">\n",
       "<title>26</title>\n",
       "<ellipse fill=\"none\" stroke=\"black\" cx=\"243\" cy=\"-162\" rx=\"27\" ry=\"18\"/>\n",
       "<text text-anchor=\"middle\" x=\"243\" y=\"-156.95\" font-family=\"Times,serif\" font-size=\"14.00\">26</text>\n",
       "</g>\n",
       "<!-- 10&#45;&gt;26 -->\n",
       "<g id=\"edge2\" class=\"edge\">\n",
       "<title>10&#45;&gt;26</title>\n",
       "<path fill=\"none\" stroke=\"black\" d=\"M215.35,-216.76C219.58,-208.55 224.81,-198.37 229.58,-189.09\"/>\n",
       "<polygon fill=\"black\" stroke=\"black\" points=\"232.54,-190.99 234,-180.49 226.32,-187.79 232.54,-190.99\"/>\n",
       "</g>\n",
       "<!-- 32 -->\n",
       "<g id=\"node3\" class=\"node\">\n",
       "<title>32</title>\n",
       "<ellipse fill=\"none\" stroke=\"black\" cx=\"99\" cy=\"-90\" rx=\"27\" ry=\"18\"/>\n",
       "<text text-anchor=\"middle\" x=\"99\" y=\"-84.95\" font-family=\"Times,serif\" font-size=\"14.00\">32</text>\n",
       "</g>\n",
       "<!-- 24&#45;&gt;32 -->\n",
       "<g id=\"edge3\" class=\"edge\">\n",
       "<title>24&#45;&gt;32</title>\n",
       "<path fill=\"none\" stroke=\"black\" d=\"M156.08,-146.5C146.23,-136.92 133.14,-124.19 121.97,-113.34\"/>\n",
       "<polygon fill=\"black\" stroke=\"black\" points=\"124.59,-111 114.98,-106.54 119.71,-116.02 124.59,-111\"/>\n",
       "</g>\n",
       "<!-- 42 -->\n",
       "<g id=\"node6\" class=\"node\">\n",
       "<title>42</title>\n",
       "<ellipse fill=\"none\" stroke=\"black\" cx=\"171\" cy=\"-90\" rx=\"27\" ry=\"18\"/>\n",
       "<text text-anchor=\"middle\" x=\"171\" y=\"-84.95\" font-family=\"Times,serif\" font-size=\"14.00\">42</text>\n",
       "</g>\n",
       "<!-- 24&#45;&gt;42 -->\n",
       "<g id=\"edge4\" class=\"edge\">\n",
       "<title>24&#45;&gt;42</title>\n",
       "<path fill=\"none\" stroke=\"black\" d=\"M171,-143.7C171,-136.41 171,-127.73 171,-119.54\"/>\n",
       "<polygon fill=\"black\" stroke=\"black\" points=\"174.5,-119.62 171,-109.62 167.5,-119.62 174.5,-119.62\"/>\n",
       "</g>\n",
       "<!-- 12 -->\n",
       "<g id=\"node4\" class=\"node\">\n",
       "<title>12</title>\n",
       "<ellipse fill=\"none\" stroke=\"black\" cx=\"27\" cy=\"-18\" rx=\"27\" ry=\"18\"/>\n",
       "<text text-anchor=\"middle\" x=\"27\" y=\"-12.95\" font-family=\"Times,serif\" font-size=\"14.00\">12</text>\n",
       "</g>\n",
       "<!-- 32&#45;&gt;12 -->\n",
       "<g id=\"edge5\" class=\"edge\">\n",
       "<title>32&#45;&gt;12</title>\n",
       "<path fill=\"none\" stroke=\"black\" d=\"M84.08,-74.5C74.23,-64.92 61.14,-52.19 49.97,-41.34\"/>\n",
       "<polygon fill=\"black\" stroke=\"black\" points=\"52.59,-39 42.98,-34.54 47.71,-44.02 52.59,-39\"/>\n",
       "</g>\n",
       "<!-- 39 -->\n",
       "<g id=\"node5\" class=\"node\">\n",
       "<title>39</title>\n",
       "<ellipse fill=\"none\" stroke=\"black\" cx=\"99\" cy=\"-18\" rx=\"27\" ry=\"18\"/>\n",
       "<text text-anchor=\"middle\" x=\"99\" y=\"-12.95\" font-family=\"Times,serif\" font-size=\"14.00\">39</text>\n",
       "</g>\n",
       "<!-- 32&#45;&gt;39 -->\n",
       "<g id=\"edge6\" class=\"edge\">\n",
       "<title>32&#45;&gt;39</title>\n",
       "<path fill=\"none\" stroke=\"black\" d=\"M99,-71.7C99,-64.41 99,-55.73 99,-47.54\"/>\n",
       "<polygon fill=\"black\" stroke=\"black\" points=\"102.5,-47.62 99,-37.62 95.5,-47.62 102.5,-47.62\"/>\n",
       "</g>\n",
       "<!-- 66 -->\n",
       "<g id=\"node7\" class=\"node\">\n",
       "<title>66</title>\n",
       "<ellipse fill=\"none\" stroke=\"black\" cx=\"171\" cy=\"-18\" rx=\"27\" ry=\"18\"/>\n",
       "<text text-anchor=\"middle\" x=\"171\" y=\"-12.95\" font-family=\"Times,serif\" font-size=\"14.00\">66</text>\n",
       "</g>\n",
       "<!-- 42&#45;&gt;66 -->\n",
       "<g id=\"edge7\" class=\"edge\">\n",
       "<title>42&#45;&gt;66</title>\n",
       "<path fill=\"none\" stroke=\"black\" d=\"M171,-71.7C171,-64.41 171,-55.73 171,-47.54\"/>\n",
       "<polygon fill=\"black\" stroke=\"black\" points=\"174.5,-47.62 171,-37.62 167.5,-47.62 174.5,-47.62\"/>\n",
       "</g>\n",
       "<!-- 45 -->\n",
       "<g id=\"node9\" class=\"node\">\n",
       "<title>45</title>\n",
       "<ellipse fill=\"none\" stroke=\"black\" cx=\"243\" cy=\"-90\" rx=\"27\" ry=\"18\"/>\n",
       "<text text-anchor=\"middle\" x=\"243\" y=\"-84.95\" font-family=\"Times,serif\" font-size=\"14.00\">45</text>\n",
       "</g>\n",
       "<!-- 26&#45;&gt;45 -->\n",
       "<g id=\"edge8\" class=\"edge\">\n",
       "<title>26&#45;&gt;45</title>\n",
       "<path fill=\"none\" stroke=\"black\" d=\"M243,-143.7C243,-136.41 243,-127.73 243,-119.54\"/>\n",
       "<polygon fill=\"black\" stroke=\"black\" points=\"246.5,-119.62 243,-109.62 239.5,-119.62 246.5,-119.62\"/>\n",
       "</g>\n",
       "<!-- 48 -->\n",
       "<g id=\"node10\" class=\"node\">\n",
       "<title>48</title>\n",
       "<ellipse fill=\"none\" stroke=\"black\" cx=\"315\" cy=\"-90\" rx=\"27\" ry=\"18\"/>\n",
       "<text text-anchor=\"middle\" x=\"315\" y=\"-84.95\" font-family=\"Times,serif\" font-size=\"14.00\">48</text>\n",
       "</g>\n",
       "<!-- 26&#45;&gt;48 -->\n",
       "<g id=\"edge9\" class=\"edge\">\n",
       "<title>26&#45;&gt;48</title>\n",
       "<path fill=\"none\" stroke=\"black\" d=\"M257.92,-146.5C267.77,-136.92 280.86,-124.19 292.03,-113.34\"/>\n",
       "<polygon fill=\"black\" stroke=\"black\" points=\"294.29,-116.02 299.02,-106.54 289.41,-111 294.29,-116.02\"/>\n",
       "</g>\n",
       "</g>\n",
       "</svg>\n"
      ],
      "text/plain": [
       "<graphviz.graphs.Digraph at 0x103b515b0>"
      ]
     },
     "execution_count": 28,
     "metadata": {},
     "output_type": "execute_result"
    }
   ],
   "source": [
    "display_tree(tree.root)"
   ]
  },
  {
   "cell_type": "code",
   "execution_count": 41,
   "id": "72ef58bb",
   "metadata": {},
   "outputs": [
    {
     "name": "stdout",
     "output_type": "stream",
     "text": [
      "----Pre-order traversal----\n",
      "10 -> 24 -> 32 -> 12 -> 39 -> 42 -> 66 -> 26 -> 45 -> 48 -> "
     ]
    }
   ],
   "source": [
    "print(\"----Pre-order traversal----\")\n",
    "tree.traversal_preorder(tree.root)"
   ]
  },
  {
   "cell_type": "code",
   "execution_count": 42,
   "id": "15a56a3a",
   "metadata": {},
   "outputs": [
    {
     "name": "stdout",
     "output_type": "stream",
     "text": [
      "----Post-order traversal----\n",
      "12 -> 39 -> 32 -> 66 -> 42 -> 24 -> 45 -> 48 -> 26 -> 10 -> "
     ]
    }
   ],
   "source": [
    "print(\"----Post-order traversal----\")\n",
    "tree.traversal_postorder(tree.root)"
   ]
  },
  {
   "cell_type": "code",
   "execution_count": 43,
   "id": "1f6f2120",
   "metadata": {},
   "outputs": [
    {
     "name": "stdout",
     "output_type": "stream",
     "text": [
      "----In-order traversal----\n",
      "12 -> 32 -> 39 -> 24 -> 66 -> 42 -> 10 -> 45 -> 26 -> 48 -> "
     ]
    }
   ],
   "source": [
    "print(\"----In-order traversal----\")\n",
    "tree.traversal_inorder(tree.root)"
   ]
  },
  {
   "cell_type": "code",
   "execution_count": 44,
   "id": "da886ee8",
   "metadata": {},
   "outputs": [
    {
     "name": "stdout",
     "output_type": "stream",
     "text": [
      "----Level-order traversal----\n",
      "10 -- >24 --> 26 --> 32 --> 42 --> 45 --> 48 --> 12 --> 39 --> 66 --> "
     ]
    }
   ],
   "source": [
    "print(\"----Level-order traversal----\")\n",
    "tree.traversal_level()"
   ]
  },
  {
   "cell_type": "markdown",
   "id": "8d574432",
   "metadata": {},
   "source": [
    "### Using Arrays\n",
    "\n",
    "For a 0-base array we will use a formula to decide the location for `left_child` and `right_child` of a node.\n",
    "\n",
    "$$\n",
    "left child = 2i + 1 \\\\\n",
    "\n",
    "right child = 2i + 2 \\\\\n",
    "\n",
    "parent node = (i -1 // 2)\n",
    "$$"
   ]
  },
  {
   "cell_type": "code",
   "execution_count": 77,
   "id": "4f61ee6b",
   "metadata": {},
   "outputs": [],
   "source": [
    "class BinaryTreeArray:\n",
    "    def __init__(self, data):\n",
    "        \"\"\"\n",
    "        init the Tree using root node data\n",
    "        \"\"\"\n",
    "        self.array = [None] * 30 # this will hold tree data as per the formula defined above\n",
    "        self.array[0] = data # this will init the tree with root node\n",
    "        \n",
    "    def validate_index(self, i):\n",
    "        if i < 0 or i > len(self.array)-1:\n",
    "            return False\n",
    "        else:\n",
    "            return True\n",
    "        \n",
    "    def insert_left(self, index, data):\n",
    "        \"\"\"\n",
    "        index : index of parent node\n",
    "        data : data for left child\n",
    "        \"\"\"\n",
    "        \n",
    "        if not self.validate_index(index):\n",
    "            return None\n",
    "        \n",
    "        self.array[2*index + 1] = data\n",
    "        \n",
    "        return 2*index + 1\n",
    "    \n",
    "    def insert_right(self, index, data):\n",
    "        \"\"\"\n",
    "        index : index of parent node\n",
    "        data : data for right child\n",
    "        \"\"\"\n",
    "\n",
    "        if not self.validate_index(index):\n",
    "            return None\n",
    "\n",
    "        self.array[2*index + 2] = data\n",
    "        \n",
    "        return 2*index + 2\n",
    "    \n",
    "    def get_parent(self, index):\n",
    "        if not self.validate_index(index):\n",
    "            return None\n",
    "        return self.array[(index-1)//2]\n",
    "        \n",
    "        \n",
    "        "
   ]
  },
  {
   "cell_type": "code",
   "execution_count": 79,
   "id": "6f13ce89",
   "metadata": {},
   "outputs": [],
   "source": [
    "tree = BinaryTreeArray(10)"
   ]
  },
  {
   "cell_type": "code",
   "execution_count": 80,
   "id": "3b41945a",
   "metadata": {},
   "outputs": [],
   "source": [
    "queue = deque()\n",
    "\n",
    "queue.append(0)\n",
    "\n",
    "while queue:\n",
    "    current_index = queue.popleft()\n",
    "    try:\n",
    "        x = int(input(\n",
    "                f\"Enter left child for node with index {current_index}  (enter if its NULL) : \"))\n",
    "        idx = tree.insert_left(current_index, x)\n",
    "        queue.append(idx)\n",
    "    except IndexError:\n",
    "        break\n",
    "    except ValueError:\n",
    "        pass\n",
    "\n",
    "    try:\n",
    "        x = int(input(\n",
    "                f\"Enter right child for node with index {current_index}  (enter if its NULL) : \"))\n",
    "        idx = tree.insert_right(current_index, x)\n",
    "        queue.append(idx)\n",
    "    except IndexError:\n",
    "        break\n",
    "    except ValueError:\n",
    "        pass"
   ]
  },
  {
   "cell_type": "code",
   "execution_count": 83,
   "id": "580d993f",
   "metadata": {},
   "outputs": [
    {
     "data": {
      "text/plain": [
       "[10, 12, 14, 18, 24, 34, 54, 56, None, None]"
      ]
     },
     "execution_count": 83,
     "metadata": {},
     "output_type": "execute_result"
    }
   ],
   "source": [
    "tree.array[:10]"
   ]
  },
  {
   "cell_type": "code",
   "execution_count": 84,
   "id": "7719ef55",
   "metadata": {},
   "outputs": [
    {
     "data": {
      "text/plain": [
       "12"
      ]
     },
     "execution_count": 84,
     "metadata": {},
     "output_type": "execute_result"
    }
   ],
   "source": [
    "tree.get_parent(3)"
   ]
  }
 ],
 "metadata": {
  "kernelspec": {
   "display_name": "dsai",
   "language": "python",
   "name": "python3"
  },
  "language_info": {
   "codemirror_mode": {
    "name": "ipython",
    "version": 3
   },
   "file_extension": ".py",
   "mimetype": "text/x-python",
   "name": "python",
   "nbconvert_exporter": "python",
   "pygments_lexer": "ipython3",
   "version": "3.13.1"
  }
 },
 "nbformat": 4,
 "nbformat_minor": 5
}
