{
 "cells": [
  {
   "cell_type": "markdown",
   "id": "7e13972c",
   "metadata": {},
   "source": [
    "Question : Invert a binary tree\n",
    "\n",
    "https://neetcode.io/problems/invert-a-binary-tree?list=blind75\n",
    "https://leetcode.com/problems/invert-binary-tree/description/\n"
   ]
  },
  {
   "cell_type": "code",
   "execution_count": null,
   "id": "0d36aefc",
   "metadata": {},
   "outputs": [],
   "source": [
    "# Definition for a binary tree node.\n",
    "# class TreeNode:\n",
    "#     def __init__(self, val=0, left=None, right=None):\n",
    "#         self.val = val\n",
    "#         self.left = left\n",
    "#         self.right = right\n",
    "\n",
    "from collections import deque\n",
    "\n",
    "\n",
    "class Solution:\n",
    "    def invertTree(self, root: Optional[TreeNode]) -> Optional[TreeNode]:\n",
    "        if root is None:\n",
    "            return\n",
    "\n",
    "        # level order traversal and swapping to mirror the tree\n",
    "        queue = deque()\n",
    "        queue.append(root)\n",
    "\n",
    "        while queue:\n",
    "            node = queue.popleft()\n",
    "\n",
    "            if node.left:\n",
    "                queue.append(node.left)\n",
    "            if node.right:\n",
    "                queue.append(node.right)\n",
    "\n",
    "            # swap\n",
    "            node.left, node.right = node.right, node.left\n",
    "        return root"
   ]
  },
  {
   "cell_type": "markdown",
   "id": "e31ad36f",
   "metadata": {},
   "source": [
    "### Note\n",
    "- What do you think, if instead of `level-order-traversal` can we use other traversal methods and get the desired result?"
   ]
  }
 ],
 "metadata": {
  "language_info": {
   "name": "python"
  }
 },
 "nbformat": 4,
 "nbformat_minor": 5
}
