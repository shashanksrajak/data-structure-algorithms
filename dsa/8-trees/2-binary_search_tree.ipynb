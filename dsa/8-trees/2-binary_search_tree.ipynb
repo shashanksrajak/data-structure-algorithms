{
  "cells": [
    {
      "cell_type": "markdown",
      "metadata": {
        "colab_type": "text",
        "id": "view-in-github"
      },
      "source": [
        "<a href=\"https://colab.research.google.com/github/shashanksrajak/data-structure-algorithms/blob/main/binary_search_tree.ipynb\" target=\"_parent\"><img src=\"https://colab.research.google.com/assets/colab-badge.svg\" alt=\"Open In Colab\"/></a>"
      ]
    },
    {
      "cell_type": "markdown",
      "metadata": {
        "id": "Ie-Cx9q9PjxR"
      },
      "source": [
        "# Binary Search Tree\n",
        "\n",
        "Key Points\n",
        "- Special type of Binary Tree used primarily for searching elements.\n",
        "- The left side of a node contains smaller elements and right side contains larger elements.\n",
        "- No duplicates\n",
        "\n",
        "What we need to study?\n",
        "- Insertion of a node\n",
        "- Creation of BST\n",
        "- Searching a key\n",
        "- Deleting a key"
      ]
    },
    {
      "cell_type": "markdown",
      "metadata": {
        "id": "iICAOl8NQXhF"
      },
      "source": []
    },
    {
      "cell_type": "code",
      "execution_count": 7,
      "metadata": {
        "id": "rzsbMRyOY3zE"
      },
      "outputs": [],
      "source": [
        "import graphviz\n",
        "from collections import deque"
      ]
    },
    {
      "cell_type": "code",
      "execution_count": 36,
      "metadata": {
        "id": "BuU7mq25Pez7"
      },
      "outputs": [],
      "source": [
        "class Node:\n",
        "  def __init__(self, data):\n",
        "    self.data = data\n",
        "    self.left = None\n",
        "    self.right = None\n",
        "\n",
        "class BinarySearchTree:\n",
        "  def __init__(self):\n",
        "    self.root = None\n",
        "\n",
        "  def insert(self, data):\n",
        "    \"\"\"\n",
        "    We insert a node if it is not present already in the tree.\n",
        "    \"\"\"\n",
        "    node = Node(data)\n",
        "    if self.root is None:\n",
        "      # the tree is empty so we create this new node as root\n",
        "      self.root = node\n",
        "    else:\n",
        "      # once the loop is done, it means the data is not present, but we also need to keep a pointer to the last node from wehere it exited.\n",
        "      ptr = self.root\n",
        "      while ptr:\n",
        "        tail = ptr\n",
        "        if data == ptr.data:\n",
        "          raise Exception(\"Duplicate values not allowed.\")\n",
        "        elif data < ptr.data:\n",
        "          # move left\n",
        "          ptr = ptr.left\n",
        "        else:\n",
        "          # move right\n",
        "          ptr = ptr.right\n",
        "\n",
        "      # ptr has already become None, but tail is poitning to the prev position of ptr where we need to insert this data\n",
        "      if data > tail.data:\n",
        "        # insert right\n",
        "        tail.right = node\n",
        "      else:\n",
        "        # insert left\n",
        "        tail.left = node\n",
        "\n",
        "  def search(self, key):\n",
        "    \"\"\"\n",
        "    Search for a key in BST and returns it, if not found returns None\n",
        "    \"\"\"\n",
        "    ptr = self.root\n",
        "    while ptr:\n",
        "      if key == ptr.data:\n",
        "        return ptr\n",
        "      elif key < ptr.data:\n",
        "        # move left\n",
        "        ptr = ptr.left\n",
        "      else:\n",
        "        # move right\n",
        "        ptr = ptr.right\n",
        "\n",
        "    # the key was not found\n",
        "    return None\n",
        "  \n",
        "  def delete(self, key):\n",
        "    \"\"\"\n",
        "    Delete a node from tree\n",
        "    \"\"\"\n",
        "    ptr = self.root\n",
        "    parent = None\n",
        "    while ptr:\n",
        "      if key == ptr.data:\n",
        "        # delete operation\n",
        "        \n",
        "        # case 1 : its a leaf node \n",
        "        if ptr.left is None and ptr.right is None:\n",
        "          if ptr.data > parent.data:\n",
        "            # right side\n",
        "            parent.right = None\n",
        "          else:\n",
        "            # left side\n",
        "            parent.left = None\n",
        "          return\n",
        "        # case 2 : one of the child is None\n",
        "        # we can simply remove this node and point parent to its child\n",
        "        elif ptr.left is None or ptr.right is None:\n",
        "          if ptr.data > parent.data:\n",
        "            # right side\n",
        "            if ptr.left:\n",
        "              parent.right = ptr.left\n",
        "            else:\n",
        "              parent.right = ptr.right\n",
        "          else:\n",
        "            # left side\n",
        "            if ptr.left:\n",
        "              parent.left = ptr.left\n",
        "            else:\n",
        "              parent.right = ptr.right\n",
        "          return\n",
        "        # case 3 : when both child are present\n",
        "        else:\n",
        "          left_max = self.find_max(ptr.left) # in order predecessor\n",
        "          self.delete(left_max.data)\n",
        "\n",
        "          ptr.data = left_max.data\n",
        "          \n",
        "          return\n",
        "      elif key < ptr.data:\n",
        "        # move left\n",
        "        parent = ptr\n",
        "        ptr = ptr.left\n",
        "      else:\n",
        "        # move right\n",
        "        parent = ptr\n",
        "        ptr = ptr.right\n",
        "\n",
        "    # the key to delete was not found\n",
        "    return None\n",
        "\n",
        "  def find_max(self, node: Node):\n",
        "      ptr = node\n",
        "      tail = ptr\n",
        "      while ptr:\n",
        "        tail = ptr\n",
        "        if ptr.right:\n",
        "          ptr = ptr.right\n",
        "        else:\n",
        "          break\n",
        "\n",
        "      return tail"
      ]
    },
    {
      "cell_type": "code",
      "execution_count": 37,
      "metadata": {
        "id": "E-9bXI_dZEmf"
      },
      "outputs": [],
      "source": [
        "A = [30, 20, 40, 15, 25, 35, 50]\n"
      ]
    },
    {
      "cell_type": "code",
      "execution_count": 38,
      "metadata": {
        "id": "m8SsdrPtZO5r"
      },
      "outputs": [],
      "source": [
        "bst = BinarySearchTree()\n",
        "\n",
        "# create a bst\n",
        "for a in A:\n",
        "  bst.insert(a)"
      ]
    },
    {
      "cell_type": "code",
      "execution_count": 39,
      "metadata": {
        "colab": {
          "base_uri": "https://localhost:8080/"
        },
        "id": "tbsPpP92Zdzj",
        "outputId": "c775b24e-fc62-4293-d89d-5437d7764107"
      },
      "outputs": [
        {
          "data": {
            "text/plain": [
              "30"
            ]
          },
          "execution_count": 39,
          "metadata": {},
          "output_type": "execute_result"
        }
      ],
      "source": [
        "bst.root.data"
      ]
    },
    {
      "cell_type": "code",
      "execution_count": 40,
      "metadata": {
        "id": "fRgbakO-ZCHY"
      },
      "outputs": [],
      "source": [
        "nodes = []\n",
        "\n",
        "def traverse_tree(node: Node):\n",
        "  if node is None:\n",
        "    return\n",
        "  nodes.append(node)\n",
        "  traverse_tree(node.left)\n",
        "  traverse_tree(node.right)\n",
        "\n",
        "\n",
        "\n",
        "def display_tree(root: Node):\n",
        "  dot = graphviz.Digraph(comment='Binary Search Tree')\n",
        "  global nodes\n",
        "  nodes = []\n",
        "  traverse_tree(root)\n",
        "\n",
        "  for node in nodes:\n",
        "    dot.node(name=str(node.data), label=str(node.data))\n",
        "\n",
        "  for node in nodes:\n",
        "    if node.left:\n",
        "      dot.edge(str(node.data), str(node.left.data))\n",
        "    if node.right:\n",
        "      dot.edge(str(node.data), str(node.right.data))\n",
        "  return dot"
      ]
    },
    {
      "cell_type": "code",
      "execution_count": 45,
      "metadata": {
        "colab": {
          "base_uri": "https://localhost:8080/",
          "height": 272
        },
        "id": "IBOjdxn6fkdE",
        "outputId": "598cff8c-5b4e-4d60-e6e0-9cc790d2a125"
      },
      "outputs": [
        {
          "data": {
            "image/svg+xml": [
              "<?xml version=\"1.0\" encoding=\"UTF-8\" standalone=\"no\"?>\n",
              "<!DOCTYPE svg PUBLIC \"-//W3C//DTD SVG 1.1//EN\"\n",
              " \"http://www.w3.org/Graphics/SVG/1.1/DTD/svg11.dtd\">\n",
              "<!-- Generated by graphviz version 12.2.1 (0)\n",
              " -->\n",
              "<!-- Pages: 1 -->\n",
              "<svg width=\"134pt\" height=\"188pt\"\n",
              " viewBox=\"0.00 0.00 134.00 188.00\" xmlns=\"http://www.w3.org/2000/svg\" xmlns:xlink=\"http://www.w3.org/1999/xlink\">\n",
              "<g id=\"graph0\" class=\"graph\" transform=\"scale(1 1) rotate(0) translate(4 184)\">\n",
              "<polygon fill=\"white\" stroke=\"none\" points=\"-4,4 -4,-184 130,-184 130,4 -4,4\"/>\n",
              "<!-- 25 -->\n",
              "<g id=\"node1\" class=\"node\">\n",
              "<title>25</title>\n",
              "<ellipse fill=\"none\" stroke=\"black\" cx=\"63\" cy=\"-162\" rx=\"27\" ry=\"18\"/>\n",
              "<text text-anchor=\"middle\" x=\"63\" y=\"-156.95\" font-family=\"Times,serif\" font-size=\"14.00\">25</text>\n",
              "</g>\n",
              "<!-- 20 -->\n",
              "<g id=\"node2\" class=\"node\">\n",
              "<title>20</title>\n",
              "<ellipse fill=\"none\" stroke=\"black\" cx=\"27\" cy=\"-90\" rx=\"27\" ry=\"18\"/>\n",
              "<text text-anchor=\"middle\" x=\"27\" y=\"-84.95\" font-family=\"Times,serif\" font-size=\"14.00\">20</text>\n",
              "</g>\n",
              "<!-- 25&#45;&gt;20 -->\n",
              "<g id=\"edge1\" class=\"edge\">\n",
              "<title>25&#45;&gt;20</title>\n",
              "<path fill=\"none\" stroke=\"black\" d=\"M54.65,-144.76C50.42,-136.55 45.19,-126.37 40.42,-117.09\"/>\n",
              "<polygon fill=\"black\" stroke=\"black\" points=\"43.68,-115.79 36,-108.49 37.46,-118.99 43.68,-115.79\"/>\n",
              "</g>\n",
              "<!-- 35 -->\n",
              "<g id=\"node4\" class=\"node\">\n",
              "<title>35</title>\n",
              "<ellipse fill=\"none\" stroke=\"black\" cx=\"99\" cy=\"-90\" rx=\"27\" ry=\"18\"/>\n",
              "<text text-anchor=\"middle\" x=\"99\" y=\"-84.95\" font-family=\"Times,serif\" font-size=\"14.00\">35</text>\n",
              "</g>\n",
              "<!-- 25&#45;&gt;35 -->\n",
              "<g id=\"edge2\" class=\"edge\">\n",
              "<title>25&#45;&gt;35</title>\n",
              "<path fill=\"none\" stroke=\"black\" d=\"M71.35,-144.76C75.58,-136.55 80.81,-126.37 85.58,-117.09\"/>\n",
              "<polygon fill=\"black\" stroke=\"black\" points=\"88.54,-118.99 90,-108.49 82.32,-115.79 88.54,-118.99\"/>\n",
              "</g>\n",
              "<!-- 15 -->\n",
              "<g id=\"node3\" class=\"node\">\n",
              "<title>15</title>\n",
              "<ellipse fill=\"none\" stroke=\"black\" cx=\"27\" cy=\"-18\" rx=\"27\" ry=\"18\"/>\n",
              "<text text-anchor=\"middle\" x=\"27\" y=\"-12.95\" font-family=\"Times,serif\" font-size=\"14.00\">15</text>\n",
              "</g>\n",
              "<!-- 20&#45;&gt;15 -->\n",
              "<g id=\"edge3\" class=\"edge\">\n",
              "<title>20&#45;&gt;15</title>\n",
              "<path fill=\"none\" stroke=\"black\" d=\"M27,-71.7C27,-64.41 27,-55.73 27,-47.54\"/>\n",
              "<polygon fill=\"black\" stroke=\"black\" points=\"30.5,-47.62 27,-37.62 23.5,-47.62 30.5,-47.62\"/>\n",
              "</g>\n",
              "<!-- 50 -->\n",
              "<g id=\"node5\" class=\"node\">\n",
              "<title>50</title>\n",
              "<ellipse fill=\"none\" stroke=\"black\" cx=\"99\" cy=\"-18\" rx=\"27\" ry=\"18\"/>\n",
              "<text text-anchor=\"middle\" x=\"99\" y=\"-12.95\" font-family=\"Times,serif\" font-size=\"14.00\">50</text>\n",
              "</g>\n",
              "<!-- 35&#45;&gt;50 -->\n",
              "<g id=\"edge4\" class=\"edge\">\n",
              "<title>35&#45;&gt;50</title>\n",
              "<path fill=\"none\" stroke=\"black\" d=\"M99,-71.7C99,-64.41 99,-55.73 99,-47.54\"/>\n",
              "<polygon fill=\"black\" stroke=\"black\" points=\"102.5,-47.62 99,-37.62 95.5,-47.62 102.5,-47.62\"/>\n",
              "</g>\n",
              "</g>\n",
              "</svg>\n"
            ],
            "text/plain": [
              "<graphviz.graphs.Digraph at 0x110232c50>"
            ]
          },
          "execution_count": 45,
          "metadata": {},
          "output_type": "execute_result"
        }
      ],
      "source": [
        "display_tree(bst.root)"
      ]
    },
    {
      "cell_type": "code",
      "execution_count": 14,
      "metadata": {
        "id": "IyZcePCYgIOG"
      },
      "outputs": [],
      "source": [
        "bst.insert(14)"
      ]
    },
    {
      "cell_type": "code",
      "execution_count": 15,
      "metadata": {
        "colab": {
          "base_uri": "https://localhost:8080/"
        },
        "id": "AtWulMFKghRG",
        "outputId": "c22aef3c-178c-43e4-9996-287f37520131"
      },
      "outputs": [
        {
          "name": "stdout",
          "output_type": "stream",
          "text": [
            "35\n"
          ]
        }
      ],
      "source": [
        "s = bst.search(35)\n",
        "print(s.data) if s else print(\"Not found!!!\")"
      ]
    },
    {
      "cell_type": "code",
      "execution_count": 44,
      "metadata": {},
      "outputs": [],
      "source": [
        "bst.delete(30)"
      ]
    },
    {
      "cell_type": "code",
      "execution_count": null,
      "metadata": {},
      "outputs": [],
      "source": []
    }
  ],
  "metadata": {
    "colab": {
      "authorship_tag": "ABX9TyPpDCsNNNQ1cnxoqJYvZtjc",
      "include_colab_link": true,
      "provenance": []
    },
    "kernelspec": {
      "display_name": "dsai",
      "language": "python",
      "name": "python3"
    },
    "language_info": {
      "codemirror_mode": {
        "name": "ipython",
        "version": 3
      },
      "file_extension": ".py",
      "mimetype": "text/x-python",
      "name": "python",
      "nbconvert_exporter": "python",
      "pygments_lexer": "ipython3",
      "version": "3.13.1"
    }
  },
  "nbformat": 4,
  "nbformat_minor": 0
}
