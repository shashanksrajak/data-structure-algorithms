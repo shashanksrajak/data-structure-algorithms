{
  "nbformat": 4,
  "nbformat_minor": 0,
  "metadata": {
    "colab": {
      "provenance": [],
      "authorship_tag": "ABX9TyPIwM0rUoWW68BX6I8nrag3",
      "include_colab_link": true
    },
    "kernelspec": {
      "name": "python3",
      "display_name": "Python 3"
    },
    "language_info": {
      "name": "python"
    }
  },
  "cells": [
    {
      "cell_type": "markdown",
      "metadata": {
        "id": "view-in-github",
        "colab_type": "text"
      },
      "source": [
        "<a href=\"https://colab.research.google.com/github/shashanksrajak/data-structure-algorithms/blob/main/dsa/7-queues/A1_hospital_management.ipynb\" target=\"_parent\"><img src=\"https://colab.research.google.com/assets/colab-badge.svg\" alt=\"Open In Colab\"/></a>"
      ]
    },
    {
      "cell_type": "markdown",
      "source": [
        "## Assigment Problem - Priority Queue\n",
        "\n",
        "**You are tasked with designing an advanced queue management system for a hospital's emergency room. This system must handle patients arriving and being treated based on several criteria. Patients are prioritized based on the following rules:**\n",
        "\n",
        "**Critical Level** (Integer from 1 to 5): Patients with a higher critical level are treated first (1 being the least critical and 5 being the most critical).\n",
        "\n",
        "**Arrival Time**: If two patients have the same critical level, the one who arrived first is treated first.\n",
        "\n",
        "**Special Cases**: Certain patients might be marked as a \"Special Case\" and must be treated immediately upon arrival, regardless of their critical level or arrival time.\n",
        "\n",
        "**You need to implement a queue system that supports the following operations:**\n",
        "\n",
        "Add Patient (addPatient):\n",
        "\n",
        "Inputs: patient_id (String), critical_level (Integer), arrival_time (String in \"HH\n",
        "\n",
        "\" format), special_case (Boolean)\n",
        "\n",
        "Adds a new patient to the queue based on the above rules.\n",
        "\n",
        "Treat Patient (treatPatient):\n",
        "\n",
        "Outputs: patient_id (String) of the patient being treated\n",
        "\n",
        "Removes and returns the patient who should be treated next based on the queue rules.\n",
        "\n",
        "Peek Next Patient (peekNextPatient):\n",
        "\n",
        "Outputs: patient_id (String) of the next patient to be treated without removing them from the queue.\n",
        "\n",
        "Remove Patient (removePatient):\n",
        "\n",
        "Inputs: patient_id (String)\n",
        "\n",
        "Removes a specific patient from the queue.\n",
        "\n",
        "Constraints:\n",
        "\n",
        "You can assume the arrival_time is always in a 24-hour format and all patients have unique patient_id.\n",
        "\n",
        "The system should handle up to 100 patients/day efficiently.\n",
        "\n",
        "The management system is for a particular day.(no patient of previous day will be entertained)\n",
        "\n",
        "Examples:\n",
        "\n",
        "addPatient(\"P1\", 3, \"09:00\", false)\n",
        "\n",
        "addPatient(\"P2\", 5, \"09:05\", false)\n",
        "\n",
        "addPatient(\"P3\", 2, \"09:10\", false)\n",
        "\n",
        "addPatient(\"P4\", 4, \"09:15\", true)\n",
        "\n",
        "\n",
        "peekNextPatient() -> \"P4\"\n",
        "\n",
        "treatPatient() -> \"P4\"\n",
        "\n",
        "peekNextPatient() -> \"P2\"\n",
        "\n",
        "removePatient(\"P2\")\n",
        "\n",
        "peekNextPatient() -> \"P1\"\n",
        "\n",
        "treatPatient() -> \"P1\""
      ],
      "metadata": {
        "id": "J0SYbZ02YkWr"
      }
    },
    {
      "cell_type": "markdown",
      "source": [
        "## Solution"
      ],
      "metadata": {
        "id": "IoYxyVSGatFx"
      }
    },
    {
      "cell_type": "code",
      "source": [
        "from collections import deque"
      ],
      "metadata": {
        "id": "6SbYMsv4bZK1"
      },
      "execution_count": 3,
      "outputs": []
    },
    {
      "cell_type": "code",
      "execution_count": 6,
      "metadata": {
        "id": "l15Ff313Yfxj"
      },
      "outputs": [],
      "source": [
        "class Patient:\n",
        "  def __init__(self, patient_id, critical_level, arrival_time, special_case):\n",
        "    self.patient_id = patient_id\n",
        "    self.critical_level = critical_level\n",
        "    self.arrival_time = arrival_time\n",
        "    self.special_case = special_case\n",
        "\n",
        "class EmergencyRoom:\n",
        "  def __init__(self):\n",
        "    self.pq = [deque() for _ in range(6)] # 5 priority queues plus 0th queue is for special case\n",
        "\n",
        "  def add_patient(self, patient: Patient):\n",
        "    if patient.special_case:\n",
        "      # put it in queue 0\n",
        "      self.pq[0].append(patient)\n",
        "    else:\n",
        "      self.pq[patient.critical_level].append(patient)\n",
        "\n",
        "    return \"Patient added in the queue\"\n",
        "\n",
        "  def treat_patient(self):\n",
        "    # dequeue\n",
        "    for q in self.pq:\n",
        "      if q:\n",
        "        patient = q.popleft()\n",
        "        return patient.patient_id\n",
        "    return \"No patients to treat.\"\n",
        "\n",
        "  def remove_patient(self, patient_id):\n",
        "    \"\"\"\n",
        "    remove by patient_id\n",
        "    \"\"\"\n",
        "    for q in self.pq:\n",
        "      if q:\n",
        "        for p in q:\n",
        "          if p.patient_id == patient_id:\n",
        "            q.remove(p)\n",
        "            return\n",
        "    return \"No patients to treat.\"\n",
        "\n",
        "  def peek_next_patient(self):\n",
        "    # dequeue\n",
        "    for q in self.pq:\n",
        "      if q:\n",
        "        patient = q[0]\n",
        "        return patient.patient_id\n",
        "    return \"No patients to treat.\""
      ]
    }
  ]
}