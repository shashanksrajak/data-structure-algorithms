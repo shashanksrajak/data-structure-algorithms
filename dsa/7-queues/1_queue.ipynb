{
  "nbformat": 4,
  "nbformat_minor": 0,
  "metadata": {
    "colab": {
      "provenance": [],
      "authorship_tag": "ABX9TyO/JoD1aRrmOaJaf3PfhXyc",
      "include_colab_link": true
    },
    "kernelspec": {
      "name": "python3",
      "display_name": "Python 3"
    },
    "language_info": {
      "name": "python"
    }
  },
  "cells": [
    {
      "cell_type": "markdown",
      "metadata": {
        "id": "view-in-github",
        "colab_type": "text"
      },
      "source": [
        "<a href=\"https://colab.research.google.com/github/shashanksrajak/data-structure-algorithms/blob/main/dsa/7-queues/1_queue.ipynb\" target=\"_parent\"><img src=\"https://colab.research.google.com/assets/colab-badge.svg\" alt=\"Open In Colab\"/></a>"
      ]
    },
    {
      "cell_type": "markdown",
      "source": [
        "# Queue\n",
        "- Queue is a data structure that follows First In First Out (FIFO) approach.\n",
        "- Best suited for tasks where order of processing is important.\n",
        "- Expected Time Complexity is O(1) for Enqueue and Dequeue operations."
      ],
      "metadata": {
        "id": "acBOb6BR_ZHE"
      }
    },
    {
      "cell_type": "markdown",
      "source": [
        "## Approach 1 : Linked List"
      ],
      "metadata": {
        "id": "8fx79ODN_5mu"
      }
    },
    {
      "cell_type": "code",
      "execution_count": 56,
      "metadata": {
        "id": "3KSgFrTJ_J4i"
      },
      "outputs": [],
      "source": [
        "class Queue:\n",
        "  class Node:\n",
        "    \"\"\"\n",
        "    Creates a new Node with data\n",
        "    \"\"\"\n",
        "    def __init__(self, data) -> None:\n",
        "      self.data = data\n",
        "      self.next = None\n",
        "\n",
        "  def __init__(self) -> None:\n",
        "    self.size = 0\n",
        "    self.front = None # dequeue from front O(1)\n",
        "    self.rear = None # enqueue to the end O(1)\n",
        "\n",
        "  def enqueue(self, data):\n",
        "    \"\"\"\n",
        "    Adds a new node to the front\n",
        "    \"\"\"\n",
        "    node = self.Node(data)\n",
        "    if self.is_empty():\n",
        "      # both front and rear points to this node\n",
        "      self.front = node\n",
        "      self.rear = node\n",
        "    else:\n",
        "      self.rear.next = node\n",
        "      self.rear = node\n",
        "    self.size += 1\n",
        "\n",
        "  def dequeue(self):\n",
        "    \"\"\"\n",
        "    Removes and returns the first node from beginning\n",
        "    \"\"\"\n",
        "    if self.is_empty():\n",
        "      return None\n",
        "    else:\n",
        "      t = self.front.data\n",
        "      self.front = self.front.next\n",
        "      if self.front is None:\n",
        "        self.rear = None\n",
        "      self.size -= 1\n",
        "      return t\n",
        "\n",
        "  def is_empty(self):\n",
        "    if self.front is None and self.rear is None:\n",
        "      return True\n",
        "    else:\n",
        "      return False\n",
        "\n",
        "  def is_full(self):\n",
        "    \"\"\"\n",
        "    does not make sense in case of dynamic memory allocation, but if we have a fixed size then we can check if empty space is available\n",
        "    \"\"\"\n",
        "    pass\n",
        "\n",
        "  def __repr__(self) -> str:\n",
        "    out = []\n",
        "    p = self.front\n",
        "    while p:\n",
        "      out.append(p.data)\n",
        "      p = p.next\n",
        "\n",
        "    return f\"Queue({out})\"\n",
        "\n",
        "  def print(self):\n",
        "    p = self.front\n",
        "    print(\"\\nFront\", end=\" <-- \")\n",
        "    while p:\n",
        "      print(p.data, end=\" <-- \")\n",
        "      p = p.next\n",
        "    print(\"Rear\")\n",
        "\n",
        "\n"
      ]
    },
    {
      "cell_type": "code",
      "source": [
        "A = [12, 14, 21, 34, 56, 78, 92, 22]\n",
        "\n",
        "# init a queue\n",
        "queue = Queue()\n",
        "\n",
        "for a in A:\n",
        "  queue.enqueue(a)"
      ],
      "metadata": {
        "id": "BbUwYY7a_1cU"
      },
      "execution_count": 57,
      "outputs": []
    },
    {
      "cell_type": "code",
      "source": [
        "queue.print()"
      ],
      "metadata": {
        "colab": {
          "base_uri": "https://localhost:8080/"
        },
        "id": "wnHoLDxyEzGr",
        "outputId": "7f634b59-e7b1-4cc4-d5be-ea8144297d10"
      },
      "execution_count": 58,
      "outputs": [
        {
          "output_type": "stream",
          "name": "stdout",
          "text": [
            "\n",
            "Front <-- 12 <-- 14 <-- 21 <-- 34 <-- 56 <-- 78 <-- 92 <-- 22 <-- Rear\n"
          ]
        }
      ]
    },
    {
      "cell_type": "code",
      "source": [
        "queue"
      ],
      "metadata": {
        "colab": {
          "base_uri": "https://localhost:8080/"
        },
        "id": "o5R7yOqSHIaH",
        "outputId": "3458547e-7a62-44cd-cfc1-c65490c1cb9d"
      },
      "execution_count": 59,
      "outputs": [
        {
          "output_type": "execute_result",
          "data": {
            "text/plain": [
              "Queue([12, 14, 21, 34, 56, 78, 92, 22])"
            ]
          },
          "metadata": {},
          "execution_count": 59
        }
      ]
    },
    {
      "cell_type": "code",
      "source": [
        "queue.dequeue()"
      ],
      "metadata": {
        "id": "ts4wMg-rE8wv"
      },
      "execution_count": 46,
      "outputs": []
    },
    {
      "cell_type": "code",
      "source": [
        "queue.print()"
      ],
      "metadata": {
        "colab": {
          "base_uri": "https://localhost:8080/"
        },
        "id": "c-S3BHzkFQ4k",
        "outputId": "8274d584-7b76-45de-cc6a-d2f8efa5542a"
      },
      "execution_count": 47,
      "outputs": [
        {
          "output_type": "stream",
          "name": "stdout",
          "text": [
            "\n",
            "Front <-- Rear\n"
          ]
        }
      ]
    },
    {
      "cell_type": "markdown",
      "source": [
        "## Approach 2: Deque from Python collections"
      ],
      "metadata": {
        "id": "MxUWhSNiGRmo"
      }
    },
    {
      "cell_type": "code",
      "source": [
        "from collections import deque"
      ],
      "metadata": {
        "id": "UO6mYYEGGYGP"
      },
      "execution_count": 48,
      "outputs": []
    },
    {
      "cell_type": "code",
      "source": [
        "queue = deque()\n",
        "\n",
        "# we append at the end\n",
        "queue.append(24)\n",
        "queue.append(28)\n",
        "queue"
      ],
      "metadata": {
        "colab": {
          "base_uri": "https://localhost:8080/"
        },
        "id": "RRLihiBbGbic",
        "outputId": "268f3fe6-6649-48b8-8884-31d9f569c041"
      },
      "execution_count": 49,
      "outputs": [
        {
          "output_type": "execute_result",
          "data": {
            "text/plain": [
              "deque([24, 28])"
            ]
          },
          "metadata": {},
          "execution_count": 49
        }
      ]
    },
    {
      "cell_type": "code",
      "source": [
        "queue.popleft() # remove from the left end"
      ],
      "metadata": {
        "colab": {
          "base_uri": "https://localhost:8080/"
        },
        "id": "UvIEtddwGpMJ",
        "outputId": "d62bc8d3-7029-401f-eef8-94ba00d0f5d1"
      },
      "execution_count": 50,
      "outputs": [
        {
          "output_type": "execute_result",
          "data": {
            "text/plain": [
              "24"
            ]
          },
          "metadata": {},
          "execution_count": 50
        }
      ]
    }
  ]
}