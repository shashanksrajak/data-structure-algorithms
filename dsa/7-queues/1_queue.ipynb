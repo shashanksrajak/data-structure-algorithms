{
  "nbformat": 4,
  "nbformat_minor": 0,
  "metadata": {
    "colab": {
      "provenance": [],
      "authorship_tag": "ABX9TyOE9a7RFaIEDIWtQE17sNH1",
      "include_colab_link": true
    },
    "kernelspec": {
      "name": "python3",
      "display_name": "Python 3"
    },
    "language_info": {
      "name": "python"
    }
  },
  "cells": [
    {
      "cell_type": "markdown",
      "metadata": {
        "id": "view-in-github",
        "colab_type": "text"
      },
      "source": [
        "<a href=\"https://colab.research.google.com/github/shashanksrajak/data-structure-algorithms/blob/main/dsa/7-queues/1_queue.ipynb\" target=\"_parent\"><img src=\"https://colab.research.google.com/assets/colab-badge.svg\" alt=\"Open In Colab\"/></a>"
      ]
    },
    {
      "cell_type": "markdown",
      "source": [
        "# Queue\n",
        "- Queue is a data structure that follows First In First Out (FIFO) approach.\n",
        "- Best suited for tasks where order of processing is important.\n",
        "- Expected Time Complexity is O(1) for Enqueue and Dequeue operations."
      ],
      "metadata": {
        "id": "acBOb6BR_ZHE"
      }
    },
    {
      "cell_type": "markdown",
      "source": [
        "### Approach 1 : Linked List"
      ],
      "metadata": {
        "id": "8fx79ODN_5mu"
      }
    },
    {
      "cell_type": "code",
      "execution_count": 56,
      "metadata": {
        "id": "3KSgFrTJ_J4i"
      },
      "outputs": [],
      "source": [
        "class Queue:\n",
        "  class Node:\n",
        "    \"\"\"\n",
        "    Creates a new Node with data\n",
        "    \"\"\"\n",
        "    def __init__(self, data) -> None:\n",
        "      self.data = data\n",
        "      self.next = None\n",
        "\n",
        "  def __init__(self) -> None:\n",
        "    self.size = 0\n",
        "    self.front = None # dequeue from front O(1)\n",
        "    self.rear = None # enqueue to the end O(1)\n",
        "\n",
        "  def enqueue(self, data):\n",
        "    \"\"\"\n",
        "    Adds a new node to the front\n",
        "    \"\"\"\n",
        "    node = self.Node(data)\n",
        "    if self.is_empty():\n",
        "      # both front and rear points to this node\n",
        "      self.front = node\n",
        "      self.rear = node\n",
        "    else:\n",
        "      self.rear.next = node\n",
        "      self.rear = node\n",
        "    self.size += 1\n",
        "\n",
        "  def dequeue(self):\n",
        "    \"\"\"\n",
        "    Removes and returns the first node from beginning\n",
        "    \"\"\"\n",
        "    if self.is_empty():\n",
        "      return None\n",
        "    else:\n",
        "      t = self.front.data\n",
        "      self.front = self.front.next\n",
        "      if self.front is None:\n",
        "        self.rear = None\n",
        "      self.size -= 1\n",
        "      return t\n",
        "\n",
        "  def is_empty(self):\n",
        "    if self.front is None and self.rear is None:\n",
        "      return True\n",
        "    else:\n",
        "      return False\n",
        "\n",
        "  def is_full(self):\n",
        "    \"\"\"\n",
        "    does not make sense in case of dynamic memory allocation, but if we have a fixed size then we can check if empty space is available\n",
        "    \"\"\"\n",
        "    pass\n",
        "\n",
        "  def __repr__(self) -> str:\n",
        "    out = []\n",
        "    p = self.front\n",
        "    while p:\n",
        "      out.append(p.data)\n",
        "      p = p.next\n",
        "\n",
        "    return f\"Queue({out})\"\n",
        "\n",
        "  def print(self):\n",
        "    p = self.front\n",
        "    print(\"\\nFront\", end=\" <-- \")\n",
        "    while p:\n",
        "      print(p.data, end=\" <-- \")\n",
        "      p = p.next\n",
        "    print(\"Rear\")\n",
        "\n",
        "\n"
      ]
    },
    {
      "cell_type": "code",
      "source": [
        "A = [12, 14, 21, 34, 56, 78, 92, 22]\n",
        "\n",
        "# init a queue\n",
        "queue = Queue()\n",
        "\n",
        "for a in A:\n",
        "  queue.enqueue(a)"
      ],
      "metadata": {
        "id": "BbUwYY7a_1cU"
      },
      "execution_count": 57,
      "outputs": []
    },
    {
      "cell_type": "code",
      "source": [
        "queue.print()"
      ],
      "metadata": {
        "colab": {
          "base_uri": "https://localhost:8080/"
        },
        "id": "wnHoLDxyEzGr",
        "outputId": "7f634b59-e7b1-4cc4-d5be-ea8144297d10"
      },
      "execution_count": 58,
      "outputs": [
        {
          "output_type": "stream",
          "name": "stdout",
          "text": [
            "\n",
            "Front <-- 12 <-- 14 <-- 21 <-- 34 <-- 56 <-- 78 <-- 92 <-- 22 <-- Rear\n"
          ]
        }
      ]
    },
    {
      "cell_type": "code",
      "source": [
        "queue"
      ],
      "metadata": {
        "colab": {
          "base_uri": "https://localhost:8080/"
        },
        "id": "o5R7yOqSHIaH",
        "outputId": "3458547e-7a62-44cd-cfc1-c65490c1cb9d"
      },
      "execution_count": 59,
      "outputs": [
        {
          "output_type": "execute_result",
          "data": {
            "text/plain": [
              "Queue([12, 14, 21, 34, 56, 78, 92, 22])"
            ]
          },
          "metadata": {},
          "execution_count": 59
        }
      ]
    },
    {
      "cell_type": "code",
      "source": [
        "queue.dequeue()"
      ],
      "metadata": {
        "id": "ts4wMg-rE8wv"
      },
      "execution_count": 46,
      "outputs": []
    },
    {
      "cell_type": "code",
      "source": [
        "queue.print()"
      ],
      "metadata": {
        "colab": {
          "base_uri": "https://localhost:8080/"
        },
        "id": "c-S3BHzkFQ4k",
        "outputId": "8274d584-7b76-45de-cc6a-d2f8efa5542a"
      },
      "execution_count": 47,
      "outputs": [
        {
          "output_type": "stream",
          "name": "stdout",
          "text": [
            "\n",
            "Front <-- Rear\n"
          ]
        }
      ]
    },
    {
      "cell_type": "markdown",
      "source": [
        "### Approach 2: Deque from Python collections"
      ],
      "metadata": {
        "id": "MxUWhSNiGRmo"
      }
    },
    {
      "cell_type": "code",
      "source": [
        "from collections import deque"
      ],
      "metadata": {
        "id": "UO6mYYEGGYGP"
      },
      "execution_count": 48,
      "outputs": []
    },
    {
      "cell_type": "code",
      "source": [
        "queue = deque()\n",
        "\n",
        "# we append at the end\n",
        "queue.append(24)\n",
        "queue.append(28)\n",
        "queue"
      ],
      "metadata": {
        "colab": {
          "base_uri": "https://localhost:8080/"
        },
        "id": "RRLihiBbGbic",
        "outputId": "268f3fe6-6649-48b8-8884-31d9f569c041"
      },
      "execution_count": 49,
      "outputs": [
        {
          "output_type": "execute_result",
          "data": {
            "text/plain": [
              "deque([24, 28])"
            ]
          },
          "metadata": {},
          "execution_count": 49
        }
      ]
    },
    {
      "cell_type": "code",
      "source": [
        "queue.popleft() # remove from the left end"
      ],
      "metadata": {
        "colab": {
          "base_uri": "https://localhost:8080/"
        },
        "id": "UvIEtddwGpMJ",
        "outputId": "d62bc8d3-7029-401f-eef8-94ba00d0f5d1"
      },
      "execution_count": 50,
      "outputs": [
        {
          "output_type": "execute_result",
          "data": {
            "text/plain": [
              "24"
            ]
          },
          "metadata": {},
          "execution_count": 50
        }
      ]
    },
    {
      "cell_type": "markdown",
      "source": [
        "## Priority Queue\n",
        "\n",
        "A Priority Queue is an abstract data type (ADT) that is similar to a regular queue, but with a crucial difference: instead of strictly adhering to the First-In, First-Out (FIFO) principle, it processes elements based on their priority.\n",
        "\n",
        "Think of it like an emergency room in a hospital: patients aren't treated in the order they arrive, but rather based on the severity (priority) of their condition. The most critical patient is seen first, regardless of when they arrived."
      ],
      "metadata": {
        "id": "LXlRyGg_KYS6"
      }
    },
    {
      "cell_type": "markdown",
      "source": [
        "### Approach 1 : List\n",
        "\n",
        "Lets implement Priority Queue using simple list, although its not efficient approach. Everytime we insert a new element `(data, priority)`, we sort the list based on priorities. This is just to understand the concept. We need to implement an efficient algorithm for practical use case."
      ],
      "metadata": {
        "id": "iZDXXdFJL9T3"
      }
    },
    {
      "cell_type": "code",
      "source": [
        "class PriorityQueue:\n",
        "  def __init__(self) -> None:\n",
        "    self.queue = []\n",
        "\n",
        "  def enqueue(self, node):\n",
        "    \"\"\"\n",
        "    node: Tuple of (data, priority)\n",
        "    \"\"\"\n",
        "\n",
        "    self.queue.append(node)\n",
        "    self.queue.sort(reverse=True) # decreasing order of priorities -- costly operation\n",
        "    # also this does not maintain the FIFO order in case of tie which is required\n",
        "\n",
        "  def dequeue(self):\n",
        "    \"\"\"\n",
        "    Removes the first node from beginning which is the highest priority\n",
        "    \"\"\"\n",
        "    if self.queue:\n",
        "      x = self.queue[0]\n",
        "      self.queue = self.queue[1:]\n",
        "      return x"
      ],
      "metadata": {
        "id": "OGGQG9qDKam2"
      },
      "execution_count": 72,
      "outputs": []
    },
    {
      "cell_type": "code",
      "source": [
        "# higher number = higher priority; can also be reverse in some cases!!\n",
        "\n",
        "customers = [(1, \"Amulya\"), (3, \"Neeta\"), (2, \"Debang\"), (4, \"Jordan\"), (2, \"Rayn\"), (5, \"Shashank\")]\n",
        "customers"
      ],
      "metadata": {
        "colab": {
          "base_uri": "https://localhost:8080/"
        },
        "id": "nlErsrzkO46s",
        "outputId": "208bfbfa-b952-404f-959b-6e811bcddf62"
      },
      "execution_count": 73,
      "outputs": [
        {
          "output_type": "execute_result",
          "data": {
            "text/plain": [
              "[(1, 'Amulya'),\n",
              " (3, 'Neeta'),\n",
              " (2, 'Debang'),\n",
              " (4, 'Jordan'),\n",
              " (2, 'Rayn'),\n",
              " (5, 'Shashank')]"
            ]
          },
          "metadata": {},
          "execution_count": 73
        }
      ]
    },
    {
      "cell_type": "code",
      "source": [
        "queue = PriorityQueue()"
      ],
      "metadata": {
        "id": "hocii2yjPV5R"
      },
      "execution_count": 74,
      "outputs": []
    },
    {
      "cell_type": "code",
      "source": [
        "for c in customers:\n",
        "  queue.enqueue(c)"
      ],
      "metadata": {
        "id": "C1E3qtnaPYDp"
      },
      "execution_count": 75,
      "outputs": []
    },
    {
      "cell_type": "code",
      "source": [
        "queue.queue"
      ],
      "metadata": {
        "colab": {
          "base_uri": "https://localhost:8080/"
        },
        "id": "zwVYb_0lPcvv",
        "outputId": "854b831c-275a-47bf-8bb3-8adc3b0161a8"
      },
      "execution_count": 76,
      "outputs": [
        {
          "output_type": "execute_result",
          "data": {
            "text/plain": [
              "[(5, 'Shashank'),\n",
              " (4, 'Jordan'),\n",
              " (3, 'Neeta'),\n",
              " (2, 'Rayn'),\n",
              " (2, 'Debang'),\n",
              " (1, 'Amulya')]"
            ]
          },
          "metadata": {},
          "execution_count": 76
        }
      ]
    },
    {
      "cell_type": "code",
      "source": [
        "queue.dequeue()"
      ],
      "metadata": {
        "colab": {
          "base_uri": "https://localhost:8080/"
        },
        "id": "0nRcc8gVPf3P",
        "outputId": "f33f39b9-88f7-4d29-c15d-1252be065db4"
      },
      "execution_count": 77,
      "outputs": [
        {
          "output_type": "execute_result",
          "data": {
            "text/plain": [
              "(5, 'Shashank')"
            ]
          },
          "metadata": {},
          "execution_count": 77
        }
      ]
    },
    {
      "cell_type": "code",
      "source": [
        "queue.dequeue()"
      ],
      "metadata": {
        "colab": {
          "base_uri": "https://localhost:8080/"
        },
        "id": "OdNXYYMtPulz",
        "outputId": "f68ef5f4-e99e-4574-dc0d-2b9d4acb7750"
      },
      "execution_count": 78,
      "outputs": [
        {
          "output_type": "execute_result",
          "data": {
            "text/plain": [
              "(4, 'Jordan')"
            ]
          },
          "metadata": {},
          "execution_count": 78
        }
      ]
    },
    {
      "cell_type": "markdown",
      "source": [
        "### Approach 2: Different Priority Based Queues\n",
        "Lets say we have 5 different priorities then we will create 5 queues each for one priority level.\n",
        "\n",
        "Also here smaller number means higher priority. 1 - highest, 5 - lowest"
      ],
      "metadata": {
        "id": "zR-EnR90Rhh_"
      }
    },
    {
      "cell_type": "code",
      "source": [
        "class PriorityQueue:\n",
        "  def __init__(self) -> None:\n",
        "    self.pq = [] # this will hold all the queues with each index representing one priority order\n",
        "\n",
        "    # init different queues\n",
        "    for i in range(5):\n",
        "      self.pq.append(deque())\n",
        "\n",
        "  def enqueue(self, node):\n",
        "    \"\"\"\n",
        "    node: tuple(priority, data)\n",
        "    \"\"\"\n",
        "    priority = node[0]\n",
        "\n",
        "    # insert it into the right queue\n",
        "    self.pq[priority-1].append(node)\n",
        "\n",
        "  def dequeue(self):\n",
        "    \"\"\"\n",
        "    This is a smart system which removes the elements priority wise\n",
        "    \"\"\"\n",
        "    for q in self.pq:\n",
        "      if q:\n",
        "        # there are nodes in this queue\n",
        "        return q.popleft()\n"
      ],
      "metadata": {
        "id": "3hfWIYLLRXbm"
      },
      "execution_count": 88,
      "outputs": []
    },
    {
      "cell_type": "code",
      "source": [
        "pq = PriorityQueue()"
      ],
      "metadata": {
        "id": "VG8VVm-zUBuD"
      },
      "execution_count": 89,
      "outputs": []
    },
    {
      "cell_type": "code",
      "source": [
        "pq.pq"
      ],
      "metadata": {
        "colab": {
          "base_uri": "https://localhost:8080/"
        },
        "id": "-_ciiz9KUDnH",
        "outputId": "77e2cb35-d857-48ba-e0ad-79409f8d95c9"
      },
      "execution_count": 90,
      "outputs": [
        {
          "output_type": "execute_result",
          "data": {
            "text/plain": [
              "[deque([]), deque([]), deque([]), deque([]), deque([])]"
            ]
          },
          "metadata": {},
          "execution_count": 90
        }
      ]
    },
    {
      "cell_type": "code",
      "source": [
        "# NOTE : 1 is high - 5 is low\n",
        "\n",
        "customers = [(1, \"Amulya\"), (3, \"Neeta\"), (2, \"Debang\"), (4, \"Jordan\"), (2, \"Rayn\"), (5, \"Shashank\")]\n",
        "customers"
      ],
      "metadata": {
        "colab": {
          "base_uri": "https://localhost:8080/"
        },
        "id": "MxF7s6cqULtF",
        "outputId": "1e2f8e15-1550-4cae-9120-b03979d639e2"
      },
      "execution_count": 91,
      "outputs": [
        {
          "output_type": "execute_result",
          "data": {
            "text/plain": [
              "[(1, 'Amulya'),\n",
              " (3, 'Neeta'),\n",
              " (2, 'Debang'),\n",
              " (4, 'Jordan'),\n",
              " (2, 'Rayn'),\n",
              " (5, 'Shashank')]"
            ]
          },
          "metadata": {},
          "execution_count": 91
        }
      ]
    },
    {
      "cell_type": "code",
      "source": [
        "for c in customers:\n",
        "  pq.enqueue(c)"
      ],
      "metadata": {
        "id": "KBE6NT6rU4kR"
      },
      "execution_count": 92,
      "outputs": []
    },
    {
      "cell_type": "code",
      "source": [
        "pq.pq"
      ],
      "metadata": {
        "colab": {
          "base_uri": "https://localhost:8080/"
        },
        "id": "SMtX9bQ7V6Ff",
        "outputId": "0991d75f-5d75-41c4-aa31-aca9dc2c0b6c"
      },
      "execution_count": 93,
      "outputs": [
        {
          "output_type": "execute_result",
          "data": {
            "text/plain": [
              "[deque([(1, 'Amulya')]),\n",
              " deque([(2, 'Debang'), (2, 'Rayn')]),\n",
              " deque([(3, 'Neeta')]),\n",
              " deque([(4, 'Jordan')]),\n",
              " deque([(5, 'Shashank')])]"
            ]
          },
          "metadata": {},
          "execution_count": 93
        }
      ]
    },
    {
      "cell_type": "markdown",
      "source": [
        "Now we can see that for tie breaking situations a FIFO order is maintained which is a curcial criteria to process tasks."
      ],
      "metadata": {
        "id": "W1xUDaWOWwlo"
      }
    },
    {
      "cell_type": "code",
      "source": [
        "pq.dequeue()"
      ],
      "metadata": {
        "colab": {
          "base_uri": "https://localhost:8080/"
        },
        "id": "EcinortuWbkG",
        "outputId": "65fab0ee-ec78-4233-c8c3-d8ffd9c4a2a8"
      },
      "execution_count": 94,
      "outputs": [
        {
          "output_type": "execute_result",
          "data": {
            "text/plain": [
              "(1, 'Amulya')"
            ]
          },
          "metadata": {},
          "execution_count": 94
        }
      ]
    },
    {
      "cell_type": "code",
      "source": [
        "pq.pq"
      ],
      "metadata": {
        "colab": {
          "base_uri": "https://localhost:8080/"
        },
        "id": "Kcnce5-AW8R3",
        "outputId": "5a5f13af-3872-4389-c78b-9badea5f806d"
      },
      "execution_count": 95,
      "outputs": [
        {
          "output_type": "execute_result",
          "data": {
            "text/plain": [
              "[deque([]),\n",
              " deque([(2, 'Debang'), (2, 'Rayn')]),\n",
              " deque([(3, 'Neeta')]),\n",
              " deque([(4, 'Jordan')]),\n",
              " deque([(5, 'Shashank')])]"
            ]
          },
          "metadata": {},
          "execution_count": 95
        }
      ]
    },
    {
      "cell_type": "code",
      "source": [
        "pq.dequeue()"
      ],
      "metadata": {
        "id": "0bPTKoqTW-l1"
      },
      "execution_count": 101,
      "outputs": []
    },
    {
      "cell_type": "markdown",
      "source": [
        "This approach works good, but it still has some drawbacks, while enqueue looks efficient, dequeue requires to traverse throught all the queues until it finds a node to remove."
      ],
      "metadata": {
        "id": "PZiWsgZrXNAV"
      }
    }
  ]
}