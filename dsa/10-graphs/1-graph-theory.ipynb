{
 "cells": [
  {
   "cell_type": "markdown",
   "id": "94317b80",
   "metadata": {},
   "source": [
    "## Graph Theory\n",
    "We have following implementations in this file\n",
    "1. Creating graphs by `Adjacency Matrix` and `Adjacency List` methods.\n",
    "2. Getting the graph\n",
    "3. Graph Traversals - BFS & DFS"
   ]
  },
  {
   "cell_type": "code",
   "execution_count": 144,
   "id": "0c182e93",
   "metadata": {},
   "outputs": [],
   "source": [
    "import random\n",
    "import graphviz\n",
    "from collections import deque\n",
    "random.seed(42)"
   ]
  },
  {
   "cell_type": "markdown",
   "id": "f4ebd07e",
   "metadata": {},
   "source": [
    "#### GraphViz method to visualize the graphs"
   ]
  },
  {
   "cell_type": "code",
   "execution_count": 170,
   "id": "14853a26",
   "metadata": {},
   "outputs": [],
   "source": [
    "def display_graph(nodes, edges, directed):\n",
    "  if directed:\n",
    "    dot = graphviz.Digraph(comment='Graph view', graph_attr={'rankdir': 'LR'})\n",
    "  else:\n",
    "    dot = graphviz.Graph(comment='Graph view', graph_attr={'rankdir': 'LR'})\n",
    "\n",
    "  for node in nodes:\n",
    "    dot.node(name=str(node), label=str(node))\n",
    "\n",
    "  edges_to_draw = set()\n",
    "  for edge in edges:\n",
    "    if not directed:\n",
    "      edges_to_draw.add(tuple(sorted(edge)))\n",
    "    else:\n",
    "      edges_to_draw.add(edge)\n",
    "  \n",
    "  for edge in edges_to_draw:\n",
    "    dot.edge(str(edge[0]), str(edge[1]))\n",
    "    \n",
    "  return dot"
   ]
  },
  {
   "cell_type": "markdown",
   "id": "dbdc491d",
   "metadata": {},
   "source": [
    "### Adjacency Matrix"
   ]
  },
  {
   "cell_type": "code",
   "execution_count": 87,
   "id": "8b020c8f",
   "metadata": {},
   "outputs": [],
   "source": [
    "class GraphMatrix:\n",
    "    def __init__(self, n_vertices: int, directed: bool = False):\n",
    "        self.n_vertices = n_vertices\n",
    "        # Create a 2D adjacency matrix initialized with 0s\n",
    "        self.adj_matrix = [[0] * n_vertices for _ in range(n_vertices)]\n",
    "        self.directed = directed\n",
    "    \n",
    "    def insert_edge(self, x, y):\n",
    "        \"\"\"\n",
    "        Create an edge between x and y vertices, based on directed flag\n",
    "        \"\"\"\n",
    "        self.adj_matrix[x][y] = 1 # turn this on\n",
    "        \n",
    "        if not self.directed:\n",
    "            # for undirected graph - (x,y) and (y,x) both edges exist\n",
    "            self.adj_matrix[y][x] = 1\n",
    "       \n",
    "    def get_neighbors(self, x):\n",
    "        \"\"\"\n",
    "        For given vertex x, return all its neigbors (adjacent vertices)\n",
    "        \"\"\" \n",
    "        neighbors = []\n",
    "        for col in range(self.n_vertices):\n",
    "            if self.adj_matrix[x][col] == 1:\n",
    "                neighbors.append(col)\n",
    "        return neighbors\n",
    "    \n",
    "    def check_edge(self, x, y):\n",
    "        \"\"\"\n",
    "        Checks weather a connection is present from x to y\n",
    "        \"\"\"\n",
    "        if self.adj_matrix[x][y] == 1:\n",
    "            return True\n",
    "        else:\n",
    "            return False\n",
    "    \n",
    "    def degree(self, x):\n",
    "        in_degree = 0\n",
    "        out_degree = 0\n",
    "        for col in range(self.n_vertices):\n",
    "            if self.adj_matrix[x][col] == 1:\n",
    "                out_degree += 1\n",
    "        if self.directed:\n",
    "            # also count in_degrees\n",
    "            for row in range(self.n_vertices):\n",
    "                if self.adj_matrix[row][x] == 1:\n",
    "                    in_degree += 1\n",
    "                    \n",
    "        return (out_degree, in_degree)\n",
    "    \n",
    "    def get_all_edges(self):\n",
    "        edges = []\n",
    "        for row in range(self.n_vertices):\n",
    "            for col in range(self.n_vertices):\n",
    "                if self.adj_matrix[row][col] == 1:\n",
    "                    edges.append((row, col))\n",
    "                    \n",
    "        return edges"
   ]
  },
  {
   "cell_type": "code",
   "execution_count": 88,
   "id": "a335e247",
   "metadata": {},
   "outputs": [],
   "source": [
    "n_vertices = 10\n",
    "graph_matrix = GraphMatrix(n_vertices, directed=True)"
   ]
  },
  {
   "cell_type": "code",
   "execution_count": 89,
   "id": "98928508",
   "metadata": {},
   "outputs": [
    {
     "data": {
      "text/plain": [
       "[[0, 0, 0, 0, 0, 0, 0, 0, 0, 0],\n",
       " [0, 0, 0, 0, 0, 0, 0, 0, 0, 0],\n",
       " [0, 0, 0, 0, 0, 0, 0, 0, 0, 0],\n",
       " [0, 0, 0, 0, 0, 0, 0, 0, 0, 0],\n",
       " [0, 0, 0, 0, 0, 0, 0, 0, 0, 0],\n",
       " [0, 0, 0, 0, 0, 0, 0, 0, 0, 0],\n",
       " [0, 0, 0, 0, 0, 0, 0, 0, 0, 0],\n",
       " [0, 0, 0, 0, 0, 0, 0, 0, 0, 0],\n",
       " [0, 0, 0, 0, 0, 0, 0, 0, 0, 0],\n",
       " [0, 0, 0, 0, 0, 0, 0, 0, 0, 0]]"
      ]
     },
     "execution_count": 89,
     "metadata": {},
     "output_type": "execute_result"
    }
   ],
   "source": [
    "graph_matrix.adj_matrix"
   ]
  },
  {
   "cell_type": "code",
   "execution_count": 90,
   "id": "0547957e",
   "metadata": {},
   "outputs": [],
   "source": [
    "for i in range(n_vertices):\n",
    "    for i in range(n_vertices):\n",
    "        n = random.randint(0, n_vertices-1)\n",
    "        if n != i:\n",
    "            graph_matrix.insert_edge(i, n)"
   ]
  },
  {
   "cell_type": "code",
   "execution_count": 91,
   "id": "f4e067ff",
   "metadata": {},
   "outputs": [
    {
     "data": {
      "text/plain": [
       "[[0, 1, 0, 1, 1, 1, 1, 0, 1, 0],\n",
       " [1, 0, 0, 1, 1, 0, 0, 0, 1, 1],\n",
       " [1, 0, 0, 0, 1, 1, 1, 0, 0, 1],\n",
       " [1, 1, 1, 0, 1, 0, 0, 0, 0, 1],\n",
       " [0, 0, 0, 1, 0, 1, 0, 1, 1, 0],\n",
       " [1, 1, 1, 1, 0, 0, 1, 0, 1, 1],\n",
       " [1, 1, 1, 0, 1, 1, 0, 1, 1, 0],\n",
       " [1, 0, 1, 1, 0, 1, 1, 0, 1, 1],\n",
       " [1, 1, 1, 0, 1, 1, 1, 0, 0, 0],\n",
       " [0, 1, 1, 1, 1, 1, 1, 0, 1, 0]]"
      ]
     },
     "execution_count": 91,
     "metadata": {},
     "output_type": "execute_result"
    }
   ],
   "source": [
    "graph_matrix.adj_matrix"
   ]
  },
  {
   "cell_type": "code",
   "execution_count": 92,
   "id": "d027e923",
   "metadata": {},
   "outputs": [
    {
     "data": {
      "text/plain": [
       "[0, 3, 4, 8, 9]"
      ]
     },
     "execution_count": 92,
     "metadata": {},
     "output_type": "execute_result"
    }
   ],
   "source": [
    "graph_matrix.get_neighbors(1)"
   ]
  },
  {
   "cell_type": "code",
   "execution_count": 93,
   "id": "be21e261",
   "metadata": {},
   "outputs": [
    {
     "data": {
      "text/plain": [
       "[0, 4, 5, 6, 9]"
      ]
     },
     "execution_count": 93,
     "metadata": {},
     "output_type": "execute_result"
    }
   ],
   "source": [
    "graph_matrix.get_neighbors(2)"
   ]
  },
  {
   "cell_type": "code",
   "execution_count": 94,
   "id": "fc8d9079",
   "metadata": {},
   "outputs": [
    {
     "data": {
      "text/plain": [
       "False"
      ]
     },
     "execution_count": 94,
     "metadata": {},
     "output_type": "execute_result"
    }
   ],
   "source": [
    "graph_matrix.check_edge(1, 7)"
   ]
  },
  {
   "cell_type": "code",
   "execution_count": 95,
   "id": "1d491f8e",
   "metadata": {},
   "outputs": [
    {
     "data": {
      "text/plain": [
       "False"
      ]
     },
     "execution_count": 95,
     "metadata": {},
     "output_type": "execute_result"
    }
   ],
   "source": [
    "graph_matrix.check_edge(1, 5)"
   ]
  },
  {
   "cell_type": "code",
   "execution_count": 96,
   "id": "3775417d",
   "metadata": {},
   "outputs": [
    {
     "data": {
      "text/plain": [
       "True"
      ]
     },
     "execution_count": 96,
     "metadata": {},
     "output_type": "execute_result"
    }
   ],
   "source": [
    "graph_matrix.directed"
   ]
  },
  {
   "cell_type": "code",
   "execution_count": 97,
   "id": "ada8a2aa",
   "metadata": {},
   "outputs": [
    {
     "name": "stdout",
     "output_type": "stream",
     "text": [
      "[(0, 1), (0, 3), (0, 4), (0, 5), (0, 6), (0, 8), (1, 0), (1, 3), (1, 4), (1, 8), (1, 9), (2, 0), (2, 4), (2, 5), (2, 6), (2, 9), (3, 0), (3, 1), (3, 2), (3, 4), (3, 9), (4, 3), (4, 5), (4, 7), (4, 8), (5, 0), (5, 1), (5, 2), (5, 3), (5, 6), (5, 8), (5, 9), (6, 0), (6, 1), (6, 2), (6, 4), (6, 5), (6, 7), (6, 8), (7, 0), (7, 2), (7, 3), (7, 5), (7, 6), (7, 8), (7, 9), (8, 0), (8, 1), (8, 2), (8, 4), (8, 5), (8, 6), (9, 1), (9, 2), (9, 3), (9, 4), (9, 5), (9, 6), (9, 8)]\n"
     ]
    }
   ],
   "source": [
    "print(graph_matrix.get_all_edges())"
   ]
  },
  {
   "cell_type": "markdown",
   "id": "df919ba3",
   "metadata": {},
   "source": [
    "### Adjacency List"
   ]
  },
  {
   "cell_type": "code",
   "execution_count": 160,
   "id": "9d7f3f4d",
   "metadata": {},
   "outputs": [],
   "source": [
    "class GraphList:\n",
    "    def __init__(self, n_vertices, directed=False):\n",
    "        self.n_vertices = n_vertices\n",
    "        self.adj_list = {}\n",
    "        self.directed = directed\n",
    "        for i in range(self.n_vertices):\n",
    "            self.adj_list[i] = []\n",
    "        self.edges = []\n",
    "    \n",
    "    def insert_edge(self, x, y):\n",
    "        self.adj_list[x].append(y)\n",
    "        self.edges.append((x,y))\n",
    "        \n",
    "        if not self.directed:\n",
    "            self.adj_list[y].append(x)\n",
    "            self.edges.append((y, x))\n",
    "    \n",
    "    def __repr__(self):\n",
    "        return f\"Graph({self.adj_list})\"\n",
    "    \n",
    "    def get_neighbors(self, x):\n",
    "        return self.adj_list[x]\n",
    "    \n",
    "    def check_edge(self, x, y):\n",
    "        neighbors_x = self.adj_list[x]\n",
    "        \n",
    "        if y in neighbors_x:\n",
    "            return True\n",
    "        else:\n",
    "            return False\n",
    "    \n",
    "    def graph_view(self):\n",
    "        return display_graph(range(self.n_vertices), self.edges, self.directed)\n",
    "        "
   ]
  },
  {
   "cell_type": "code",
   "execution_count": 161,
   "id": "85e1075a",
   "metadata": {},
   "outputs": [],
   "source": [
    "graph_list = GraphList(n_vertices, directed=False)"
   ]
  },
  {
   "cell_type": "code",
   "execution_count": 162,
   "id": "7e062d3a",
   "metadata": {},
   "outputs": [
    {
     "data": {
      "text/plain": [
       "Graph({0: [], 1: [], 2: [], 3: [], 4: [], 5: [], 6: [], 7: [], 8: [], 9: []})"
      ]
     },
     "execution_count": 162,
     "metadata": {},
     "output_type": "execute_result"
    }
   ],
   "source": [
    "graph_list"
   ]
  },
  {
   "cell_type": "code",
   "execution_count": 163,
   "id": "5f2c727e",
   "metadata": {},
   "outputs": [],
   "source": [
    "edges = [\n",
    "    (0, 1), (0, 3),\n",
    "    (1, 2), (1, 4),\n",
    "    (2, 5), (2, 8),\n",
    "    (3, 6), (3, 7),\n",
    "    (4, 7), (4, 8),\n",
    "    (5, 9),\n",
    "    (6, 9),\n",
    "    (7, 8),\n",
    "    (8, 9)\n",
    "]\n",
    "for edge in edges:\n",
    "    graph_list.insert_edge(edge[0], edge[1])"
   ]
  },
  {
   "cell_type": "code",
   "execution_count": 164,
   "id": "800f3083",
   "metadata": {},
   "outputs": [
    {
     "data": {
      "text/plain": [
       "Graph({0: [1, 3], 1: [0, 2, 4], 2: [1, 5, 8], 3: [0, 6, 7], 4: [1, 7, 8], 5: [2, 9], 6: [3, 9], 7: [3, 4, 8], 8: [2, 4, 7, 9], 9: [5, 6, 8]})"
      ]
     },
     "execution_count": 164,
     "metadata": {},
     "output_type": "execute_result"
    }
   ],
   "source": [
    "graph_list"
   ]
  },
  {
   "cell_type": "code",
   "execution_count": 174,
   "id": "420f3784",
   "metadata": {},
   "outputs": [
    {
     "data": {
      "text/plain": [
       "[5, 6, 8]"
      ]
     },
     "execution_count": 174,
     "metadata": {},
     "output_type": "execute_result"
    }
   ],
   "source": [
    "graph_list.get_neighbors(9)"
   ]
  },
  {
   "cell_type": "code",
   "execution_count": 166,
   "id": "78b5f83e",
   "metadata": {},
   "outputs": [
    {
     "data": {
      "text/plain": [
       "False"
      ]
     },
     "execution_count": 166,
     "metadata": {},
     "output_type": "execute_result"
    }
   ],
   "source": [
    "graph_list.check_edge(1, 9)"
   ]
  },
  {
   "cell_type": "code",
   "execution_count": 171,
   "id": "33c66622",
   "metadata": {},
   "outputs": [
    {
     "data": {
      "image/svg+xml": [
       "<?xml version=\"1.0\" encoding=\"UTF-8\" standalone=\"no\"?>\n",
       "<!DOCTYPE svg PUBLIC \"-//W3C//DTD SVG 1.1//EN\"\n",
       " \"http://www.w3.org/Graphics/SVG/1.1/DTD/svg11.dtd\">\n",
       "<!-- Generated by graphviz version 12.2.1 (0)\n",
       " -->\n",
       "<!-- Pages: 1 -->\n",
       "<svg width=\"512pt\" height=\"167pt\"\n",
       " viewBox=\"0.00 0.00 512.00 167.00\" xmlns=\"http://www.w3.org/2000/svg\" xmlns:xlink=\"http://www.w3.org/1999/xlink\">\n",
       "<g id=\"graph0\" class=\"graph\" transform=\"scale(1 1) rotate(0) translate(4 163)\">\n",
       "<polygon fill=\"white\" stroke=\"none\" points=\"-4,4 -4,-163 508,-163 508,4 -4,4\"/>\n",
       "<!-- 0 -->\n",
       "<g id=\"node1\" class=\"node\">\n",
       "<title>0</title>\n",
       "<ellipse fill=\"none\" stroke=\"black\" cx=\"27\" cy=\"-68\" rx=\"27\" ry=\"18\"/>\n",
       "<text text-anchor=\"middle\" x=\"27\" y=\"-62.95\" font-family=\"Times,serif\" font-size=\"14.00\">0</text>\n",
       "</g>\n",
       "<!-- 1 -->\n",
       "<g id=\"node2\" class=\"node\">\n",
       "<title>1</title>\n",
       "<ellipse fill=\"none\" stroke=\"black\" cx=\"117\" cy=\"-95\" rx=\"27\" ry=\"18\"/>\n",
       "<text text-anchor=\"middle\" x=\"117\" y=\"-89.95\" font-family=\"Times,serif\" font-size=\"14.00\">1</text>\n",
       "</g>\n",
       "<!-- 0&#45;&#45;1 -->\n",
       "<g id=\"edge1\" class=\"edge\">\n",
       "<title>0&#45;&#45;1</title>\n",
       "<path fill=\"none\" stroke=\"black\" d=\"M52.05,-75.38C64.46,-79.19 79.57,-83.82 91.98,-87.63\"/>\n",
       "</g>\n",
       "<!-- 3 -->\n",
       "<g id=\"node4\" class=\"node\">\n",
       "<title>3</title>\n",
       "<ellipse fill=\"none\" stroke=\"black\" cx=\"207\" cy=\"-41\" rx=\"27\" ry=\"18\"/>\n",
       "<text text-anchor=\"middle\" x=\"207\" y=\"-35.95\" font-family=\"Times,serif\" font-size=\"14.00\">3</text>\n",
       "</g>\n",
       "<!-- 0&#45;&#45;3 -->\n",
       "<g id=\"edge4\" class=\"edge\">\n",
       "<title>0&#45;&#45;3</title>\n",
       "<path fill=\"none\" stroke=\"black\" d=\"M53.5,-64.13C87.24,-59.01 146.39,-50.04 180.26,-44.91\"/>\n",
       "</g>\n",
       "<!-- 2 -->\n",
       "<g id=\"node3\" class=\"node\">\n",
       "<title>2</title>\n",
       "<ellipse fill=\"none\" stroke=\"black\" cx=\"297\" cy=\"-141\" rx=\"27\" ry=\"18\"/>\n",
       "<text text-anchor=\"middle\" x=\"297\" y=\"-135.95\" font-family=\"Times,serif\" font-size=\"14.00\">2</text>\n",
       "</g>\n",
       "<!-- 1&#45;&#45;2 -->\n",
       "<g id=\"edge2\" class=\"edge\">\n",
       "<title>1&#45;&#45;2</title>\n",
       "<path fill=\"none\" stroke=\"black\" d=\"M139.03,-105.72C150.81,-111.32 165.92,-117.85 180,-122 210.15,-130.88 246,-135.95 269.79,-138.58\"/>\n",
       "</g>\n",
       "<!-- 4 -->\n",
       "<g id=\"node5\" class=\"node\">\n",
       "<title>4</title>\n",
       "<ellipse fill=\"none\" stroke=\"black\" cx=\"207\" cy=\"-95\" rx=\"27\" ry=\"18\"/>\n",
       "<text text-anchor=\"middle\" x=\"207\" y=\"-89.95\" font-family=\"Times,serif\" font-size=\"14.00\">4</text>\n",
       "</g>\n",
       "<!-- 1&#45;&#45;4 -->\n",
       "<g id=\"edge5\" class=\"edge\">\n",
       "<title>1&#45;&#45;4</title>\n",
       "<path fill=\"none\" stroke=\"black\" d=\"M144.4,-95C155.54,-95 168.48,-95 179.62,-95\"/>\n",
       "</g>\n",
       "<!-- 5 -->\n",
       "<g id=\"node6\" class=\"node\">\n",
       "<title>5</title>\n",
       "<ellipse fill=\"none\" stroke=\"black\" cx=\"387\" cy=\"-141\" rx=\"27\" ry=\"18\"/>\n",
       "<text text-anchor=\"middle\" x=\"387\" y=\"-135.95\" font-family=\"Times,serif\" font-size=\"14.00\">5</text>\n",
       "</g>\n",
       "<!-- 2&#45;&#45;5 -->\n",
       "<g id=\"edge10\" class=\"edge\">\n",
       "<title>2&#45;&#45;5</title>\n",
       "<path fill=\"none\" stroke=\"black\" d=\"M324.4,-141C335.54,-141 348.48,-141 359.62,-141\"/>\n",
       "</g>\n",
       "<!-- 8 -->\n",
       "<g id=\"node9\" class=\"node\">\n",
       "<title>8</title>\n",
       "<ellipse fill=\"none\" stroke=\"black\" cx=\"387\" cy=\"-87\" rx=\"27\" ry=\"18\"/>\n",
       "<text text-anchor=\"middle\" x=\"387\" y=\"-81.95\" font-family=\"Times,serif\" font-size=\"14.00\">8</text>\n",
       "</g>\n",
       "<!-- 2&#45;&#45;8 -->\n",
       "<g id=\"edge14\" class=\"edge\">\n",
       "<title>2&#45;&#45;8</title>\n",
       "<path fill=\"none\" stroke=\"black\" d=\"M317.53,-129.02C332.11,-120.07 351.95,-107.89 366.52,-98.95\"/>\n",
       "</g>\n",
       "<!-- 6 -->\n",
       "<g id=\"node7\" class=\"node\">\n",
       "<title>6</title>\n",
       "<ellipse fill=\"none\" stroke=\"black\" cx=\"387\" cy=\"-18\" rx=\"27\" ry=\"18\"/>\n",
       "<text text-anchor=\"middle\" x=\"387\" y=\"-12.95\" font-family=\"Times,serif\" font-size=\"14.00\">6</text>\n",
       "</g>\n",
       "<!-- 3&#45;&#45;6 -->\n",
       "<g id=\"edge8\" class=\"edge\">\n",
       "<title>3&#45;&#45;6</title>\n",
       "<path fill=\"none\" stroke=\"black\" d=\"M231.2,-32.3C242.7,-28.4 256.9,-24.19 270,-22 300.61,-16.87 336.37,-16.47 360.01,-16.96\"/>\n",
       "</g>\n",
       "<!-- 7 -->\n",
       "<g id=\"node8\" class=\"node\">\n",
       "<title>7</title>\n",
       "<ellipse fill=\"none\" stroke=\"black\" cx=\"297\" cy=\"-49\" rx=\"27\" ry=\"18\"/>\n",
       "<text text-anchor=\"middle\" x=\"297\" y=\"-43.95\" font-family=\"Times,serif\" font-size=\"14.00\">7</text>\n",
       "</g>\n",
       "<!-- 3&#45;&#45;7 -->\n",
       "<g id=\"edge3\" class=\"edge\">\n",
       "<title>3&#45;&#45;7</title>\n",
       "<path fill=\"none\" stroke=\"black\" d=\"M233.93,-43.36C245.28,-44.39 258.58,-45.6 269.95,-46.63\"/>\n",
       "</g>\n",
       "<!-- 4&#45;&#45;7 -->\n",
       "<g id=\"edge12\" class=\"edge\">\n",
       "<title>4&#45;&#45;7</title>\n",
       "<path fill=\"none\" stroke=\"black\" d=\"M228.85,-84.1C242.78,-76.82 261.03,-67.28 274.99,-59.98\"/>\n",
       "</g>\n",
       "<!-- 4&#45;&#45;8 -->\n",
       "<g id=\"edge7\" class=\"edge\">\n",
       "<title>4&#45;&#45;8</title>\n",
       "<path fill=\"none\" stroke=\"black\" d=\"M234.26,-93.82C267.92,-92.31 325.92,-89.7 359.63,-88.19\"/>\n",
       "</g>\n",
       "<!-- 9 -->\n",
       "<g id=\"node10\" class=\"node\">\n",
       "<title>9</title>\n",
       "<ellipse fill=\"none\" stroke=\"black\" cx=\"477\" cy=\"-87\" rx=\"27\" ry=\"18\"/>\n",
       "<text text-anchor=\"middle\" x=\"477\" y=\"-81.95\" font-family=\"Times,serif\" font-size=\"14.00\">9</text>\n",
       "</g>\n",
       "<!-- 5&#45;&#45;9 -->\n",
       "<g id=\"edge9\" class=\"edge\">\n",
       "<title>5&#45;&#45;9</title>\n",
       "<path fill=\"none\" stroke=\"black\" d=\"M407.53,-129.02C422.11,-120.07 441.95,-107.89 456.52,-98.95\"/>\n",
       "</g>\n",
       "<!-- 6&#45;&#45;9 -->\n",
       "<g id=\"edge11\" class=\"edge\">\n",
       "<title>6&#45;&#45;9</title>\n",
       "<path fill=\"none\" stroke=\"black\" d=\"M405.39,-31.63C420.81,-43.73 443.23,-61.31 458.65,-73.4\"/>\n",
       "</g>\n",
       "<!-- 7&#45;&#45;8 -->\n",
       "<g id=\"edge13\" class=\"edge\">\n",
       "<title>7&#45;&#45;8</title>\n",
       "<path fill=\"none\" stroke=\"black\" d=\"M320.21,-58.59C333.55,-64.35 350.46,-71.65 363.8,-77.41\"/>\n",
       "</g>\n",
       "<!-- 8&#45;&#45;9 -->\n",
       "<g id=\"edge6\" class=\"edge\">\n",
       "<title>8&#45;&#45;9</title>\n",
       "<path fill=\"none\" stroke=\"black\" d=\"M414.4,-87C425.54,-87 438.48,-87 449.62,-87\"/>\n",
       "</g>\n",
       "</g>\n",
       "</svg>\n"
      ],
      "text/plain": [
       "<graphviz.graphs.Graph at 0x108107390>"
      ]
     },
     "execution_count": 171,
     "metadata": {},
     "output_type": "execute_result"
    }
   ],
   "source": [
    "graph_list.graph_view()"
   ]
  },
  {
   "cell_type": "markdown",
   "id": "e5bbf7be",
   "metadata": {},
   "source": [
    "### Breadth First Search (BFS)\n",
    "\n",
    "There are two important concepts to keep in mind -\n",
    "1. `Visited` set of nodes so that we don't visit them again and also we can return this list to show all the nodes that are reachable from `start`\n",
    "2. `Explored` set of nodes which tell what all nodes have been fully explored. It is marked so when we have fully visited all its adjacent nodes."
   ]
  },
  {
   "cell_type": "code",
   "execution_count": 205,
   "id": "58d72d6f",
   "metadata": {},
   "outputs": [],
   "source": [
    "def BFS(graph: GraphList, start, end=None):\n",
    "    \"\"\"\n",
    "    graph: the graph data structure (adj list) which needs to be traversed\n",
    "    start: the starting vertex from where we start traversal\n",
    "    \"\"\"\n",
    "    # first time we see a node, it gets visited, we dont need to visit it again\n",
    "    # it can be a dict, list or a set\n",
    "    visited = []\n",
    "    \n",
    "    # whatever node has to be explored in future goes into this queue\n",
    "    # this acts as a source of truth for which nodes can/need to be explored\n",
    "    queue = deque()\n",
    "    \n",
    "    # to record parents\n",
    "    parents = {}\n",
    "    \n",
    "    queue.append(start)\n",
    "    visited.append(start)\n",
    "    \n",
    "    parents[start] = -1\n",
    "    \n",
    "    # while there is something to explore, keep exploring and be mindful about visited nodes\n",
    "    while queue:\n",
    "        to_explore = queue.popleft()\n",
    "        \n",
    "        # exploration means visiting all its adjacent nodes (neighbors)\n",
    "        for neighbor in graph.get_neighbors(to_explore):\n",
    "            if neighbor not in visited:\n",
    "                \n",
    "                # this neighbor got found from to_explore so thats the parent\n",
    "                parents[neighbor] = to_explore\n",
    "                \n",
    "                visited.append(neighbor)\n",
    "                # add it to queue to explore it in future\n",
    "                queue.append(neighbor)\n",
    "    \n",
    "    # find path from start to end\n",
    "    path = []\n",
    "    if end is not None:\n",
    "        path.append(end)\n",
    "        marker = end\n",
    "        while parents[marker] != -1:\n",
    "            marker = parents[marker]\n",
    "            path.append(marker)\n",
    "\n",
    "        path = path[::-1]\n",
    "        \n",
    "    return {\"visited\": visited, \"parents\": parents, \"path\": path}"
   ]
  },
  {
   "cell_type": "code",
   "execution_count": 207,
   "id": "8da4a0f6",
   "metadata": {},
   "outputs": [
    {
     "data": {
      "text/plain": [
       "{'visited': [6, 3, 9, 0, 7, 5, 8, 1, 4, 2],\n",
       " 'parents': {6: -1, 3: 6, 9: 6, 0: 3, 7: 3, 5: 9, 8: 9, 1: 0, 4: 7, 2: 5},\n",
       " 'path': [6, 9]}"
      ]
     },
     "execution_count": 207,
     "metadata": {},
     "output_type": "execute_result"
    }
   ],
   "source": [
    "BFS(graph_list, 6, 9)"
   ]
  }
 ],
 "metadata": {
  "kernelspec": {
   "display_name": "dsai",
   "language": "python",
   "name": "python3"
  },
  "language_info": {
   "codemirror_mode": {
    "name": "ipython",
    "version": 3
   },
   "file_extension": ".py",
   "mimetype": "text/x-python",
   "name": "python",
   "nbconvert_exporter": "python",
   "pygments_lexer": "ipython3",
   "version": "3.13.1"
  }
 },
 "nbformat": 4,
 "nbformat_minor": 5
}
