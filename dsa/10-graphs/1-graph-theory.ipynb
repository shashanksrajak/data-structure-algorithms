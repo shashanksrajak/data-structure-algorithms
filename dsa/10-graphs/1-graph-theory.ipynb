{
 "cells": [
  {
   "cell_type": "markdown",
   "id": "94317b80",
   "metadata": {},
   "source": [
    "## Graph Theory\n",
    "We have following implementations in this file\n",
    "1. Creating graphs by `Adjacency Matrix` and `Adjacency List` methods.\n",
    "2. Getting the graph\n",
    "3. Graph Traversals - BFS & DFS"
   ]
  },
  {
   "cell_type": "code",
   "execution_count": 86,
   "id": "0c182e93",
   "metadata": {},
   "outputs": [],
   "source": [
    "import random\n",
    "\n",
    "random.seed(42)"
   ]
  },
  {
   "cell_type": "markdown",
   "id": "dbdc491d",
   "metadata": {},
   "source": [
    "### Adjacency Matrix"
   ]
  },
  {
   "cell_type": "code",
   "execution_count": 87,
   "id": "8b020c8f",
   "metadata": {},
   "outputs": [],
   "source": [
    "class GraphMatrix:\n",
    "    def __init__(self, n_vertices: int, directed: bool = False):\n",
    "        self.n_vertices = n_vertices\n",
    "        # Create a 2D adjacency matrix initialized with 0s\n",
    "        self.adj_matrix = [[0] * n_vertices for _ in range(n_vertices)]\n",
    "        self.directed = directed\n",
    "    \n",
    "    def insert_edge(self, x, y):\n",
    "        \"\"\"\n",
    "        Create an edge between x and y vertices, based on directed flag\n",
    "        \"\"\"\n",
    "        self.adj_matrix[x][y] = 1 # turn this on\n",
    "        \n",
    "        if not self.directed:\n",
    "            # for undirected graph - (x,y) and (y,x) both edges exist\n",
    "            self.adj_matrix[y][x] = 1\n",
    "       \n",
    "    def get_neighbors(self, x):\n",
    "        \"\"\"\n",
    "        For given vertex x, return all its neigbors (adjacent vertices)\n",
    "        \"\"\" \n",
    "        neighbors = []\n",
    "        for col in range(self.n_vertices):\n",
    "            if self.adj_matrix[x][col] == 1:\n",
    "                neighbors.append(col)\n",
    "        return neighbors\n",
    "    \n",
    "    def check_edge(self, x, y):\n",
    "        \"\"\"\n",
    "        Checks weather a connection is present from x to y\n",
    "        \"\"\"\n",
    "        if self.adj_matrix[x][y] == 1:\n",
    "            return True\n",
    "        else:\n",
    "            return False\n",
    "    \n",
    "    def degree(self, x):\n",
    "        in_degree = 0\n",
    "        out_degree = 0\n",
    "        for col in range(self.n_vertices):\n",
    "            if self.adj_matrix[x][col] == 1:\n",
    "                out_degree += 1\n",
    "        if self.directed:\n",
    "            # also count in_degrees\n",
    "            for row in range(self.n_vertices):\n",
    "                if self.adj_matrix[row][x] == 1:\n",
    "                    in_degree += 1\n",
    "                    \n",
    "        return (out_degree, in_degree)\n",
    "    \n",
    "    def get_all_edges(self):\n",
    "        edges = []\n",
    "        for row in range(self.n_vertices):\n",
    "            for col in range(self.n_vertices):\n",
    "                if self.adj_matrix[row][col] == 1:\n",
    "                    edges.append((row, col))\n",
    "                    \n",
    "        return edges"
   ]
  },
  {
   "cell_type": "code",
   "execution_count": 88,
   "id": "a335e247",
   "metadata": {},
   "outputs": [],
   "source": [
    "n_vertices = 10\n",
    "graph_matrix = GraphMatrix(n_vertices, directed=True)"
   ]
  },
  {
   "cell_type": "code",
   "execution_count": 89,
   "id": "98928508",
   "metadata": {},
   "outputs": [
    {
     "data": {
      "text/plain": [
       "[[0, 0, 0, 0, 0, 0, 0, 0, 0, 0],\n",
       " [0, 0, 0, 0, 0, 0, 0, 0, 0, 0],\n",
       " [0, 0, 0, 0, 0, 0, 0, 0, 0, 0],\n",
       " [0, 0, 0, 0, 0, 0, 0, 0, 0, 0],\n",
       " [0, 0, 0, 0, 0, 0, 0, 0, 0, 0],\n",
       " [0, 0, 0, 0, 0, 0, 0, 0, 0, 0],\n",
       " [0, 0, 0, 0, 0, 0, 0, 0, 0, 0],\n",
       " [0, 0, 0, 0, 0, 0, 0, 0, 0, 0],\n",
       " [0, 0, 0, 0, 0, 0, 0, 0, 0, 0],\n",
       " [0, 0, 0, 0, 0, 0, 0, 0, 0, 0]]"
      ]
     },
     "execution_count": 89,
     "metadata": {},
     "output_type": "execute_result"
    }
   ],
   "source": [
    "graph_matrix.adj_matrix"
   ]
  },
  {
   "cell_type": "code",
   "execution_count": 90,
   "id": "0547957e",
   "metadata": {},
   "outputs": [],
   "source": [
    "for i in range(n_vertices):\n",
    "    for i in range(n_vertices):\n",
    "        n = random.randint(0, n_vertices-1)\n",
    "        if n != i:\n",
    "            graph_matrix.insert_edge(i, n)"
   ]
  },
  {
   "cell_type": "code",
   "execution_count": 91,
   "id": "f4e067ff",
   "metadata": {},
   "outputs": [
    {
     "data": {
      "text/plain": [
       "[[0, 1, 0, 1, 1, 1, 1, 0, 1, 0],\n",
       " [1, 0, 0, 1, 1, 0, 0, 0, 1, 1],\n",
       " [1, 0, 0, 0, 1, 1, 1, 0, 0, 1],\n",
       " [1, 1, 1, 0, 1, 0, 0, 0, 0, 1],\n",
       " [0, 0, 0, 1, 0, 1, 0, 1, 1, 0],\n",
       " [1, 1, 1, 1, 0, 0, 1, 0, 1, 1],\n",
       " [1, 1, 1, 0, 1, 1, 0, 1, 1, 0],\n",
       " [1, 0, 1, 1, 0, 1, 1, 0, 1, 1],\n",
       " [1, 1, 1, 0, 1, 1, 1, 0, 0, 0],\n",
       " [0, 1, 1, 1, 1, 1, 1, 0, 1, 0]]"
      ]
     },
     "execution_count": 91,
     "metadata": {},
     "output_type": "execute_result"
    }
   ],
   "source": [
    "graph_matrix.adj_matrix"
   ]
  },
  {
   "cell_type": "code",
   "execution_count": 92,
   "id": "d027e923",
   "metadata": {},
   "outputs": [
    {
     "data": {
      "text/plain": [
       "[0, 3, 4, 8, 9]"
      ]
     },
     "execution_count": 92,
     "metadata": {},
     "output_type": "execute_result"
    }
   ],
   "source": [
    "graph_matrix.get_neighbors(1)"
   ]
  },
  {
   "cell_type": "code",
   "execution_count": 93,
   "id": "be21e261",
   "metadata": {},
   "outputs": [
    {
     "data": {
      "text/plain": [
       "[0, 4, 5, 6, 9]"
      ]
     },
     "execution_count": 93,
     "metadata": {},
     "output_type": "execute_result"
    }
   ],
   "source": [
    "graph_matrix.get_neighbors(2)"
   ]
  },
  {
   "cell_type": "code",
   "execution_count": 94,
   "id": "fc8d9079",
   "metadata": {},
   "outputs": [
    {
     "data": {
      "text/plain": [
       "False"
      ]
     },
     "execution_count": 94,
     "metadata": {},
     "output_type": "execute_result"
    }
   ],
   "source": [
    "graph_matrix.check_edge(1, 7)"
   ]
  },
  {
   "cell_type": "code",
   "execution_count": 95,
   "id": "1d491f8e",
   "metadata": {},
   "outputs": [
    {
     "data": {
      "text/plain": [
       "False"
      ]
     },
     "execution_count": 95,
     "metadata": {},
     "output_type": "execute_result"
    }
   ],
   "source": [
    "graph_matrix.check_edge(1, 5)"
   ]
  },
  {
   "cell_type": "code",
   "execution_count": 96,
   "id": "3775417d",
   "metadata": {},
   "outputs": [
    {
     "data": {
      "text/plain": [
       "True"
      ]
     },
     "execution_count": 96,
     "metadata": {},
     "output_type": "execute_result"
    }
   ],
   "source": [
    "graph_matrix.directed"
   ]
  },
  {
   "cell_type": "code",
   "execution_count": 97,
   "id": "ada8a2aa",
   "metadata": {},
   "outputs": [
    {
     "name": "stdout",
     "output_type": "stream",
     "text": [
      "[(0, 1), (0, 3), (0, 4), (0, 5), (0, 6), (0, 8), (1, 0), (1, 3), (1, 4), (1, 8), (1, 9), (2, 0), (2, 4), (2, 5), (2, 6), (2, 9), (3, 0), (3, 1), (3, 2), (3, 4), (3, 9), (4, 3), (4, 5), (4, 7), (4, 8), (5, 0), (5, 1), (5, 2), (5, 3), (5, 6), (5, 8), (5, 9), (6, 0), (6, 1), (6, 2), (6, 4), (6, 5), (6, 7), (6, 8), (7, 0), (7, 2), (7, 3), (7, 5), (7, 6), (7, 8), (7, 9), (8, 0), (8, 1), (8, 2), (8, 4), (8, 5), (8, 6), (9, 1), (9, 2), (9, 3), (9, 4), (9, 5), (9, 6), (9, 8)]\n"
     ]
    }
   ],
   "source": [
    "print(graph_matrix.get_all_edges())"
   ]
  },
  {
   "cell_type": "markdown",
   "id": "df919ba3",
   "metadata": {},
   "source": [
    "### Adjacency List"
   ]
  },
  {
   "cell_type": "code",
   "execution_count": 129,
   "id": "9d7f3f4d",
   "metadata": {},
   "outputs": [],
   "source": [
    "class GraphList:\n",
    "    def __init__(self, n_vertices, directed=False):\n",
    "        self.n_vertices = n_vertices\n",
    "        self.adj_list = {}\n",
    "        self.directed = directed\n",
    "        for i in range(self.n_vertices):\n",
    "            self.adj_list[i] = []\n",
    "    \n",
    "    def insert_edge(self, x, y):\n",
    "        self.adj_list[x].append(y)\n",
    "        \n",
    "        if not self.directed:\n",
    "            self.adj_list[y].append(x)\n",
    "    \n",
    "    def __repr__(self):\n",
    "        return f\"Graph({self.adj_list})\"\n",
    "    \n",
    "    def get_neighbors(self, x):\n",
    "        return self.adj_list[x]\n",
    "    \n",
    "    def check_edge(self, x, y):\n",
    "        neighbors_x = self.adj_list[x]\n",
    "        \n",
    "        if y in neighbors_x:\n",
    "            return True\n",
    "        else:\n",
    "            return False\n",
    "        "
   ]
  },
  {
   "cell_type": "code",
   "execution_count": 130,
   "id": "85e1075a",
   "metadata": {},
   "outputs": [],
   "source": [
    "graph_list = GraphList(n_vertices, directed=False)"
   ]
  },
  {
   "cell_type": "code",
   "execution_count": 131,
   "id": "7e062d3a",
   "metadata": {},
   "outputs": [
    {
     "data": {
      "text/plain": [
       "Graph({0: [], 1: [], 2: [], 3: [], 4: [], 5: [], 6: [], 7: [], 8: [], 9: []})"
      ]
     },
     "execution_count": 131,
     "metadata": {},
     "output_type": "execute_result"
    }
   ],
   "source": [
    "graph_list"
   ]
  },
  {
   "cell_type": "code",
   "execution_count": 132,
   "id": "5f2c727e",
   "metadata": {},
   "outputs": [],
   "source": [
    "edges = [(1, 2), (1, 4), (2, 5), (2, 8)]\n",
    "\n",
    "for edge in edges:\n",
    "    graph_list.insert_edge(edge[0], edge[1])"
   ]
  },
  {
   "cell_type": "code",
   "execution_count": 133,
   "id": "800f3083",
   "metadata": {},
   "outputs": [
    {
     "data": {
      "text/plain": [
       "Graph({0: [], 1: [2, 4], 2: [1, 5, 8], 3: [], 4: [1], 5: [2], 6: [], 7: [], 8: [2], 9: []})"
      ]
     },
     "execution_count": 133,
     "metadata": {},
     "output_type": "execute_result"
    }
   ],
   "source": [
    "graph_list"
   ]
  },
  {
   "cell_type": "code",
   "execution_count": 134,
   "id": "420f3784",
   "metadata": {},
   "outputs": [
    {
     "data": {
      "text/plain": [
       "[1, 5, 8]"
      ]
     },
     "execution_count": 134,
     "metadata": {},
     "output_type": "execute_result"
    }
   ],
   "source": [
    "graph_list.get_neighbors(2)"
   ]
  },
  {
   "cell_type": "code",
   "execution_count": 136,
   "id": "78b5f83e",
   "metadata": {},
   "outputs": [
    {
     "data": {
      "text/plain": [
       "False"
      ]
     },
     "execution_count": 136,
     "metadata": {},
     "output_type": "execute_result"
    }
   ],
   "source": [
    "graph_list.check_edge(1, 9)"
   ]
  }
 ],
 "metadata": {
  "kernelspec": {
   "display_name": "dsai",
   "language": "python",
   "name": "python3"
  },
  "language_info": {
   "codemirror_mode": {
    "name": "ipython",
    "version": 3
   },
   "file_extension": ".py",
   "mimetype": "text/x-python",
   "name": "python",
   "nbconvert_exporter": "python",
   "pygments_lexer": "ipython3",
   "version": "3.13.1"
  }
 },
 "nbformat": 4,
 "nbformat_minor": 5
}
