{
 "cells": [
  {
   "cell_type": "markdown",
   "metadata": {},
   "source": [
    "**Question**\n",
    "\n",
    "https://neetcode.io/problems/top-k-elements-in-list"
   ]
  },
  {
   "cell_type": "markdown",
   "metadata": {},
   "source": [
    "**Key concepts**\n",
    "- bucket sorting\n",
    "- hashmap"
   ]
  },
  {
   "cell_type": "code",
   "execution_count": 4,
   "metadata": {},
   "outputs": [],
   "source": [
    "def topKFrequentElements(nums, k):\n",
    "    \n",
    "    # to store count of each num\n",
    "    counts = {}\n",
    "    \n",
    "    # an empty list of lists of length equals length of nums\n",
    "    # this is bucketing, and an element can have maximum freq of the length of nums\n",
    "    frequency = [[] for i in range(len(nums) + 1)] \n",
    "\n",
    "    \n",
    "    # first count the frequency of nums and store in a dict\n",
    "    for num in nums:\n",
    "        if num in counts:\n",
    "            counts[num] += 1\n",
    "        else:\n",
    "            counts[num] = 1\n",
    "    \n",
    "    # bucketing\n",
    "    for num, count in counts.items():\n",
    "        frequency[count].append(num)\n",
    "        \n",
    "    \n",
    "    result = []    \n",
    "    # return k most frequenct elements\n",
    "    for i in range(len(nums)-1, 0, -1):\n",
    "        for num in frequency[i]:\n",
    "            result.append(num)\n",
    "            if len(result) == k:\n",
    "                return result"
   ]
  },
  {
   "cell_type": "code",
   "execution_count": 5,
   "metadata": {},
   "outputs": [
    {
     "data": {
      "text/plain": [
       "[3, 2]"
      ]
     },
     "execution_count": 5,
     "metadata": {},
     "output_type": "execute_result"
    }
   ],
   "source": [
    "nums = [1,2,2,3,3,3]\n",
    "k = 2\n",
    "\n",
    "topKFrequentElements(nums, k)"
   ]
  },
  {
   "cell_type": "code",
   "execution_count": 6,
   "metadata": {},
   "outputs": [
    {
     "data": {
      "text/plain": [
       "[1, 2]"
      ]
     },
     "execution_count": 6,
     "metadata": {},
     "output_type": "execute_result"
    }
   ],
   "source": [
    "nums = [1, 2]\n",
    "k = 2\n",
    "\n",
    "topKFrequentElements(nums, k)"
   ]
  }
 ],
 "metadata": {
  "kernelspec": {
   "display_name": "dsai",
   "language": "python",
   "name": "python3"
  },
  "language_info": {
   "codemirror_mode": {
    "name": "ipython",
    "version": 3
   },
   "file_extension": ".py",
   "mimetype": "text/x-python",
   "name": "python",
   "nbconvert_exporter": "python",
   "pygments_lexer": "ipython3",
   "version": "3.13.1"
  }
 },
 "nbformat": 4,
 "nbformat_minor": 2
}
