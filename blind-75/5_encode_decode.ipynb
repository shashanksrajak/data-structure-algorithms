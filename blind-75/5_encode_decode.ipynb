{
 "cells": [
  {
   "cell_type": "markdown",
   "metadata": {},
   "source": [
    "# 5. Encode and Decode"
   ]
  },
  {
   "cell_type": "markdown",
   "metadata": {},
   "source": [
    "Design an algorithm to encode a list of strings to a single string. The encoded string is then decoded back to the original list of strings.\n",
    "\n",
    "https://neetcode.io/problems/string-encode-and-decode\n",
    "\n",
    "Please implement `encode` and `decode`\n",
    "\n",
    "**Example 1:**\n",
    "\n",
    "```java\n",
    "Input: [\"neet\",\"code\",\"love\",\"you\"]\n",
    "\n",
    "Output:[\"neet\",\"code\",\"love\",\"you\"]\n",
    "```\n",
    "\n",
    "**Example 2:**\n",
    "\n",
    "```java\n",
    "Input: [\"we\",\"say\",\":\",\"yes\"]\n",
    "\n",
    "Output: [\"we\",\"say\",\":\",\"yes\"]\n",
    "```\n",
    "\n",
    "**Constraints:**\n",
    "\n",
    "- `0 <= strs.length < 100`\n",
    "- `0 <= strs[i].length < 200`\n",
    "- `strs[i]` contains only UTF-8 characters."
   ]
  },
  {
   "cell_type": "code",
   "execution_count": 16,
   "metadata": {},
   "outputs": [],
   "source": [
    "test_cases = [\n",
    "    [\"neet\", \"code\", \"love\", \"you\"],\n",
    "    [\"we\", \"say\", \":\", \"yes\"],\n",
    "    [\"we are\", \"a\", \"great\", \"country\"]\n",
    "]"
   ]
  },
  {
   "cell_type": "markdown",
   "metadata": {},
   "source": [
    "### Approach 1\n",
    "The naive approach could be enocode with spaces and then decode it.\n",
    "\n",
    "Analysis - O(1)\n",
    "\n",
    "But what if there are spaces, this approach will fail."
   ]
  },
  {
   "cell_type": "code",
   "execution_count": 14,
   "metadata": {},
   "outputs": [],
   "source": [
    "class Solution:\n",
    "    def encode(self, strs):\n",
    "        return \" \".join(strs)\n",
    "    \n",
    "    def decode(self, s):\n",
    "\t    return s.split()"
   ]
  },
  {
   "cell_type": "code",
   "execution_count": 17,
   "metadata": {},
   "outputs": [
    {
     "name": "stdout",
     "output_type": "stream",
     "text": [
      "Test Case ['neet', 'code', 'love', 'you']\n",
      "neet code love you\n",
      "['neet', 'code', 'love', 'you']\n",
      "Test Case ['we', 'say', ':', 'yes']\n",
      "we say : yes\n",
      "['we', 'say', ':', 'yes']\n",
      "Test Case ['we are', 'a', 'great', 'country']\n",
      "we are a great country\n",
      "['we', 'are', 'a', 'great', 'country']\n"
     ]
    }
   ],
   "source": [
    "# Test output\n",
    "\n",
    "for test_case in test_cases:\n",
    "    print(\"Test Case\", test_case)\n",
    "    encoded = Solution().encode(test_case)\n",
    "    print(encoded)\n",
    "    decoded = Solution().decode(encoded)\n",
    "    print(decoded)"
   ]
  },
  {
   "cell_type": "markdown",
   "metadata": {},
   "source": [
    "## Approach 2\n",
    "\n",
    "We use a # and length of chars to encode and then while decoding we read the len of chars starting from #"
   ]
  },
  {
   "cell_type": "code",
   "execution_count": null,
   "metadata": {},
   "outputs": [],
   "source": []
  }
 ],
 "metadata": {
  "kernelspec": {
   "display_name": "dsai",
   "language": "python",
   "name": "python3"
  },
  "language_info": {
   "codemirror_mode": {
    "name": "ipython",
    "version": 3
   },
   "file_extension": ".py",
   "mimetype": "text/x-python",
   "name": "python",
   "nbconvert_exporter": "python",
   "pygments_lexer": "ipython3",
   "version": "3.13.1"
  }
 },
 "nbformat": 4,
 "nbformat_minor": 2
}
