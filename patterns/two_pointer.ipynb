{
 "cells": [
  {
   "cell_type": "markdown",
   "id": "8b3bb120",
   "metadata": {},
   "source": [
    "in opposite direction"
   ]
  },
  {
   "cell_type": "code",
   "execution_count": 3,
   "id": "73dd6893",
   "metadata": {},
   "outputs": [
    {
     "data": {
      "text/plain": [
       "(2, 7)"
      ]
     },
     "execution_count": 3,
     "metadata": {},
     "output_type": "execute_result"
    }
   ],
   "source": [
    "arr = [2, 7, 11, 15]\n",
    "target = 9\n",
    "\n",
    "def findSum(arr, target):\n",
    "    right = len(arr) - 1\n",
    "    left = 0\n",
    "    \n",
    "    if arr[left] > target:\n",
    "        return None\n",
    "    \n",
    "    while left < right:\n",
    "        if(arr[right] > target):\n",
    "            right = right - 1\n",
    "        if arr[left] + arr[right] == target:\n",
    "            return (arr[left], arr[right])\n",
    "        else:\n",
    "            right = right - 1\n",
    "\n",
    "findSum(arr, target)\n",
    "            "
   ]
  },
  {
   "cell_type": "markdown",
   "id": "ff6a4a8b",
   "metadata": {},
   "source": [
    "in same direction"
   ]
  },
  {
   "cell_type": "code",
   "execution_count": 4,
   "id": "1ca624ec",
   "metadata": {},
   "outputs": [
    {
     "name": "stdout",
     "output_type": "stream",
     "text": [
      "3\n"
     ]
    }
   ],
   "source": [
    "def longest_unique_substring(s):\n",
    "    start = 0\n",
    "    end = 0\n",
    "    max_len = 0\n",
    "    char_set = set()\n",
    "    while end < len(s):\n",
    "        if s[end] not in char_set:\n",
    "            char_set.add(s[end])\n",
    "            end += 1\n",
    "            max_len = max(max_len, end - start)\n",
    "        else:\n",
    "            char_set.remove(s[start])\n",
    "            start += 1\n",
    "    return max_len\n",
    "\n",
    "\n",
    "print(longest_unique_substring(\"abcabcbb\"))  # Output: 3"
   ]
  },
  {
   "cell_type": "markdown",
   "id": "16b523d5",
   "metadata": {},
   "source": [
    "Given an array of positive integers, find the smallest contiguous subarray whose sum is greater than or equal to a given target.\n",
    "\n",
    "```\n",
    "array = [2, 3, 1, 2, 4, 3]\n",
    "target = 7\n",
    "```"
   ]
  }
 ],
 "metadata": {
  "kernelspec": {
   "display_name": "dsai",
   "language": "python",
   "name": "python3"
  },
  "language_info": {
   "codemirror_mode": {
    "name": "ipython",
    "version": 3
   },
   "file_extension": ".py",
   "mimetype": "text/x-python",
   "name": "python",
   "nbconvert_exporter": "python",
   "pygments_lexer": "ipython3",
   "version": "3.13.1"
  }
 },
 "nbformat": 4,
 "nbformat_minor": 5
}
