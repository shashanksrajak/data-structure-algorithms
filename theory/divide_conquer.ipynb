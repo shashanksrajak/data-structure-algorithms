{
 "cells": [
  {
   "cell_type": "markdown",
   "metadata": {},
   "source": [
    "**Divide and Conquer**\n",
    "\n",
    "DnC is not an algorithm but a tool to solve problems. This is a powerful tool and can be used to solve complex problems by breaking it down to smaller problems.\n",
    "\n",
    "Two key points -\n",
    "1. Identify base case\n",
    "2. Divide the problem into smaller ones"
   ]
  },
  {
   "cell_type": "code",
   "execution_count": null,
   "metadata": {},
   "outputs": [],
   "source": [
    "def sum(array):\n",
    "    # base case -> where the recursive function will stop\n",
    "    if len(array) == 0:\n",
    "        return 0\n",
    "    if len(array) == 1:\n",
    "        return array[0]\n",
    "    \n",
    "    # recursion\n",
    "    total = array[0] + sum(array[1:])  \n",
    "    # recursion function keeps the state of recursion and last function is returned first LIFO (stack)\n",
    "    \n",
    "    return total"
   ]
  },
  {
   "cell_type": "code",
   "execution_count": 2,
   "metadata": {},
   "outputs": [
    {
     "data": {
      "text/plain": [
       "23"
      ]
     },
     "execution_count": 2,
     "metadata": {},
     "output_type": "execute_result"
    }
   ],
   "source": [
    "nums = [1, 2, 20]\n",
    "sum(nums)"
   ]
  },
  {
   "cell_type": "markdown",
   "metadata": {},
   "source": [
    "Instead of looping through numbers and adding them, we divided the problem into smaller chunks and the smallest possible chunk i.e. a[i] will have sum equal to the element itself. "
   ]
  }
 ],
 "metadata": {
  "kernelspec": {
   "display_name": "dsai",
   "language": "python",
   "name": "python3"
  },
  "language_info": {
   "codemirror_mode": {
    "name": "ipython",
    "version": 3
   },
   "file_extension": ".py",
   "mimetype": "text/x-python",
   "name": "python",
   "nbconvert_exporter": "python",
   "pygments_lexer": "ipython3",
   "version": "3.13.1"
  }
 },
 "nbformat": 4,
 "nbformat_minor": 2
}
