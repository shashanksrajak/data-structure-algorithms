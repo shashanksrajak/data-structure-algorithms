{
 "cells": [
  {
   "cell_type": "markdown",
   "id": "2d93633e",
   "metadata": {},
   "source": [
    "## Bubble Sort"
   ]
  },
  {
   "cell_type": "code",
   "execution_count": 1,
   "id": "b528bea2",
   "metadata": {},
   "outputs": [],
   "source": [
    "def bubble_sort(input_list: list):\n",
    "    size = len(input_list)\n",
    "    for i in range(size-1):\n",
    "        for j in range(size-1-i): #  the -i makes sure we dont go to the last sorted elements; we save some time here\n",
    "            if input_list[j] > input_list[j+1]:\n",
    "                # swap them\n",
    "                input_list[j], input_list[j+1] = input_list[j+1], input_list[j]\n",
    "    \n",
    "    return input_list"
   ]
  },
  {
   "cell_type": "code",
   "execution_count": 2,
   "id": "ffcab7d5",
   "metadata": {},
   "outputs": [],
   "source": [
    "nums = [16, 10, 8, 20, 25, 4]"
   ]
  },
  {
   "cell_type": "code",
   "execution_count": 3,
   "id": "071a0f30",
   "metadata": {},
   "outputs": [
    {
     "data": {
      "text/plain": [
       "[4, 8, 10, 16, 20, 25]"
      ]
     },
     "execution_count": 3,
     "metadata": {},
     "output_type": "execute_result"
    }
   ],
   "source": [
    "bubble_sort(nums)"
   ]
  },
  {
   "cell_type": "code",
   "execution_count": 4,
   "id": "ca238ec6",
   "metadata": {},
   "outputs": [],
   "source": [
    "def bubble_sort_desc(input_list: list):\n",
    "    size = len(input_list)\n",
    "    for i in range(size-1):\n",
    "        # the -i makes sure we dont go to the last sorted elements; we save some time here\n",
    "        for j in range(size-1-i):\n",
    "            if input_list[j] < input_list[j+1]:\n",
    "                # swap them\n",
    "                input_list[j], input_list[j+1] = input_list[j+1], input_list[j]\n",
    "\n",
    "    return input_list"
   ]
  },
  {
   "cell_type": "code",
   "execution_count": 6,
   "id": "0dfdabcd",
   "metadata": {},
   "outputs": [
    {
     "data": {
      "text/plain": [
       "[25, 20, 16, 10, 8, 4]"
      ]
     },
     "execution_count": 6,
     "metadata": {},
     "output_type": "execute_result"
    }
   ],
   "source": [
    "nums = [16, 10, 8, 20, 25, 4]\n",
    "bubble_sort_desc(nums)"
   ]
  },
  {
   "cell_type": "markdown",
   "id": "6a8e4bee",
   "metadata": {},
   "source": [
    "### Excercise"
   ]
  },
  {
   "cell_type": "markdown",
   "id": "ce743b95",
   "metadata": {},
   "source": [
    "Write `bubble_sort()` function to sort the given list with a given `key`\n",
    "\n",
    "```python\n",
    "\n",
    "elements = [\n",
    "        { 'name': 'mona',   'transaction_amount': 1000, 'device': 'iphone-10'},\n",
    "        { 'name': 'dhaval', 'transaction_amount': 400,  'device': 'google pixel'},\n",
    "        { 'name': 'kathy',  'transaction_amount': 200,  'device': 'vivo'},\n",
    "        { 'name': 'aamir',  'transaction_amount': 800,  'device': 'iphone-8'},\n",
    "    ]\n",
    "\n",
    "```\n",
    "\n",
    "This type of sorting is used in table sorting based on different columns."
   ]
  },
  {
   "cell_type": "code",
   "execution_count": null,
   "id": "344488bb",
   "metadata": {},
   "outputs": [],
   "source": [
    "def bubble_sort_bykey(input_list: list, key: str):\n",
    "    size = len(input_list)\n",
    "    for i in range(size-1):\n",
    "        # the -i makes sure we dont go to the last sorted elements; we save some time here\n",
    "        for j in range(size-1-i):\n",
    "            if input_list[j][key] > input_list[j+1][key]:\n",
    "                # swap them\n",
    "                input_list[j], input_list[j+1] = input_list[j+1], input_list[j]\n",
    "\n",
    "    return input_list"
   ]
  },
  {
   "cell_type": "code",
   "execution_count": 10,
   "id": "7f5d255e",
   "metadata": {},
   "outputs": [
    {
     "data": {
      "text/plain": [
       "[{'name': 'kathy', 'transaction_amount': 200, 'device': 'vivo'},\n",
       " {'name': 'dhaval', 'transaction_amount': 400, 'device': 'google pixel'},\n",
       " {'name': 'aamir', 'transaction_amount': 800, 'device': 'iphone-8'},\n",
       " {'name': 'mona', 'transaction_amount': 1000, 'device': 'iphone-10'}]"
      ]
     },
     "execution_count": 10,
     "metadata": {},
     "output_type": "execute_result"
    }
   ],
   "source": [
    "elements = [\n",
    "    {'name': 'mona',   'transaction_amount': 1000, 'device': 'iphone-10'},\n",
    "    {'name': 'dhaval', 'transaction_amount': 400,  'device': 'google pixel'},\n",
    "    {'name': 'kathy',  'transaction_amount': 200,  'device': 'vivo'},\n",
    "    {'name': 'aamir',  'transaction_amount': 800,  'device': 'iphone-8'},\n",
    "]\n",
    "\n",
    "bubble_sort_bykey(elements, key=\"transaction_amount\")"
   ]
  },
  {
   "cell_type": "code",
   "execution_count": 11,
   "id": "1dac9553",
   "metadata": {},
   "outputs": [
    {
     "data": {
      "text/plain": [
       "[{'name': 'dhaval', 'transaction_amount': 400, 'device': 'google pixel'},\n",
       " {'name': 'mona', 'transaction_amount': 1000, 'device': 'iphone-10'},\n",
       " {'name': 'aamir', 'transaction_amount': 800, 'device': 'iphone-8'},\n",
       " {'name': 'kathy', 'transaction_amount': 200, 'device': 'vivo'}]"
      ]
     },
     "execution_count": 11,
     "metadata": {},
     "output_type": "execute_result"
    }
   ],
   "source": [
    "bubble_sort_bykey(elements, key=\"device\")"
   ]
  }
 ],
 "metadata": {
  "kernelspec": {
   "display_name": "dsai",
   "language": "python",
   "name": "python3"
  },
  "language_info": {
   "codemirror_mode": {
    "name": "ipython",
    "version": 3
   },
   "file_extension": ".py",
   "mimetype": "text/x-python",
   "name": "python",
   "nbconvert_exporter": "python",
   "pygments_lexer": "ipython3",
   "version": "3.13.1"
  }
 },
 "nbformat": 4,
 "nbformat_minor": 5
}
