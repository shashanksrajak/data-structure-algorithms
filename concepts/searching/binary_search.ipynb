{
 "cells": [
  {
   "cell_type": "markdown",
   "metadata": {},
   "source": [
    "## Binary Search"
   ]
  },
  {
   "cell_type": "code",
   "execution_count": 5,
   "metadata": {},
   "outputs": [],
   "source": [
    "def binary_search(lst, item):\n",
    "    '''\n",
    "    Args:\n",
    "        lst (list): Sorted list (asc order) where the item needs to be searched\n",
    "        item (int): An int item that needs to be searched in the given list\n",
    "    \n",
    "    Returns:\n",
    "        None or Location of item in the list\n",
    "    '''\n",
    "    \n",
    "    left = 0\n",
    "    right = len(lst) - 1\n",
    "    \n",
    "    while left <= right:\n",
    "        mid = (left + right) // 2\n",
    "        \n",
    "        print(\"mid\", mid)\n",
    "        \n",
    "        if lst[mid] > item:\n",
    "            # item must be in the left region of mid\n",
    "            # update the right end of the search area\n",
    "            right = mid - 1\n",
    "        elif lst[mid] < item:\n",
    "            # item is in the right of mid\n",
    "            left = mid + 1\n",
    "        elif lst[mid] == item:\n",
    "            return mid\n",
    "        \n",
    "    return None\n",
    "\n",
    "        "
   ]
  },
  {
   "cell_type": "code",
   "execution_count": 7,
   "metadata": {},
   "outputs": [
    {
     "name": "stdout",
     "output_type": "stream",
     "text": [
      "mid 4\n",
      "mid 1\n",
      "mid 2\n",
      "result 2\n"
     ]
    }
   ],
   "source": [
    "sorted_list = [1, 4, 9, 10, 14, 23, 54, 56, 60]\n",
    "item_to_search = 9\n",
    "\n",
    "result = binary_search(sorted_list, item_to_search)\n",
    "\n",
    "print(\"result\", result)"
   ]
  },
  {
   "cell_type": "code",
   "execution_count": 13,
   "metadata": {},
   "outputs": [],
   "source": [
    "# recursive binary search\n",
    "\n",
    "def binary_search_recursive(input_list: list, left: int, right: int, num_to_search: int):\n",
    "    # base case, number not found\n",
    "    if right < left:\n",
    "        return -1\n",
    "    \n",
    "    mid = (left + right) // 2\n",
    "    \n",
    "    # number found\n",
    "    if input_list[mid] == num_to_search:\n",
    "        return mid\n",
    "    \n",
    "    elif num_to_search > input_list[mid]:\n",
    "        left = mid + 1\n",
    "    else:\n",
    "        right = mid - 1\n",
    "        \n",
    "    return binary_search_recursive(input_list, left, right, num_to_search)"
   ]
  },
  {
   "cell_type": "code",
   "execution_count": 16,
   "metadata": {},
   "outputs": [
    {
     "name": "stdout",
     "output_type": "stream",
     "text": [
      "result -1\n"
     ]
    }
   ],
   "source": [
    "sorted_list = [1, 4, 9, 10, 14, 23, 54, 56, 60]\n",
    "item_to_search = 0\n",
    "\n",
    "result = binary_search_recursive(sorted_list, 0, len(sorted_list) - 1, item_to_search)\n",
    "\n",
    "print(\"result\", result)"
   ]
  },
  {
   "cell_type": "markdown",
   "metadata": {},
   "source": [
    "## Exercise"
   ]
  },
  {
   "cell_type": "markdown",
   "metadata": {},
   "source": [
    "**Question 1**\n",
    "\n",
    "When I try to find number 5 in below list using binary search, it doesn't work and returns me -1 index. Why is that?\n",
    "\n",
    "`numbers = [1,4,6,9,10,5,7]`"
   ]
  },
  {
   "cell_type": "markdown",
   "metadata": {},
   "source": [
    "**Answer**\n",
    "This is not a sorted list so in first iteration itself, the algorithm will ONLY look in the left sub list and right sub list where 5 is present will never be searched."
   ]
  },
  {
   "cell_type": "markdown",
   "metadata": {},
   "source": [
    "**Question 2**\n",
    "\n",
    "Find index of all the occurances of a number from sorted list\n",
    "\n",
    "```python\n",
    "numbers = [1,4,6,9,11,15,15,15,17,21,34,34,56]\n",
    "number_to_find = 15  \n",
    "```\n",
    "\n",
    "This should return 5,6,7 as indices containing number 15 in the array"
   ]
  },
  {
   "cell_type": "code",
   "execution_count": 23,
   "metadata": {},
   "outputs": [
    {
     "name": "stdout",
     "output_type": "stream",
     "text": [
      "None\n"
     ]
    },
    {
     "data": {
      "text/plain": [
       "[5, 6, 7]"
      ]
     },
     "execution_count": 23,
     "metadata": {},
     "output_type": "execute_result"
    }
   ],
   "source": [
    "\n",
    "def binary_search_recursive(input_list: list, left: int, right: int, num_to_search: int, result: list):\n",
    "    # base case, number not found\n",
    "    if right < left:\n",
    "        return -1\n",
    "\n",
    "    mid = (left + right) // 2\n",
    "\n",
    "    # number found\n",
    "    if input_list[mid] == num_to_search:\n",
    "        result.append(mid)\n",
    "\n",
    "    # elif num_to_search > input_list[mid]:\n",
    "    #     left = mid + 1\n",
    "    # else:\n",
    "    #     right = mid - 1\n",
    "\n",
    "    binary_search_recursive(input_list, mid+1, right, num_to_search, result)\n",
    "    binary_search_recursive(input_list, left, mid-1, num_to_search, result)\n",
    "    \n",
    "\n",
    "numbers = [1, 4, 6, 9, 11, 15, 15, 15, 17, 21, 34, 34, 56]\n",
    "result = []\n",
    "print(binary_search_recursive(numbers, 0, len(numbers)-1, 15, result)\n",
    "      )\n",
    "sorted(result)"
   ]
  }
 ],
 "metadata": {
  "kernelspec": {
   "display_name": "dsai",
   "language": "python",
   "name": "python3"
  },
  "language_info": {
   "codemirror_mode": {
    "name": "ipython",
    "version": 3
   },
   "file_extension": ".py",
   "mimetype": "text/x-python",
   "name": "python",
   "nbconvert_exporter": "python",
   "pygments_lexer": "ipython3",
   "version": "3.13.1"
  }
 },
 "nbformat": 4,
 "nbformat_minor": 2
}
