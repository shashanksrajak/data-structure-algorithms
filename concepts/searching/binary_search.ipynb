{
 "cells": [
  {
   "cell_type": "code",
   "execution_count": 8,
   "metadata": {},
   "outputs": [],
   "source": [
    "def binary_search(lst, item):\n",
    "    '''\n",
    "    Args:\n",
    "        lst (list): Sorted list (asc order) where the item needs to be searched\n",
    "        item (int): An int item that needs to be searched in the given list\n",
    "    \n",
    "    Returns:\n",
    "        None or Location of item in the list\n",
    "    '''\n",
    "    \n",
    "    left = 0\n",
    "    right = len(lst) - 1\n",
    "    \n",
    "    while left <= right:\n",
    "        mid = (left + right) // 2\n",
    "        \n",
    "        print(\"mid\", mid)\n",
    "        \n",
    "        if lst[mid] > item:\n",
    "            # item must be in the left region of mid\n",
    "            # update the right end of the search area\n",
    "            right = mid - 1\n",
    "        elif lst[mid] < item:\n",
    "            # item is in the right of mid\n",
    "            left = mid + 1\n",
    "        elif lst[mid] == item:\n",
    "            return mid\n",
    "        \n",
    "    return None\n",
    "\n",
    "        "
   ]
  },
  {
   "cell_type": "code",
   "execution_count": 10,
   "metadata": {},
   "outputs": [
    {
     "name": "stdout",
     "output_type": "stream",
     "text": [
      "mid 4\n",
      "mid 1\n",
      "mid 2\n",
      "mid 3\n",
      "result None\n"
     ]
    }
   ],
   "source": [
    "sorted_list = [1, 4, 9, 10, 14, 23, 54, 56, 60]\n",
    "item_to_search = 11\n",
    "\n",
    "result = binary_search(sorted_list, item_to_search)\n",
    "\n",
    "print(\"result\", result)"
   ]
  }
 ],
 "metadata": {
  "kernelspec": {
   "display_name": "dsai",
   "language": "python",
   "name": "python3"
  },
  "language_info": {
   "codemirror_mode": {
    "name": "ipython",
    "version": 3
   },
   "file_extension": ".py",
   "mimetype": "text/x-python",
   "name": "python",
   "nbconvert_exporter": "python",
   "pygments_lexer": "ipython3",
   "version": "3.13.1"
  }
 },
 "nbformat": 4,
 "nbformat_minor": 2
}
