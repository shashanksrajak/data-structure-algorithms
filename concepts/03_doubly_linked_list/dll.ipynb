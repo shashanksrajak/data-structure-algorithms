{
 "cells": [
  {
   "cell_type": "code",
   "execution_count": 87,
   "id": "74405b89",
   "metadata": {},
   "outputs": [],
   "source": [
    "class Node:\n",
    "    def __init__(self, value):\n",
    "        self.value = value\n",
    "        self.next = None\n",
    "        self.prev = None\n",
    "        \n",
    "class DoublyLinkedList:\n",
    "    def __init__(self, value):\n",
    "        new_node = Node(value)\n",
    "        self.head = new_node\n",
    "        self.tail = new_node\n",
    "        self.length = 1\n",
    "    \n",
    "    def print_list(self):\n",
    "        temp = self.head\n",
    "        \n",
    "        while temp is not None:\n",
    "            print(temp.value, end=\"<-->\")\n",
    "            temp = temp.next\n",
    "        print(\"None\\n\")\n",
    "        \n",
    "    def append(self, value):\n",
    "        new_node = Node(value)\n",
    "        \n",
    "        if self.head is None:\n",
    "            self.head = new_node\n",
    "            self.tail = new_node\n",
    "        else:\n",
    "            self.tail.next = new_node\n",
    "            new_node.prev = self.tail\n",
    "            \n",
    "            self.tail = new_node\n",
    "        \n",
    "        self.length += 1\n",
    "                \n",
    "        return True\n",
    "\n",
    "    def pop(self):\n",
    "        \"\"\"\n",
    "        Removes the last node from list\n",
    "        \"\"\"\n",
    "        temp = None\n",
    "        \n",
    "        if self.head is None:\n",
    "            return None\n",
    "        elif self.head is self.tail:\n",
    "            temp = self.head\n",
    "            self.head = None\n",
    "            self.tail = None\n",
    "        else:\n",
    "            temp = self.tail\n",
    "            # shift the tail\n",
    "            self.tail = temp.prev\n",
    "            \n",
    "            # break the link\n",
    "            self.tail.next = None\n",
    "            temp.prev = None\n",
    "            \n",
    "        \n",
    "        self.length -= 1\n",
    "        return temp\n",
    "    \n",
    "    def prepend(self, value):\n",
    "        \"\"\"\n",
    "        Adds a Node to the beginning of the list\n",
    "        \"\"\"\n",
    "        new_node = Node(value)\n",
    "        \n",
    "        if self.length == 0:\n",
    "            self.head = new_node\n",
    "            self.tail = new_node\n",
    "        else:\n",
    "            new_node.next = self.head\n",
    "            self.head.prev = new_node\n",
    "            self.head = new_node\n",
    "        \n",
    "        self.length += 1\n",
    "        \n",
    "        return True\n",
    "    \n",
    "    def pop_first(self):\n",
    "        if self.length == 0:\n",
    "            return None\n",
    "        \n",
    "        temp = self.head\n",
    "\n",
    "        if self.length == 1:\n",
    "            self.head = None\n",
    "            self.tail = None\n",
    "        else:    \n",
    "            self.head = temp.next\n",
    "            \n",
    "            # unlink\n",
    "            temp.next = None\n",
    "            self.head.prev = None\n",
    "        \n",
    "        self.length -= 1\n",
    "        \n",
    "        return temp\n",
    "    \n",
    "    def get(self, index):\n",
    "        if index < 0 or index >= self.length or index is float:\n",
    "            return None\n",
    "        \n",
    "        temp = self.head\n",
    "        if index < self.length / 2:\n",
    "            # first half so start from head\n",
    "            for _ in range(index):\n",
    "                temp = temp.next\n",
    "        else:\n",
    "            # second half; reverse traversal\n",
    "            temp = self.tail\n",
    "            for _ in range(self.length - 1, index, -1):\n",
    "                temp = temp.prev\n",
    "        \n",
    "        return temp\n",
    "                \n",
    "    def set_value(self, index, value):\n",
    "        node = self.get(index)\n",
    "        \n",
    "        if node:\n",
    "            node.value = value\n",
    "            return True\n",
    "        else:\n",
    "            return False\n",
    "        \n",
    "    def insert(self, index, value):\n",
    "        if index == 0:\n",
    "           return self.prepend(value)\n",
    "       \n",
    "        if index == self.length:\n",
    "            return self.append(value)\n",
    "       \n",
    "        after = self.get(index)\n",
    "        \n",
    "        if after:\n",
    "            new_node = Node(value)\n",
    "            prev = after.prev\n",
    "            \n",
    "            new_node.next = after\n",
    "            new_node.prev = prev\n",
    "            \n",
    "            after.prev = new_node\n",
    "            prev.next = new_node\n",
    "            \n",
    "            self.length += 1            \n",
    "            \n",
    "            return True\n",
    "            \n",
    "        else:\n",
    "            return None\n",
    "        \n",
    "    def remove(self, index):\n",
    "            \n",
    "        if index < 0  or index >= self.length:\n",
    "            return None\n",
    "        \n",
    "        if index == 0:\n",
    "            return self.pop_first()\n",
    "        if index == self.length - 1:\n",
    "            return self.pop()\n",
    "        \n",
    "        temp = self.get(index)\n",
    "        \n",
    "        temp.next.prev = temp.prev\n",
    "        temp.prev.next = temp.next\n",
    "        \n",
    "        temp.next = None\n",
    "        temp.prev = None\n",
    "        \n",
    "        self.length -= 1\n",
    "        return True\n",
    "        \n",
    "        \n",
    "            \n",
    "        \n",
    "        "
   ]
  },
  {
   "cell_type": "code",
   "execution_count": 88,
   "id": "5e44b7e0",
   "metadata": {},
   "outputs": [
    {
     "name": "stdout",
     "output_type": "stream",
     "text": [
      "10<-->None\n",
      "\n"
     ]
    }
   ],
   "source": [
    "dll = DoublyLinkedList(10)\n",
    "\n",
    "dll.print_list()"
   ]
  },
  {
   "cell_type": "code",
   "execution_count": 89,
   "id": "24f8f810",
   "metadata": {},
   "outputs": [
    {
     "name": "stdout",
     "output_type": "stream",
     "text": [
      "10<-->12<-->15<-->20<-->None\n",
      "\n"
     ]
    }
   ],
   "source": [
    "dll.append(12)\n",
    "dll.append(15)\n",
    "dll.append(20)\n",
    "dll.print_list()"
   ]
  },
  {
   "cell_type": "code",
   "execution_count": 90,
   "id": "b522f727",
   "metadata": {},
   "outputs": [
    {
     "data": {
      "text/plain": [
       "<__main__.Node at 0x121349cd0>"
      ]
     },
     "execution_count": 90,
     "metadata": {},
     "output_type": "execute_result"
    }
   ],
   "source": [
    "dll.pop()"
   ]
  },
  {
   "cell_type": "code",
   "execution_count": 91,
   "id": "8431732d",
   "metadata": {},
   "outputs": [
    {
     "name": "stdout",
     "output_type": "stream",
     "text": [
      "98<-->10<-->12<-->15<-->None\n",
      "\n"
     ]
    }
   ],
   "source": [
    "dll.prepend(98)\n",
    "dll.print_list()"
   ]
  },
  {
   "cell_type": "code",
   "execution_count": 92,
   "id": "2f972d3a",
   "metadata": {},
   "outputs": [
    {
     "name": "stdout",
     "output_type": "stream",
     "text": [
      "10<-->12<-->15<-->None\n",
      "\n"
     ]
    }
   ],
   "source": [
    "dll.pop_first()\n",
    "dll.print_list()"
   ]
  },
  {
   "cell_type": "code",
   "execution_count": 93,
   "id": "c87788bd",
   "metadata": {},
   "outputs": [
    {
     "data": {
      "text/plain": [
       "12"
      ]
     },
     "execution_count": 93,
     "metadata": {},
     "output_type": "execute_result"
    }
   ],
   "source": [
    "dll.get(1).value"
   ]
  },
  {
   "cell_type": "code",
   "execution_count": 94,
   "id": "25b32306",
   "metadata": {},
   "outputs": [
    {
     "name": "stdout",
     "output_type": "stream",
     "text": [
      "10<-->12<-->28<-->None\n",
      "\n"
     ]
    }
   ],
   "source": [
    "dll.set_value(2, 28)\n",
    "dll.print_list()"
   ]
  },
  {
   "cell_type": "code",
   "execution_count": 95,
   "id": "39d97031",
   "metadata": {},
   "outputs": [
    {
     "name": "stdout",
     "output_type": "stream",
     "text": [
      "10<-->88<-->12<-->28<-->None\n",
      "\n"
     ]
    }
   ],
   "source": [
    "dll.insert(1, 88)\n",
    "dll.print_list()"
   ]
  },
  {
   "cell_type": "code",
   "execution_count": 96,
   "id": "0ae6d021",
   "metadata": {},
   "outputs": [
    {
     "name": "stdout",
     "output_type": "stream",
     "text": [
      "10<-->88<-->28<-->None\n",
      "\n"
     ]
    }
   ],
   "source": [
    "dll.remove(2)\n",
    "dll.print_list()"
   ]
  }
 ],
 "metadata": {
  "kernelspec": {
   "display_name": "dsai",
   "language": "python",
   "name": "python3"
  },
  "language_info": {
   "codemirror_mode": {
    "name": "ipython",
    "version": 3
   },
   "file_extension": ".py",
   "mimetype": "text/x-python",
   "name": "python",
   "nbconvert_exporter": "python",
   "pygments_lexer": "ipython3",
   "version": "3.13.1"
  }
 },
 "nbformat": 4,
 "nbformat_minor": 5
}
