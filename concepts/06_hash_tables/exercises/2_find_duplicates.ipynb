{
 "cells": [
  {
   "cell_type": "code",
   "execution_count": null,
   "id": "ed22e917",
   "metadata": {},
   "outputs": [],
   "source": [
    "def find_duplicates(nums):\n",
    "    count = {}\n",
    "\n",
    "    for num in nums:\n",
    "        if num not in count:\n",
    "            count[num] = 1\n",
    "        else:\n",
    "            count[num] += 1\n",
    "            \n",
    "        # count[num] = num_counts.get(num, 0) + 1\n",
    "\n",
    "\n",
    "    output = []\n",
    "    for key, value in count.items():\n",
    "        if value > 1:\n",
    "            output.append(key)\n",
    "\n",
    "    return output"
   ]
  },
  {
   "cell_type": "code",
   "execution_count": 7,
   "id": "f6314ad0",
   "metadata": {},
   "outputs": [
    {
     "name": "stdout",
     "output_type": "stream",
     "text": [
      "[]\n",
      "[1, 2]\n",
      "[1]\n",
      "[3, 4]\n",
      "[1, 2, 3]\n",
      "[1, 2, 3]\n",
      "[]\n"
     ]
    }
   ],
   "source": [
    "print(find_duplicates([1, 2, 3, 4, 5]))\n",
    "print(find_duplicates([1, 1, 2, 2, 3]))\n",
    "print(find_duplicates([1, 1, 1, 1, 1]))\n",
    "print(find_duplicates([1, 2, 3, 3, 3, 4, 4, 5]))\n",
    "print(find_duplicates([1, 1, 2, 2, 2, 3, 3, 3, 3]))\n",
    "print(find_duplicates([1, 1, 1, 2, 2, 2, 3, 3, 3, 3]))\n",
    "print (find_duplicates([]) )"
   ]
  }
 ],
 "metadata": {
  "kernelspec": {
   "display_name": "dsai",
   "language": "python",
   "name": "python3"
  },
  "language_info": {
   "codemirror_mode": {
    "name": "ipython",
    "version": 3
   },
   "file_extension": ".py",
   "mimetype": "text/x-python",
   "name": "python",
   "nbconvert_exporter": "python",
   "pygments_lexer": "ipython3",
   "version": "3.13.1"
  }
 },
 "nbformat": 4,
 "nbformat_minor": 5
}
