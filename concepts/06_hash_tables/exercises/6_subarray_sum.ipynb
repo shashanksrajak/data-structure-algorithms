{
 "cells": [
  {
   "cell_type": "code",
   "execution_count": 3,
   "id": "28dafaf2",
   "metadata": {},
   "outputs": [],
   "source": [
    "def subarray_sum(nums, target):\n",
    "    sum_index = {0: -1}\n",
    "    current_sum = 0\n",
    "    for i, num in enumerate(nums):\n",
    "        current_sum += num\n",
    "        if current_sum - target in sum_index:\n",
    "            return [sum_index[current_sum - target] + 1, i]\n",
    "        sum_index[current_sum] = i\n",
    "        print(sum_index)\n",
    "    return []"
   ]
  },
  {
   "cell_type": "markdown",
   "id": "35bafe04",
   "metadata": {},
   "source": [
    "This approach uses a technique often referred to as \"prefix sum\" and has a time complexity of O(n),"
   ]
  },
  {
   "cell_type": "code",
   "execution_count": 4,
   "id": "39f3702b",
   "metadata": {},
   "outputs": [
    {
     "name": "stdout",
     "output_type": "stream",
     "text": [
      "{0: -1, 1: 0}\n",
      "{0: -1, 1: 0, 3: 1}\n",
      "{0: -1, 1: 0, 3: 1, 6: 2}\n",
      "[1, 3]\n"
     ]
    }
   ],
   "source": [
    "nums = [1, 2, 3, 4, 5]\n",
    "target = 9\n",
    "print(subarray_sum(nums, target))"
   ]
  },
  {
   "cell_type": "code",
   "execution_count": 2,
   "id": "0959fa02",
   "metadata": {},
   "outputs": [
    {
     "name": "stdout",
     "output_type": "stream",
     "text": [
      "[1, 3]\n",
      "[0, 3]\n",
      "[1, 1]\n",
      "[]\n"
     ]
    }
   ],
   "source": [
    "\n",
    "nums = [1, 2, 3, 4, 5]\n",
    "target = 9\n",
    "print(subarray_sum(nums, target))\n",
    "\n",
    "nums = [-1, 2, 3, -4, 5]\n",
    "target = 0\n",
    "print(subarray_sum(nums, target))\n",
    "\n",
    "nums = [2, 3, 4, 5, 6]\n",
    "target = 3\n",
    "print(subarray_sum(nums, target))\n",
    "\n",
    "nums = []\n",
    "target = 0\n",
    "print (subarray_sum(nums, target) )"
   ]
  }
 ],
 "metadata": {
  "kernelspec": {
   "display_name": "dsai",
   "language": "python",
   "name": "python3"
  },
  "language_info": {
   "codemirror_mode": {
    "name": "ipython",
    "version": 3
   },
   "file_extension": ".py",
   "mimetype": "text/x-python",
   "name": "python",
   "nbconvert_exporter": "python",
   "pygments_lexer": "ipython3",
   "version": "3.13.1"
  }
 },
 "nbformat": 4,
 "nbformat_minor": 5
}
