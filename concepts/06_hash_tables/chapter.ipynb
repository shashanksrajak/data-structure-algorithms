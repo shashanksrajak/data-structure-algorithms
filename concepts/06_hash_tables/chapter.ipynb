{
 "cells": [
  {
   "cell_type": "markdown",
   "id": "772bca2d",
   "metadata": {},
   "source": [
    "### Hash Tables"
   ]
  },
  {
   "cell_type": "code",
   "execution_count": 45,
   "id": "992d9463",
   "metadata": {},
   "outputs": [],
   "source": [
    "class HashTable:\n",
    "    def __init__(self, size):\n",
    "        self.data_map = [None] * size\n",
    "    \n",
    "    def __hash(self, key):\n",
    "        my_hash = 0\n",
    "        \n",
    "        for letter in key:\n",
    "            my_hash = (my_hash + ord(letter) * 23) % len(self.data_map)\n",
    "        return my_hash\n",
    "    \n",
    "    def set_item(self, key, value):\n",
    "        if type(key) is not str:\n",
    "            raise Exception('Only string allowed in key')\n",
    "        \n",
    "        index = self.__hash(key)\n",
    "        \n",
    "        if self.data_map[index] == None:\n",
    "            self.data_map[index] = []\n",
    "        self.data_map[index].append([key, value])\n",
    "    \n",
    "    def get_item(self, key):\n",
    "        if type(key) is not str:\n",
    "            raise Exception('Only string allowed in key')\n",
    "        \n",
    "        index = self.__hash(key)\n",
    "        \n",
    "        if self.data_map[index] is not None:\n",
    "            # two things - one element or multiple elements\n",
    "            for item in (self.data_map[index]):\n",
    "                if item[0] == key:\n",
    "                    return item[1]\n",
    "                \n",
    "        return None\n",
    "    \n",
    "    def keys(self):\n",
    "        all_keys = []\n",
    "        \n",
    "        for i in range(len(self.data_map)):\n",
    "            if self.data_map[i] is not None:\n",
    "                for j in range(len(self.data_map[i])):\n",
    "                    all_keys.append(self.data_map[i][j][0])\n",
    "        return all_keys\n",
    "        \n",
    "\n",
    "    def print_table(self):\n",
    "        for k,v in enumerate(self.data_map):\n",
    "            print(k, \":\", v)\n",
    "        "
   ]
  },
  {
   "cell_type": "code",
   "execution_count": 46,
   "id": "d5534173",
   "metadata": {},
   "outputs": [
    {
     "name": "stdout",
     "output_type": "stream",
     "text": [
      "0 : None\n",
      "1 : None\n",
      "2 : None\n",
      "3 : None\n",
      "4 : None\n",
      "5 : None\n",
      "6 : None\n"
     ]
    }
   ],
   "source": [
    "my_hashmap = HashTable(7)\n",
    "\n",
    "my_hashmap.print_table()"
   ]
  },
  {
   "cell_type": "code",
   "execution_count": 47,
   "id": "060841a5",
   "metadata": {},
   "outputs": [
    {
     "name": "stdout",
     "output_type": "stream",
     "text": [
      "0 : None\n",
      "1 : [['name', 'Shashank']]\n",
      "2 : None\n",
      "3 : None\n",
      "4 : None\n",
      "5 : None\n",
      "6 : None\n"
     ]
    }
   ],
   "source": [
    "my_hashmap.set_item(\"name\", \"Shashank\")\n",
    "\n",
    "my_hashmap.print_table()"
   ]
  },
  {
   "cell_type": "code",
   "execution_count": 31,
   "id": "6dbe3090",
   "metadata": {},
   "outputs": [
    {
     "ename": "Exception",
     "evalue": "Only string allowed in key",
     "output_type": "error",
     "traceback": [
      "\u001b[0;31m---------------------------------------------------------------------------\u001b[0m",
      "\u001b[0;31mException\u001b[0m                                 Traceback (most recent call last)",
      "Cell \u001b[0;32mIn[31], line 1\u001b[0m\n\u001b[0;32m----> 1\u001b[0m \u001b[43mmy_hashmap\u001b[49m\u001b[38;5;241;43m.\u001b[39;49m\u001b[43mset_item\u001b[49m\u001b[43m(\u001b[49m\u001b[38;5;241;43m7\u001b[39;49m\u001b[43m,\u001b[49m\u001b[43m \u001b[49m\u001b[38;5;124;43m\"\u001b[39;49m\u001b[38;5;124;43mNumber\u001b[39;49m\u001b[38;5;124;43m\"\u001b[39;49m\u001b[43m)\u001b[49m\n",
      "Cell \u001b[0;32mIn[19], line 14\u001b[0m, in \u001b[0;36mHashTable.set_item\u001b[0;34m(self, key, value)\u001b[0m\n\u001b[1;32m     12\u001b[0m \u001b[38;5;28;01mdef\u001b[39;00m \u001b[38;5;21mset_item\u001b[39m(\u001b[38;5;28mself\u001b[39m, key, value):\n\u001b[1;32m     13\u001b[0m     \u001b[38;5;28;01mif\u001b[39;00m \u001b[38;5;28mtype\u001b[39m(key) \u001b[38;5;129;01mis\u001b[39;00m \u001b[38;5;129;01mnot\u001b[39;00m \u001b[38;5;28mstr\u001b[39m:\n\u001b[0;32m---> 14\u001b[0m         \u001b[38;5;28;01mraise\u001b[39;00m \u001b[38;5;167;01mException\u001b[39;00m(\u001b[38;5;124m'\u001b[39m\u001b[38;5;124mOnly string allowed in key\u001b[39m\u001b[38;5;124m'\u001b[39m)\n\u001b[1;32m     16\u001b[0m     index \u001b[38;5;241m=\u001b[39m \u001b[38;5;28mself\u001b[39m\u001b[38;5;241m.\u001b[39m__hash(key)\n\u001b[1;32m     18\u001b[0m     \u001b[38;5;28;01mif\u001b[39;00m \u001b[38;5;28mself\u001b[39m\u001b[38;5;241m.\u001b[39mdata_map[index] \u001b[38;5;241m==\u001b[39m \u001b[38;5;28;01mNone\u001b[39;00m:\n",
      "\u001b[0;31mException\u001b[0m: Only string allowed in key"
     ]
    }
   ],
   "source": [
    "my_hashmap.set_item(7, \"Number\")"
   ]
  },
  {
   "cell_type": "code",
   "execution_count": 48,
   "id": "a339406b",
   "metadata": {},
   "outputs": [
    {
     "name": "stdout",
     "output_type": "stream",
     "text": [
      "0 : None\n",
      "1 : [['name', 'Shashank'], ['name', 'Shashank Rajak']]\n",
      "2 : None\n",
      "3 : None\n",
      "4 : None\n",
      "5 : None\n",
      "6 : None\n"
     ]
    }
   ],
   "source": [
    "my_hashmap.set_item(\"name\", \"Shashank Rajak\")\n",
    "my_hashmap.print_table()"
   ]
  },
  {
   "cell_type": "code",
   "execution_count": 49,
   "id": "bb8a31fe",
   "metadata": {},
   "outputs": [],
   "source": [
    "my_hashmap.set_item(\"bolts\", 1400)\n",
    "my_hashmap.set_item(\"washers\", 50)"
   ]
  },
  {
   "cell_type": "code",
   "execution_count": 50,
   "id": "0d53ad25",
   "metadata": {},
   "outputs": [
    {
     "name": "stdout",
     "output_type": "stream",
     "text": [
      "0 : None\n",
      "1 : [['name', 'Shashank'], ['name', 'Shashank Rajak']]\n",
      "2 : None\n",
      "3 : None\n",
      "4 : [['bolts', 1400], ['washers', 50]]\n",
      "5 : None\n",
      "6 : None\n"
     ]
    }
   ],
   "source": [
    "my_hashmap.print_table()"
   ]
  },
  {
   "cell_type": "code",
   "execution_count": 51,
   "id": "2739bf16",
   "metadata": {},
   "outputs": [
    {
     "data": {
      "text/plain": [
       "50"
      ]
     },
     "execution_count": 51,
     "metadata": {},
     "output_type": "execute_result"
    }
   ],
   "source": [
    "my_hashmap.get_item(\"washers\")"
   ]
  },
  {
   "cell_type": "code",
   "execution_count": 52,
   "id": "73183be6",
   "metadata": {},
   "outputs": [
    {
     "data": {
      "text/plain": [
       "1400"
      ]
     },
     "execution_count": 52,
     "metadata": {},
     "output_type": "execute_result"
    }
   ],
   "source": [
    "my_hashmap.get_item(\"bolts\")"
   ]
  },
  {
   "cell_type": "code",
   "execution_count": null,
   "id": "fabdd29f",
   "metadata": {},
   "outputs": [
    {
     "data": {
      "text/plain": [
       "'Shashank'"
      ]
     },
     "execution_count": 43,
     "metadata": {},
     "output_type": "execute_result"
    }
   ],
   "source": [
    "my_hashmap.get_item(\"name\") # prints the first item, this behavior can be changed"
   ]
  },
  {
   "cell_type": "code",
   "execution_count": 44,
   "id": "11e3edbc",
   "metadata": {},
   "outputs": [],
   "source": [
    "my_hashmap.get_item(\"wonder\")"
   ]
  },
  {
   "cell_type": "code",
   "execution_count": 53,
   "id": "3954d30f",
   "metadata": {},
   "outputs": [
    {
     "data": {
      "text/plain": [
       "['name', 'name', 'bolts', 'washers']"
      ]
     },
     "execution_count": 53,
     "metadata": {},
     "output_type": "execute_result"
    }
   ],
   "source": [
    "my_hashmap.keys()"
   ]
  }
 ],
 "metadata": {
  "kernelspec": {
   "display_name": "dsai",
   "language": "python",
   "name": "python3"
  },
  "language_info": {
   "codemirror_mode": {
    "name": "ipython",
    "version": 3
   },
   "file_extension": ".py",
   "mimetype": "text/x-python",
   "name": "python",
   "nbconvert_exporter": "python",
   "pygments_lexer": "ipython3",
   "version": "3.13.1"
  }
 },
 "nbformat": 4,
 "nbformat_minor": 5
}
