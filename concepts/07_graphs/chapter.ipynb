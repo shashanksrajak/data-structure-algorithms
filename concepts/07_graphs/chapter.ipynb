{
 "cells": [
  {
   "cell_type": "markdown",
   "id": "7fa76e3d",
   "metadata": {},
   "source": [
    "## Graphs"
   ]
  },
  {
   "cell_type": "code",
   "execution_count": 18,
   "id": "971f9604",
   "metadata": {},
   "outputs": [],
   "source": [
    "class Graph:\n",
    "    def __init__(self):\n",
    "        self.adj_list = {}\n",
    "    \n",
    "    def add_vertex(self, vertex):\n",
    "        # do not add duplicate vertex\n",
    "        if vertex not in self.adj_list.keys():\n",
    "            self.adj_list[vertex] = []\n",
    "            return True\n",
    "        return False\n",
    "    \n",
    "    def print_graph(self):\n",
    "        print(self.adj_list)\n",
    "    \n",
    "    # TODO: there should be a way to check if vertices exist in the list of a vertex\n",
    "    def add_edge(self, v1, v2):\n",
    "        if v1 in self.adj_list.keys() and v2 in self.adj_list.keys():\n",
    "            self.adj_list[v1].append(v2)\n",
    "            self.adj_list[v2].append(v1)\n",
    "            return True\n",
    "        return False\n",
    "    \n",
    "    def remove_edge(self, v1, v2):\n",
    "        if v1 in self.adj_list.keys() and v2 in self.adj_list.keys():\n",
    "            try:\n",
    "                self.adj_list[v1].remove(v2)\n",
    "                self.adj_list[v2].remove(v1)\n",
    "            except ValueError:\n",
    "                pass\n",
    "            return True\n",
    "        return False\n",
    "    \n",
    "    def remove_vertex(self, vertex):\n",
    "        if vertex in self.adj_list:\n",
    "            for other_vertex in self.adj_list[vertex]:\n",
    "                self.adj_list[other_vertex].remove(vertex)\n",
    "            del self.adj_list[vertex]\n",
    "            return True\n",
    "        return False"
   ]
  },
  {
   "cell_type": "code",
   "execution_count": 19,
   "id": "09492b0b",
   "metadata": {},
   "outputs": [
    {
     "name": "stdout",
     "output_type": "stream",
     "text": [
      "{'A': [], 'B': []}\n"
     ]
    }
   ],
   "source": [
    "my_graph = Graph()\n",
    "\n",
    "my_graph.add_vertex('A')\n",
    "my_graph.add_vertex('B')\n",
    "\n",
    "my_graph.print_graph()"
   ]
  },
  {
   "cell_type": "code",
   "execution_count": 20,
   "id": "8cf55227",
   "metadata": {},
   "outputs": [
    {
     "data": {
      "text/plain": [
       "True"
      ]
     },
     "execution_count": 20,
     "metadata": {},
     "output_type": "execute_result"
    }
   ],
   "source": [
    "my_graph.add_edge('A', 'B') # if we invoke this function multiple times, edge gets added again, check this"
   ]
  },
  {
   "cell_type": "code",
   "execution_count": 21,
   "id": "a0e04d8b",
   "metadata": {},
   "outputs": [
    {
     "name": "stdout",
     "output_type": "stream",
     "text": [
      "{'A': ['B'], 'B': ['A']}\n"
     ]
    }
   ],
   "source": [
    "my_graph.print_graph()"
   ]
  },
  {
   "cell_type": "code",
   "execution_count": 22,
   "id": "09579ba6",
   "metadata": {},
   "outputs": [
    {
     "name": "stdout",
     "output_type": "stream",
     "text": [
      "{'A': [], 'B': []}\n"
     ]
    }
   ],
   "source": [
    "my_graph.remove_edge('A', 'B')\n",
    "my_graph.print_graph()"
   ]
  },
  {
   "cell_type": "code",
   "execution_count": 23,
   "id": "cc449518",
   "metadata": {},
   "outputs": [
    {
     "data": {
      "text/plain": [
       "True"
      ]
     },
     "execution_count": 23,
     "metadata": {},
     "output_type": "execute_result"
    }
   ],
   "source": [
    "my_graph.add_edge('A', 'B')"
   ]
  },
  {
   "cell_type": "code",
   "execution_count": 24,
   "id": "75b2bff2",
   "metadata": {},
   "outputs": [
    {
     "name": "stdout",
     "output_type": "stream",
     "text": [
      "{'A': ['B'], 'B': ['A']}\n"
     ]
    }
   ],
   "source": [
    "my_graph.print_graph()"
   ]
  },
  {
   "cell_type": "code",
   "execution_count": 25,
   "id": "c3b3a424",
   "metadata": {},
   "outputs": [
    {
     "name": "stdout",
     "output_type": "stream",
     "text": [
      "{'B': []}\n"
     ]
    }
   ],
   "source": [
    "my_graph.remove_vertex('A')\n",
    "\n",
    "my_graph.print_graph()"
   ]
  }
 ],
 "metadata": {
  "kernelspec": {
   "display_name": "dsai",
   "language": "python",
   "name": "python3"
  },
  "language_info": {
   "codemirror_mode": {
    "name": "ipython",
    "version": 3
   },
   "file_extension": ".py",
   "mimetype": "text/x-python",
   "name": "python",
   "nbconvert_exporter": "python",
   "pygments_lexer": "ipython3",
   "version": "3.13.1"
  }
 },
 "nbformat": 4,
 "nbformat_minor": 5
}
