{
 "cells": [
  {
   "cell_type": "markdown",
   "id": "6723d4d8",
   "metadata": {},
   "source": [
    "## Quick Sort\n",
    "\n",
    "Key points\n",
    "- Pivot \n",
    "- left sublist < Pivot < right sublist\n",
    "- divide n conquer; recursion\n",
    "- O(n*log(n))"
   ]
  },
  {
   "cell_type": "code",
   "execution_count": 5,
   "id": "20900219",
   "metadata": {},
   "outputs": [],
   "source": [
    "def swap(a, b, input_list):\n",
    "    input_list[a], input_list[b] = input_list[b], input_list[a]\n",
    "\n",
    "def partition(input_list: list, start, end):\n",
    "    pivot_index = 0\n",
    "    start = pivot_index + 1\n",
    "    end = len(input_list) - 1\n",
    "    \n",
    "    # left partition should be < pivot and\n",
    "    # right parition should be > pivot\n",
    "    # we will compare left and right with pivot and if we find left > pivot or right < pivot then we swap them\n",
    "    # so we have to put Pivot somewhere between left and right partition (b/w start and end)\n",
    "    while end > start:\n",
    "        while input_list[start] <= input_list[pivot_index] and start < len(input_list):\n",
    "            start += 1\n",
    "            \n",
    "        while input_list[end] > input_list[pivot_index]:\n",
    "            end -= 1\n",
    "    \n",
    "        # swap pivot with the end element (which will be at the smallest value on right partition)\n",
    "        if end > start:\n",
    "            swap(start, end, input_list)\n",
    "    swap(pivot_index, end, input_list)\n",
    "    \n",
    "    return end\n",
    "    \n",
    "\n",
    "def quick_sort(input_list: list, start, end):\n",
    "    while start < end:\n",
    "        pi = partition(input_list, start, end)\n",
    "        quick_sort(input_list, start, pi-1)\n",
    "        quick_sort(input_list, pi+1, end)\n",
    "    "
   ]
  },
  {
   "cell_type": "code",
   "execution_count": 6,
   "id": "31e55188",
   "metadata": {},
   "outputs": [
    {
     "ename": "RecursionError",
     "evalue": "maximum recursion depth exceeded",
     "output_type": "error",
     "traceback": [
      "\u001b[0;31m---------------------------------------------------------------------------\u001b[0m",
      "\u001b[0;31mRecursionError\u001b[0m                            Traceback (most recent call last)",
      "Cell \u001b[0;32mIn[6], line 3\u001b[0m\n\u001b[1;32m      1\u001b[0m elements \u001b[38;5;241m=\u001b[39m [\u001b[38;5;241m11\u001b[39m,\u001b[38;5;241m9\u001b[39m,\u001b[38;5;241m29\u001b[39m,\u001b[38;5;241m7\u001b[39m,\u001b[38;5;241m2\u001b[39m,\u001b[38;5;241m15\u001b[39m,\u001b[38;5;241m28\u001b[39m]\n\u001b[1;32m      2\u001b[0m     \u001b[38;5;66;03m# elements = [\"mona\", \"dhaval\", \"aamir\", \"tina\", \"chang\"]\u001b[39;00m\n\u001b[0;32m----> 3\u001b[0m \u001b[43mquick_sort\u001b[49m\u001b[43m(\u001b[49m\u001b[43melements\u001b[49m\u001b[43m,\u001b[49m\u001b[43m \u001b[49m\u001b[38;5;241;43m0\u001b[39;49m\u001b[43m,\u001b[49m\u001b[43m \u001b[49m\u001b[38;5;28;43mlen\u001b[39;49m\u001b[43m(\u001b[49m\u001b[43melements\u001b[49m\u001b[43m)\u001b[49m\u001b[38;5;241;43m-\u001b[39;49m\u001b[38;5;241;43m1\u001b[39;49m\u001b[43m)\u001b[49m\n\u001b[1;32m      4\u001b[0m \u001b[38;5;28mprint\u001b[39m(elements)\n",
      "Cell \u001b[0;32mIn[5], line 31\u001b[0m, in \u001b[0;36mquick_sort\u001b[0;34m(input_list, start, end)\u001b[0m\n\u001b[1;32m     29\u001b[0m \u001b[38;5;28;01mwhile\u001b[39;00m start \u001b[38;5;241m<\u001b[39m end:\n\u001b[1;32m     30\u001b[0m     pi \u001b[38;5;241m=\u001b[39m partition(input_list, start, end)\n\u001b[0;32m---> 31\u001b[0m     \u001b[43mquick_sort\u001b[49m\u001b[43m(\u001b[49m\u001b[43minput_list\u001b[49m\u001b[43m,\u001b[49m\u001b[43m \u001b[49m\u001b[43mstart\u001b[49m\u001b[43m,\u001b[49m\u001b[43m \u001b[49m\u001b[43mpi\u001b[49m\u001b[38;5;241;43m-\u001b[39;49m\u001b[38;5;241;43m1\u001b[39;49m\u001b[43m)\u001b[49m\n\u001b[1;32m     32\u001b[0m     quick_sort(input_list, pi\u001b[38;5;241m+\u001b[39m\u001b[38;5;241m1\u001b[39m, end)\n",
      "Cell \u001b[0;32mIn[5], line 32\u001b[0m, in \u001b[0;36mquick_sort\u001b[0;34m(input_list, start, end)\u001b[0m\n\u001b[1;32m     30\u001b[0m pi \u001b[38;5;241m=\u001b[39m partition(input_list, start, end)\n\u001b[1;32m     31\u001b[0m quick_sort(input_list, start, pi\u001b[38;5;241m-\u001b[39m\u001b[38;5;241m1\u001b[39m)\n\u001b[0;32m---> 32\u001b[0m \u001b[43mquick_sort\u001b[49m\u001b[43m(\u001b[49m\u001b[43minput_list\u001b[49m\u001b[43m,\u001b[49m\u001b[43m \u001b[49m\u001b[43mpi\u001b[49m\u001b[38;5;241;43m+\u001b[39;49m\u001b[38;5;241;43m1\u001b[39;49m\u001b[43m,\u001b[49m\u001b[43m \u001b[49m\u001b[43mend\u001b[49m\u001b[43m)\u001b[49m\n",
      "Cell \u001b[0;32mIn[5], line 32\u001b[0m, in \u001b[0;36mquick_sort\u001b[0;34m(input_list, start, end)\u001b[0m\n\u001b[1;32m     30\u001b[0m pi \u001b[38;5;241m=\u001b[39m partition(input_list, start, end)\n\u001b[1;32m     31\u001b[0m quick_sort(input_list, start, pi\u001b[38;5;241m-\u001b[39m\u001b[38;5;241m1\u001b[39m)\n\u001b[0;32m---> 32\u001b[0m \u001b[43mquick_sort\u001b[49m\u001b[43m(\u001b[49m\u001b[43minput_list\u001b[49m\u001b[43m,\u001b[49m\u001b[43m \u001b[49m\u001b[43mpi\u001b[49m\u001b[38;5;241;43m+\u001b[39;49m\u001b[38;5;241;43m1\u001b[39;49m\u001b[43m,\u001b[49m\u001b[43m \u001b[49m\u001b[43mend\u001b[49m\u001b[43m)\u001b[49m\n",
      "    \u001b[0;31m[... skipping similar frames: quick_sort at line 32 (2971 times)]\u001b[0m\n",
      "Cell \u001b[0;32mIn[5], line 32\u001b[0m, in \u001b[0;36mquick_sort\u001b[0;34m(input_list, start, end)\u001b[0m\n\u001b[1;32m     30\u001b[0m pi \u001b[38;5;241m=\u001b[39m partition(input_list, start, end)\n\u001b[1;32m     31\u001b[0m quick_sort(input_list, start, pi\u001b[38;5;241m-\u001b[39m\u001b[38;5;241m1\u001b[39m)\n\u001b[0;32m---> 32\u001b[0m \u001b[43mquick_sort\u001b[49m\u001b[43m(\u001b[49m\u001b[43minput_list\u001b[49m\u001b[43m,\u001b[49m\u001b[43m \u001b[49m\u001b[43mpi\u001b[49m\u001b[38;5;241;43m+\u001b[39;49m\u001b[38;5;241;43m1\u001b[39;49m\u001b[43m,\u001b[49m\u001b[43m \u001b[49m\u001b[43mend\u001b[49m\u001b[43m)\u001b[49m\n",
      "Cell \u001b[0;32mIn[5], line 30\u001b[0m, in \u001b[0;36mquick_sort\u001b[0;34m(input_list, start, end)\u001b[0m\n\u001b[1;32m     28\u001b[0m \u001b[38;5;28;01mdef\u001b[39;00m \u001b[38;5;21mquick_sort\u001b[39m(input_list: \u001b[38;5;28mlist\u001b[39m, start, end):\n\u001b[1;32m     29\u001b[0m     \u001b[38;5;28;01mwhile\u001b[39;00m start \u001b[38;5;241m<\u001b[39m end:\n\u001b[0;32m---> 30\u001b[0m         pi \u001b[38;5;241m=\u001b[39m \u001b[43mpartition\u001b[49m\u001b[43m(\u001b[49m\u001b[43minput_list\u001b[49m\u001b[43m,\u001b[49m\u001b[43m \u001b[49m\u001b[43mstart\u001b[49m\u001b[43m,\u001b[49m\u001b[43m \u001b[49m\u001b[43mend\u001b[49m\u001b[43m)\u001b[49m\n\u001b[1;32m     31\u001b[0m         quick_sort(input_list, start, pi\u001b[38;5;241m-\u001b[39m\u001b[38;5;241m1\u001b[39m)\n\u001b[1;32m     32\u001b[0m         quick_sort(input_list, pi\u001b[38;5;241m+\u001b[39m\u001b[38;5;241m1\u001b[39m, end)\n",
      "Cell \u001b[0;32mIn[5], line 23\u001b[0m, in \u001b[0;36mpartition\u001b[0;34m(input_list, start, end)\u001b[0m\n\u001b[1;32m     21\u001b[0m     \u001b[38;5;28;01mif\u001b[39;00m end \u001b[38;5;241m>\u001b[39m start:\n\u001b[1;32m     22\u001b[0m         swap(start, end, input_list)\n\u001b[0;32m---> 23\u001b[0m \u001b[43mswap\u001b[49m\u001b[43m(\u001b[49m\u001b[43mpivot_index\u001b[49m\u001b[43m,\u001b[49m\u001b[43m \u001b[49m\u001b[43mend\u001b[49m\u001b[43m,\u001b[49m\u001b[43m \u001b[49m\u001b[43minput_list\u001b[49m\u001b[43m)\u001b[49m\n\u001b[1;32m     25\u001b[0m \u001b[38;5;28;01mreturn\u001b[39;00m end\n",
      "\u001b[0;31mRecursionError\u001b[0m: maximum recursion depth exceeded"
     ]
    }
   ],
   "source": [
    "elements = [11,9,29,7,2,15,28]\n",
    "    # elements = [\"mona\", \"dhaval\", \"aamir\", \"tina\", \"chang\"]\n",
    "quick_sort(elements, 0, len(elements)-1)\n",
    "print(elements)"
   ]
  }
 ],
 "metadata": {
  "kernelspec": {
   "display_name": "dsai",
   "language": "python",
   "name": "python3"
  },
  "language_info": {
   "codemirror_mode": {
    "name": "ipython",
    "version": 3
   },
   "file_extension": ".py",
   "mimetype": "text/x-python",
   "name": "python",
   "nbconvert_exporter": "python",
   "pygments_lexer": "ipython3",
   "version": "3.13.1"
  }
 },
 "nbformat": 4,
 "nbformat_minor": 5
}
